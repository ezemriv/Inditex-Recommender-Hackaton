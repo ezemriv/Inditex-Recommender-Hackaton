{
 "cells": [
  {
   "cell_type": "markdown",
   "metadata": {},
   "source": [
    "# Task 1\n",
    "\n",
    "Original submission file format:\n",
    "\n",
    "```\n",
    "{'target': {'query_1': {'partnumber': 17265},\n",
    "  'query_2': {'user_id': 34572},\n",
    "  'query_3': {'average_previous_visits': 5.52},\n",
    "  'query_4': {'device_type': 23},\n",
    "  'query_5': {'user_id': 123734},\n",
    "  'query_6': {'unique_families': 2357},\n",
    "  'query_7': {'1': 3, '2': 5, '3': 3, '4': 9, '5': 5, '6': 1}}}\n",
    "```"
   ]
  },
  {
   "cell_type": "code",
   "execution_count": 3,
   "metadata": {},
   "outputs": [],
   "source": [
    "import os\n",
    "import sys\n",
    "\n",
    "# root path\n",
    "ROOT = os.path.abspath(os.path.join(os.getcwd(), '..'))\n",
    "\n",
    "# Add the project root to the Python path\n",
    "if ROOT not in sys.path:\n",
    "    sys.path.append(ROOT)\n",
    "\n",
    "import polars as pl\n",
    "import pandas as pd"
   ]
  },
  {
   "cell_type": "markdown",
   "metadata": {},
   "source": [
    "## Paths"
   ]
  },
  {
   "cell_type": "code",
   "execution_count": 4,
   "metadata": {},
   "outputs": [],
   "source": [
    "DATA_PATH = os.path.join(ROOT, 'data')\n",
    "RAW_DATA_PATH = os.path.join(DATA_PATH, 'raw')\n",
    "\n",
    "USERS_RAW_PATH = os.path.join(RAW_DATA_PATH, 'user_batches')\n",
    "USERS_CLEAN_PATH = os.path.join(DATA_PATH, 'processed', 'users.parquet')\n",
    "\n",
    "TRAIN_PATH = os.path.join(DATA_PATH, 'raw', 'train.csv')\n",
    "\n",
    "PRODUCTS_PATH = os.path.join(DATA_PATH, 'raw', 'products.pkl')\n",
    "\n",
    "SUBMISSION_1_PATH = os.path.join(ROOT, 'predictions', 'example_predictions_1.json')"
   ]
  },
  {
   "cell_type": "code",
   "execution_count": 5,
   "metadata": {},
   "outputs": [],
   "source": [
    "# Load sample submission json\n",
    "import json\n",
    "submission = json.load(open(SUBMISSION_1_PATH))"
   ]
  },
  {
   "cell_type": "markdown",
   "metadata": {},
   "source": [
    "## Query 1\n",
    "\n",
    "Which product (partnumber) with color_id equal to 3 belongs to the lowest family code with a discount?"
   ]
  },
  {
   "cell_type": "code",
   "execution_count": 6,
   "metadata": {},
   "outputs": [],
   "source": [
    "prods = pl.from_pandas(pd.read_pickle(PRODUCTS_PATH))\n",
    "\n",
    "q1 = prods.sql(\"\"\"\n",
    "          SELECT partnumber\n",
    "          FROM self\n",
    "          WHERE color_id = 3\n",
    "          AND discount = 1\n",
    "          AND family = MIN(family)\n",
    "          \"\"\").item()\n",
    "\n",
    "submission['target']['query_1'] = {'partnumber': q1}"
   ]
  },
  {
   "cell_type": "markdown",
   "metadata": {},
   "source": [
    "## Query 2\n",
    "\n",
    "In the country where most users have made purchases totaling less than 500 (M), which is the user with:\n",
    "\n",
    "- Lowest purchase frequency (F)\n",
    "- Most recent purchase (R)\n",
    "- Lowest user_id (tie-breaker)?"
   ]
  },
  {
   "cell_type": "code",
   "execution_count": 7,
   "metadata": {},
   "outputs": [],
   "source": [
    "from src.data.loaders import PolarsLoader\n",
    "\n",
    "loader = PolarsLoader(sampling=False, file_type='parquet')\n",
    "users = loader.load_data(USERS_CLEAN_PATH)"
   ]
  },
  {
   "cell_type": "code",
   "execution_count": 8,
   "metadata": {},
   "outputs": [
    {
     "data": {
      "text/plain": [
       "25"
      ]
     },
     "execution_count": 8,
     "metadata": {},
     "output_type": "execute_result"
    }
   ],
   "source": [
    "country = (users\n",
    "           .filter(pl.col('M') < 500)\n",
    "           .group_by('country')\n",
    "           .len()\n",
    "           .sort(by='len', descending=True)\n",
    "           .head(1)\n",
    "           )['country'].item()\n",
    "country"
   ]
  },
  {
   "cell_type": "code",
   "execution_count": null,
   "metadata": {},
   "outputs": [
    {
     "ename": "AttributeError",
     "evalue": "'Expr' object has no attribute 'asc'",
     "output_type": "error",
     "traceback": [
      "\u001b[0;31m---------------------------------------------------------------------------\u001b[0m",
      "\u001b[0;31mAttributeError\u001b[0m                            Traceback (most recent call last)",
      "Cell \u001b[0;32mIn[9], line 4\u001b[0m\n\u001b[1;32m      1\u001b[0m \u001b[38;5;66;03m# ORDER BY F ASC, R DESC, user_id ASC\u001b[39;00m\n\u001b[1;32m      2\u001b[0m (users\n\u001b[1;32m      3\u001b[0m  \u001b[38;5;241m.\u001b[39mfilter(pl\u001b[38;5;241m.\u001b[39mcol(\u001b[38;5;124m'\u001b[39m\u001b[38;5;124mcountry\u001b[39m\u001b[38;5;124m'\u001b[39m) \u001b[38;5;241m==\u001b[39m country)\n\u001b[0;32m----> 4\u001b[0m  \u001b[38;5;241m.\u001b[39msort(\u001b[43mpl\u001b[49m\u001b[38;5;241;43m.\u001b[39;49m\u001b[43mcol\u001b[49m\u001b[43m(\u001b[49m\u001b[38;5;124;43m'\u001b[39;49m\u001b[38;5;124;43mf\u001b[39;49m\u001b[38;5;124;43m'\u001b[39;49m\u001b[43m)\u001b[49m\u001b[38;5;241;43m.\u001b[39;49m\u001b[43masc\u001b[49m(), pl\u001b[38;5;241m.\u001b[39mcol(\u001b[38;5;124m'\u001b[39m\u001b[38;5;124mr\u001b[39m\u001b[38;5;124m'\u001b[39m)\u001b[38;5;241m.\u001b[39mdesc(), pl\u001b[38;5;241m.\u001b[39mcol(\u001b[38;5;124m'\u001b[39m\u001b[38;5;124muser_id\u001b[39m\u001b[38;5;124m'\u001b[39m)\u001b[38;5;241m.\u001b[39masc())\n\u001b[1;32m      5\u001b[0m )\n",
      "\u001b[0;31mAttributeError\u001b[0m: 'Expr' object has no attribute 'asc'"
     ]
    }
   ],
   "source": [
    "# # ORDER BY F ASC, R DESC, user_id ASC\n",
    "# (users\n",
    "#  .filter(pl.col('country') == country)\n",
    "#  .sort(pl.col('f').asc(), pl.col('r').desc(), pl.col('user_id').asc())\n",
    "# )"
   ]
  },
  {
   "cell_type": "markdown",
   "metadata": {},
   "source": [
    "# Replace submission file"
   ]
  },
  {
   "cell_type": "code",
   "execution_count": 13,
   "metadata": {},
   "outputs": [],
   "source": [
    "with open(SUBMISSION_1_PATH, 'w') as f:\n",
    "    json.dump(submission, f, indent=4)"
   ]
  }
 ],
 "metadata": {
  "kernelspec": {
   "display_name": ".venv",
   "language": "python",
   "name": "python3"
  },
  "language_info": {
   "codemirror_mode": {
    "name": "ipython",
    "version": 3
   },
   "file_extension": ".py",
   "mimetype": "text/x-python",
   "name": "python",
   "nbconvert_exporter": "python",
   "pygments_lexer": "ipython3",
   "version": "3.12.4"
  }
 },
 "nbformat": 4,
 "nbformat_minor": 2
}
