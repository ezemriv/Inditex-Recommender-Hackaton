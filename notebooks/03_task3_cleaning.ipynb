{
 "cells": [
  {
   "cell_type": "markdown",
   "metadata": {},
   "source": [
    "# Imports and paths"
   ]
  },
  {
   "cell_type": "code",
   "execution_count": 6,
   "metadata": {},
   "outputs": [],
   "source": [
    "import os\n",
    "import sys\n",
    "\n",
    "# root path\n",
    "ROOT = os.path.abspath(os.path.join(os.getcwd(), '..'))\n",
    "\n",
    "# Add the project root to the Python path\n",
    "if ROOT not in sys.path:\n",
    "    sys.path.append(ROOT)\n",
    "\n",
    "import polars as pl\n",
    "import pandas as pd\n",
    "import numpy as np\n",
    "import json"
   ]
  },
  {
   "cell_type": "code",
   "execution_count": 2,
   "metadata": {},
   "outputs": [],
   "source": [
    "from config import TRAIN_PARQUET_PATH, TEST_PARQUET_PATH, PRODUCTS_PARQUET_PATH, USERS_DATA_PATH, PRODUCTS_PARQUET_PATH_IMPUTED, ALL_PRODS_TRAINTEST_PATH\n",
    "from src.data.loaders import PolarsLoader"
   ]
  },
  {
   "cell_type": "markdown",
   "metadata": {},
   "source": [
    "## Products"
   ]
  },
  {
   "cell_type": "code",
   "execution_count": 9,
   "metadata": {},
   "outputs": [
    {
     "name": "stdout",
     "output_type": "stream",
     "text": [
      "(43692, 6)\n",
      "shape: (5, 6)\n",
      "┌──────────┬─────────────────────────────────┬────────────┬──────────┬─────────────┬────────┐\n",
      "│ discount ┆ embedding                       ┆ partnumber ┆ color_id ┆ cod_section ┆ family │\n",
      "│ ---      ┆ ---                             ┆ ---        ┆ ---      ┆ ---         ┆ ---    │\n",
      "│ u8       ┆ list[f32]                       ┆ u16        ┆ u16      ┆ u8          ┆ u16    │\n",
      "╞══════════╪═════════════════════════════════╪════════════╪══════════╪═════════════╪════════╡\n",
      "│ 0        ┆ [-0.134014, -0.120043, … -0.08… ┆ 32776      ┆ 85       ┆ 4           ┆ 73     │\n",
      "│ 0        ┆ [-0.094927, -0.107294, … -0.04… ┆ 41431      ┆ 135      ┆ 4           ┆ 73     │\n",
      "│ 0        ┆ [-0.129044, -0.077246, … 0.002… ┆ 39419      ┆ 339      ┆ 4           ┆ 73     │\n",
      "│ 1        ┆ [-0.127833, -0.133868, … -0.09… ┆ 36087      ┆ 135      ┆ 4           ┆ 73     │\n",
      "│ 1        ┆ [-0.140929, -0.125828, … -0.04… ┆ 34132      ┆ 3        ┆ 4           ┆ 73     │\n",
      "└──────────┴─────────────────────────────────┴────────────┴──────────┴─────────────┴────────┘\n",
      "shape: (1, 6)\n",
      "┌──────────┬───────────┬────────────┬──────────┬─────────────┬────────┐\n",
      "│ discount ┆ embedding ┆ partnumber ┆ color_id ┆ cod_section ┆ family │\n",
      "│ ---      ┆ ---       ┆ ---        ┆ ---      ┆ ---         ┆ ---    │\n",
      "│ u32      ┆ u32       ┆ u32        ┆ u32      ┆ u32         ┆ u32    │\n",
      "╞══════════╪═══════════╪════════════╪══════════╪═════════════╪════════╡\n",
      "│ 0        ┆ 6170      ┆ 0          ┆ 0        ┆ 90          ┆ 0      │\n",
      "└──────────┴───────────┴────────────┴──────────┴─────────────┴────────┘\n"
     ]
    }
   ],
   "source": [
    "prods = pl.read_parquet(PRODUCTS_PARQUET_PATH, low_memory=True)\n",
    "print(prods.shape)\n",
    "print(prods.head())\n",
    "print(prods.null_count())"
   ]
  },
  {
   "cell_type": "code",
   "execution_count": 10,
   "metadata": {},
   "outputs": [
    {
     "data": {
      "text/plain": [
       "43692"
      ]
     },
     "execution_count": 10,
     "metadata": {},
     "output_type": "execute_result"
    }
   ],
   "source": [
    "prods['partnumber'].n_unique()"
   ]
  },
  {
   "cell_type": "markdown",
   "metadata": {},
   "source": [
    "### Drop products not present in the training/test set"
   ]
  },
  {
   "cell_type": "code",
   "execution_count": 11,
   "metadata": {},
   "outputs": [
    {
     "data": {
      "text/plain": [
       "42265"
      ]
     },
     "execution_count": 11,
     "metadata": {},
     "output_type": "execute_result"
    }
   ],
   "source": [
    "# Load from JSON\n",
    "with open(ALL_PRODS_TRAINTEST_PATH, 'r') as f:\n",
    "    all_prods = json.load(f)\n",
    "\n",
    "prods = prods.filter(pl.col('partnumber').is_in(all_prods))\n",
    "prods['partnumber'].n_unique()"
   ]
  },
  {
   "cell_type": "markdown",
   "metadata": {},
   "source": [
    "### Null imputation"
   ]
  },
  {
   "cell_type": "markdown",
   "metadata": {},
   "source": [
    "**Family mean (embedding)**"
   ]
  },
  {
   "cell_type": "code",
   "execution_count": 12,
   "metadata": {},
   "outputs": [],
   "source": [
    "from typing import List\n",
    "# # Helper function to calculate mean embedding for a group\n",
    "def calc_mean_embedding(embeddings: List[np.ndarray]) -> np.ndarray:\n",
    "    valid_embeddings = [e for e in embeddings if e is not None and len(e) > 0]\n",
    "    return np.mean(valid_embeddings, axis=0) if valid_embeddings else np.nan\n",
    "\n",
    "# Calculate family mean embeddings\n",
    "family_means = (\n",
    "    prods\n",
    "    .group_by('family')\n",
    "    .agg(pl.col('embedding'))\n",
    "    .with_columns(\n",
    "        mean_embedding=pl.col('embedding').map_elements(calc_mean_embedding, return_dtype=pl.List(pl.Float32))\n",
    "    )\n",
    ")"
   ]
  },
  {
   "cell_type": "code",
   "execution_count": 13,
   "metadata": {},
   "outputs": [
    {
     "data": {
      "text/html": [
       "<div><style>\n",
       ".dataframe > thead > tr,\n",
       ".dataframe > tbody > tr {\n",
       "  text-align: right;\n",
       "  white-space: pre-wrap;\n",
       "}\n",
       "</style>\n",
       "<small>shape: (1, 7)</small><table border=\"1\" class=\"dataframe\"><thead><tr><th>discount</th><th>embedding</th><th>partnumber</th><th>color_id</th><th>cod_section</th><th>family</th><th>mean_embedding</th></tr><tr><td>u32</td><td>u32</td><td>u32</td><td>u32</td><td>u32</td><td>u32</td><td>u32</td></tr></thead><tbody><tr><td>0</td><td>8</td><td>0</td><td>0</td><td>87</td><td>0</td><td>8</td></tr></tbody></table></div>"
      ],
      "text/plain": [
       "shape: (1, 7)\n",
       "┌──────────┬───────────┬────────────┬──────────┬─────────────┬────────┬────────────────┐\n",
       "│ discount ┆ embedding ┆ partnumber ┆ color_id ┆ cod_section ┆ family ┆ mean_embedding │\n",
       "│ ---      ┆ ---       ┆ ---        ┆ ---      ┆ ---         ┆ ---    ┆ ---            │\n",
       "│ u32      ┆ u32       ┆ u32        ┆ u32      ┆ u32         ┆ u32    ┆ u32            │\n",
       "╞══════════╪═══════════╪════════════╪══════════╪═════════════╪════════╪════════════════╡\n",
       "│ 0        ┆ 8         ┆ 0          ┆ 0        ┆ 87          ┆ 0      ┆ 8              │\n",
       "└──────────┴───────────┴────────────┴──────────┴─────────────┴────────┴────────────────┘"
      ]
     },
     "execution_count": 13,
     "metadata": {},
     "output_type": "execute_result"
    }
   ],
   "source": [
    "prods = prods.join(family_means.select(['family', 'mean_embedding']), on='family', how='left')\n",
    "prods = prods.with_columns([\n",
    "    pl.when(pl.col('embedding').is_null())\n",
    "        .then(pl.col('mean_embedding'))\n",
    "        .otherwise(pl.col('embedding'))\n",
    "        .alias('embedding')\n",
    "])\n",
    "prods.null_count()"
   ]
  },
  {
   "cell_type": "markdown",
   "metadata": {},
   "source": [
    "**Overall mean (embedding)**"
   ]
  },
  {
   "cell_type": "code",
   "execution_count": 14,
   "metadata": {},
   "outputs": [
    {
     "data": {
      "text/plain": [
       "array([-0.08372563,  0.16689125, -0.10456386, ...,  0.15249544,\n",
       "        0.00691349,  0.04625465], shape=(1280,), dtype=float32)"
      ]
     },
     "execution_count": 14,
     "metadata": {},
     "output_type": "execute_result"
    }
   ],
   "source": [
    "# Calculate family mean embeddings\n",
    "overall_mean = calc_mean_embedding(prods['embedding'])\n",
    "overall_mean"
   ]
  },
  {
   "cell_type": "code",
   "execution_count": 15,
   "metadata": {},
   "outputs": [
    {
     "data": {
      "text/html": [
       "<div><style>\n",
       ".dataframe > thead > tr,\n",
       ".dataframe > tbody > tr {\n",
       "  text-align: right;\n",
       "  white-space: pre-wrap;\n",
       "}\n",
       "</style>\n",
       "<small>shape: (1, 6)</small><table border=\"1\" class=\"dataframe\"><thead><tr><th>discount</th><th>embedding</th><th>partnumber</th><th>color_id</th><th>cod_section</th><th>family</th></tr><tr><td>u32</td><td>u32</td><td>u32</td><td>u32</td><td>u32</td><td>u32</td></tr></thead><tbody><tr><td>0</td><td>0</td><td>0</td><td>0</td><td>87</td><td>0</td></tr></tbody></table></div>"
      ],
      "text/plain": [
       "shape: (1, 6)\n",
       "┌──────────┬───────────┬────────────┬──────────┬─────────────┬────────┐\n",
       "│ discount ┆ embedding ┆ partnumber ┆ color_id ┆ cod_section ┆ family │\n",
       "│ ---      ┆ ---       ┆ ---        ┆ ---      ┆ ---         ┆ ---    │\n",
       "│ u32      ┆ u32       ┆ u32        ┆ u32      ┆ u32         ┆ u32    │\n",
       "╞══════════╪═══════════╪════════════╪══════════╪═════════════╪════════╡\n",
       "│ 0        ┆ 0         ┆ 0          ┆ 0        ┆ 87          ┆ 0      │\n",
       "└──────────┴───────────┴────────────┴──────────┴─────────────┴────────┘"
      ]
     },
     "execution_count": 15,
     "metadata": {},
     "output_type": "execute_result"
    }
   ],
   "source": [
    "prods = prods.with_columns([\n",
    "    pl.when(pl.col(\"embedding\").is_null())\n",
    "        .then(pl.lit(pl.Series([overall_mean])))  # Convert numpy array to Polars Series\n",
    "        .otherwise(pl.col('embedding'))\n",
    "        .alias('embedding')\n",
    "]).drop('mean_embedding')\n",
    "prods.null_count()"
   ]
  },
  {
   "cell_type": "code",
   "execution_count": 16,
   "metadata": {},
   "outputs": [],
   "source": [
    "# # Inspect lengths of embeddings\n",
    "# prods_imputed = prods.to_pandas()\n",
    "# embedding_lengths = prods_imputed['embedding'].apply(lambda x: len(x) if x is not None else None)\n",
    "\n",
    "# # Check for unique lengths\n",
    "# print(embedding_lengths.unique())  # Should ideally show one value, e.g., [1280]\n",
    "\n",
    "# # Find problematic rows (if any)\n",
    "# problematic_rows = prods_imputed[embedding_lengths != 1280]\n",
    "# print(problematic_rows)"
   ]
  },
  {
   "cell_type": "markdown",
   "metadata": {},
   "source": [
    "**cod_section**"
   ]
  },
  {
   "cell_type": "code",
   "execution_count": 17,
   "metadata": {},
   "outputs": [],
   "source": [
    "def fill_section_mode(products):\n",
    "    # Calculate mode by family\n",
    "    family_modes = (\n",
    "        products.group_by('family')\n",
    "        .agg(\n",
    "            mode_section=pl.col('cod_section').cast(pl.String).mode().first()\n",
    "        )\n",
    "    )\n",
    "\n",
    "    # Join back to fill nulls\n",
    "    result = products.join(\n",
    "        family_modes,\n",
    "        on='family',\n",
    "        how='left'\n",
    "    ).with_columns(\n",
    "        cod_section=pl.col('cod_section').fill_null(pl.col('mode_section').cast(pl.UInt8))\n",
    "    ).drop('mode_section')\n",
    "\n",
    "    return result"
   ]
  },
  {
   "cell_type": "code",
   "execution_count": 18,
   "metadata": {},
   "outputs": [
    {
     "data": {
      "text/html": [
       "<div><style>\n",
       ".dataframe > thead > tr,\n",
       ".dataframe > tbody > tr {\n",
       "  text-align: right;\n",
       "  white-space: pre-wrap;\n",
       "}\n",
       "</style>\n",
       "<small>shape: (1, 6)</small><table border=\"1\" class=\"dataframe\"><thead><tr><th>discount</th><th>embedding</th><th>partnumber</th><th>color_id</th><th>cod_section</th><th>family</th></tr><tr><td>u32</td><td>u32</td><td>u32</td><td>u32</td><td>u32</td><td>u32</td></tr></thead><tbody><tr><td>0</td><td>0</td><td>0</td><td>0</td><td>0</td><td>0</td></tr></tbody></table></div>"
      ],
      "text/plain": [
       "shape: (1, 6)\n",
       "┌──────────┬───────────┬────────────┬──────────┬─────────────┬────────┐\n",
       "│ discount ┆ embedding ┆ partnumber ┆ color_id ┆ cod_section ┆ family │\n",
       "│ ---      ┆ ---       ┆ ---        ┆ ---      ┆ ---         ┆ ---    │\n",
       "│ u32      ┆ u32       ┆ u32        ┆ u32      ┆ u32         ┆ u32    │\n",
       "╞══════════╪═══════════╪════════════╪══════════╪═════════════╪════════╡\n",
       "│ 0        ┆ 0         ┆ 0          ┆ 0        ┆ 0           ┆ 0      │\n",
       "└──────────┴───────────┴────────────┴──────────┴─────────────┴────────┘"
      ]
     },
     "execution_count": 18,
     "metadata": {},
     "output_type": "execute_result"
    }
   ],
   "source": [
    "prods = fill_section_mode(prods)\n",
    "prods.null_count()"
   ]
  },
  {
   "cell_type": "code",
   "execution_count": 20,
   "metadata": {},
   "outputs": [],
   "source": [
    "# prods.write_parquet(PRODUCTS_PARQUET_PATH_IMPUTED)"
   ]
  },
  {
   "cell_type": "markdown",
   "metadata": {},
   "source": [
    "### PCA embeddings"
   ]
  },
  {
   "cell_type": "code",
   "execution_count": 317,
   "metadata": {},
   "outputs": [],
   "source": [
    "# prods_imputed = prods.clone()"
   ]
  },
  {
   "cell_type": "code",
   "execution_count": 21,
   "metadata": {},
   "outputs": [
    {
     "data": {
      "text/html": [
       "<div><style>\n",
       ".dataframe > thead > tr,\n",
       ".dataframe > tbody > tr {\n",
       "  text-align: right;\n",
       "  white-space: pre-wrap;\n",
       "}\n",
       "</style>\n",
       "<small>shape: (5, 6)</small><table border=\"1\" class=\"dataframe\"><thead><tr><th>discount</th><th>embedding</th><th>partnumber</th><th>color_id</th><th>cod_section</th><th>family</th></tr><tr><td>u8</td><td>list[f32]</td><td>u16</td><td>u16</td><td>u8</td><td>u16</td></tr></thead><tbody><tr><td>0</td><td>[-0.134014, -0.120043, … -0.080103]</td><td>32776</td><td>85</td><td>4</td><td>73</td></tr><tr><td>0</td><td>[-0.094927, -0.107294, … -0.044575]</td><td>41431</td><td>135</td><td>4</td><td>73</td></tr><tr><td>0</td><td>[-0.129044, -0.077246, … 0.002047]</td><td>39419</td><td>339</td><td>4</td><td>73</td></tr><tr><td>1</td><td>[-0.127833, -0.133868, … -0.091194]</td><td>36087</td><td>135</td><td>4</td><td>73</td></tr><tr><td>1</td><td>[-0.140929, -0.125828, … -0.043056]</td><td>34132</td><td>3</td><td>4</td><td>73</td></tr></tbody></table></div>"
      ],
      "text/plain": [
       "shape: (5, 6)\n",
       "┌──────────┬─────────────────────────────────┬────────────┬──────────┬─────────────┬────────┐\n",
       "│ discount ┆ embedding                       ┆ partnumber ┆ color_id ┆ cod_section ┆ family │\n",
       "│ ---      ┆ ---                             ┆ ---        ┆ ---      ┆ ---         ┆ ---    │\n",
       "│ u8       ┆ list[f32]                       ┆ u16        ┆ u16      ┆ u8          ┆ u16    │\n",
       "╞══════════╪═════════════════════════════════╪════════════╪══════════╪═════════════╪════════╡\n",
       "│ 0        ┆ [-0.134014, -0.120043, … -0.08… ┆ 32776      ┆ 85       ┆ 4           ┆ 73     │\n",
       "│ 0        ┆ [-0.094927, -0.107294, … -0.04… ┆ 41431      ┆ 135      ┆ 4           ┆ 73     │\n",
       "│ 0        ┆ [-0.129044, -0.077246, … 0.002… ┆ 39419      ┆ 339      ┆ 4           ┆ 73     │\n",
       "│ 1        ┆ [-0.127833, -0.133868, … -0.09… ┆ 36087      ┆ 135      ┆ 4           ┆ 73     │\n",
       "│ 1        ┆ [-0.140929, -0.125828, … -0.04… ┆ 34132      ┆ 3        ┆ 4           ┆ 73     │\n",
       "└──────────┴─────────────────────────────────┴────────────┴──────────┴─────────────┴────────┘"
      ]
     },
     "execution_count": 21,
     "metadata": {},
     "output_type": "execute_result"
    }
   ],
   "source": [
    "prods_imputed = pl.read_parquet(PRODUCTS_PARQUET_PATH_IMPUTED)\n",
    "prods_imputed.head()"
   ]
  },
  {
   "cell_type": "code",
   "execution_count": 22,
   "metadata": {},
   "outputs": [
    {
     "data": {
      "image/png": "[encoded data removed]",
      "text/plain": [
       "<Figure size 800x500 with 1 Axes>"
      ]
     },
     "metadata": {},
     "output_type": "display_data"
    },
    {
     "name": "stdout",
     "output_type": "stream",
     "text": [
      "Number of components to retain 95% variance: 1\n"
     ]
    }
   ],
   "source": [
    "from sklearn.decomposition import PCA\n",
    "from sklearn.preprocessing import normalize\n",
    "import numpy as np\n",
    "import matplotlib.pyplot as plt\n",
    "\n",
    "# Assuming 'products['embedding']' contains the embeddings as lists of floats\n",
    "embeddings = np.stack(prods_imputed['embedding'].to_numpy())\n",
    "\n",
    "# Normalize embeddings to ensure consistency\n",
    "normalized_embeddings = normalize(embeddings)\n",
    "\n",
    "# Apply PCA\n",
    "pca = PCA(n_components=100)\n",
    "pca.fit(normalized_embeddings)\n",
    "\n",
    "# Explained variance ratio\n",
    "explained_variance = np.cumsum(pca.explained_variance_ratio_)\n",
    "\n",
    "# Plot cumulative explained variance\n",
    "plt.figure(figsize=(8, 5))\n",
    "plt.plot(range(1, len(explained_variance) + 1), explained_variance, marker='o', linestyle='--')\n",
    "plt.xlabel('Number of Principal Components')\n",
    "plt.ylabel('Cumulative Explained Variance')\n",
    "plt.title('Explained Variance vs Number of Components')\n",
    "plt.grid()\n",
    "plt.show()\n",
    "\n",
    "# Determine the number of components for 95% variance\n",
    "n_components = np.argmax(explained_variance >= 0.95) + 1\n",
    "print(f\"Number of components to retain 95% variance: {n_components}\")"
   ]
  },
  {
   "cell_type": "markdown",
   "metadata": {},
   "source": [
    "## Train and test processing"
   ]
  },
  {
   "cell_type": "code",
   "execution_count": 67,
   "metadata": {},
   "outputs": [
    {
     "data": {
      "text/html": [
       "<div><style>\n",
       ".dataframe > thead > tr,\n",
       ".dataframe > tbody > tr {\n",
       "  text-align: right;\n",
       "  white-space: pre-wrap;\n",
       "}\n",
       "</style>\n",
       "<small>shape: (5, 9)</small><table border=\"1\" class=\"dataframe\"><thead><tr><th>session_id</th><th>date</th><th>timestamp_local</th><th>add_to_cart</th><th>user_id</th><th>country</th><th>partnumber</th><th>device_type</th><th>pagetype</th></tr><tr><td>u32</td><td>date</td><td>datetime[μs]</td><td>u8</td><td>u32</td><td>u8</td><td>u16</td><td>u8</td><td>u8</td></tr></thead><tbody><tr><td>64</td><td>2024-06-06</td><td>2024-06-06 16:43:17.389</td><td>0</td><td>null</td><td>29</td><td>14327</td><td>1</td><td>24</td></tr><tr><td>117</td><td>2024-06-08</td><td>2024-06-08 15:11:02.782</td><td>0</td><td>null</td><td>57</td><td>38422</td><td>1</td><td>24</td></tr><tr><td>117</td><td>2024-06-08</td><td>2024-06-08 15:11:44.797</td><td>0</td><td>null</td><td>57</td><td>19763</td><td>1</td><td>24</td></tr><tr><td>579</td><td>2024-06-05</td><td>2024-06-05 19:24:48.397</td><td>0</td><td>null</td><td>29</td><td>30253</td><td>1</td><td>24</td></tr><tr><td>1220</td><td>2024-06-04</td><td>2024-06-04 08:21:13.476</td><td>0</td><td>480729</td><td>25</td><td>1592</td><td>1</td><td>24</td></tr></tbody></table></div>"
      ],
      "text/plain": [
       "shape: (5, 9)\n",
       "┌────────────┬────────────┬───────────┬───────────┬───┬─────────┬───────────┬───────────┬──────────┐\n",
       "│ session_id ┆ date       ┆ timestamp ┆ add_to_ca ┆ … ┆ country ┆ partnumbe ┆ device_ty ┆ pagetype │\n",
       "│ ---        ┆ ---        ┆ _local    ┆ rt        ┆   ┆ ---     ┆ r         ┆ pe        ┆ ---      │\n",
       "│ u32        ┆ date       ┆ ---       ┆ ---       ┆   ┆ u8      ┆ ---       ┆ ---       ┆ u8       │\n",
       "│            ┆            ┆ datetime[ ┆ u8        ┆   ┆         ┆ u16       ┆ u8        ┆          │\n",
       "│            ┆            ┆ μs]       ┆           ┆   ┆         ┆           ┆           ┆          │\n",
       "╞════════════╪════════════╪═══════════╪═══════════╪═══╪═════════╪═══════════╪═══════════╪══════════╡\n",
       "│ 64         ┆ 2024-06-06 ┆ 2024-06-0 ┆ 0         ┆ … ┆ 29      ┆ 14327     ┆ 1         ┆ 24       │\n",
       "│            ┆            ┆ 6 16:43:1 ┆           ┆   ┆         ┆           ┆           ┆          │\n",
       "│            ┆            ┆ 7.389     ┆           ┆   ┆         ┆           ┆           ┆          │\n",
       "│ 117        ┆ 2024-06-08 ┆ 2024-06-0 ┆ 0         ┆ … ┆ 57      ┆ 38422     ┆ 1         ┆ 24       │\n",
       "│            ┆            ┆ 8 15:11:0 ┆           ┆   ┆         ┆           ┆           ┆          │\n",
       "│            ┆            ┆ 2.782     ┆           ┆   ┆         ┆           ┆           ┆          │\n",
       "│ 117        ┆ 2024-06-08 ┆ 2024-06-0 ┆ 0         ┆ … ┆ 57      ┆ 19763     ┆ 1         ┆ 24       │\n",
       "│            ┆            ┆ 8 15:11:4 ┆           ┆   ┆         ┆           ┆           ┆          │\n",
       "│            ┆            ┆ 4.797     ┆           ┆   ┆         ┆           ┆           ┆          │\n",
       "│ 579        ┆ 2024-06-05 ┆ 2024-06-0 ┆ 0         ┆ … ┆ 29      ┆ 30253     ┆ 1         ┆ 24       │\n",
       "│            ┆            ┆ 5 19:24:4 ┆           ┆   ┆         ┆           ┆           ┆          │\n",
       "│            ┆            ┆ 8.397     ┆           ┆   ┆         ┆           ┆           ┆          │\n",
       "│ 1220       ┆ 2024-06-04 ┆ 2024-06-0 ┆ 0         ┆ … ┆ 25      ┆ 1592      ┆ 1         ┆ 24       │\n",
       "│            ┆            ┆ 4 08:21:1 ┆           ┆   ┆         ┆           ┆           ┆          │\n",
       "│            ┆            ┆ 3.476     ┆           ┆   ┆         ┆           ┆           ┆          │\n",
       "└────────────┴────────────┴───────────┴───────────┴───┴─────────┴───────────┴───────────┴──────────┘"
      ]
     },
     "execution_count": 67,
     "metadata": {},
     "output_type": "execute_result"
    }
   ],
   "source": [
    "loader = PolarsLoader(sampling=False, file_type='parquet')\n",
    "train = loader.load_data(path=TRAIN_PARQUET_PATH)\n",
    "test = loader.load_data(path=TEST_PARQUET_PATH)\n",
    "train.head()"
   ]
  },
  {
   "cell_type": "code",
   "execution_count": 68,
   "metadata": {},
   "outputs": [
    {
     "data": {
      "text/plain": [
       "[1, 2, 3, 4, 5, 6, 7, 8, 9, 10]"
      ]
     },
     "execution_count": 68,
     "metadata": {},
     "output_type": "execute_result"
    }
   ],
   "source": [
    "# Testing candidates merging \n",
    "top_100_parts = all_prods[:10]\n",
    "top_100_parts"
   ]
  },
  {
   "cell_type": "code",
   "execution_count": 69,
   "metadata": {},
   "outputs": [
    {
     "data": {
      "text/html": [
       "<div><style>\n",
       ".dataframe > thead > tr,\n",
       ".dataframe > tbody > tr {\n",
       "  text-align: right;\n",
       "  white-space: pre-wrap;\n",
       "}\n",
       "</style>\n",
       "<small>shape: (29_275, 8)</small><table border=\"1\" class=\"dataframe\"><thead><tr><th>session_id</th><th>date</th><th>timestamp_local</th><th>user_id</th><th>country</th><th>partnumber</th><th>device_type</th><th>pagetype</th></tr><tr><td>u32</td><td>date</td><td>datetime[μs]</td><td>u32</td><td>u8</td><td>u16</td><td>u8</td><td>u8</td></tr></thead><tbody><tr><td>746</td><td>2024-06-15</td><td>2024-06-15 18:36:47.390</td><td>null</td><td>57</td><td>1254</td><td>1</td><td>24</td></tr><tr><td>746</td><td>2024-06-15</td><td>2024-06-15 18:37:04.052</td><td>null</td><td>57</td><td>32544</td><td>1</td><td>24</td></tr><tr><td>746</td><td>2024-06-15</td><td>2024-06-15 18:37:48.159</td><td>null</td><td>57</td><td>12639</td><td>1</td><td>24</td></tr><tr><td>746</td><td>2024-06-15</td><td>2024-06-15 18:38:19.899</td><td>null</td><td>57</td><td>18048</td><td>1</td><td>24</td></tr><tr><td>746</td><td>2024-06-15</td><td>2024-06-15 18:38:46.492</td><td>null</td><td>57</td><td>13295</td><td>1</td><td>24</td></tr><tr><td>&hellip;</td><td>&hellip;</td><td>&hellip;</td><td>&hellip;</td><td>&hellip;</td><td>&hellip;</td><td>&hellip;</td><td>&hellip;</td></tr><tr><td>5167195</td><td>2024-06-16</td><td>2024-06-16 13:13:10.152</td><td>null</td><td>34</td><td>30113</td><td>1</td><td>24</td></tr><tr><td>5167272</td><td>2024-06-16</td><td>2024-06-16 18:58:15.562</td><td>null</td><td>34</td><td>28922</td><td>1</td><td>8</td></tr><tr><td>5168338</td><td>2024-06-15</td><td>2024-06-15 21:36:15.931</td><td>null</td><td>34</td><td>13467</td><td>1</td><td>24</td></tr><tr><td>5168492</td><td>2024-06-16</td><td>2024-06-16 04:06:03.528</td><td>null</td><td>34</td><td>13732</td><td>1</td><td>24</td></tr><tr><td>5168933</td><td>2024-06-16</td><td>2024-06-16 04:53:26.427</td><td>null</td><td>57</td><td>8969</td><td>1</td><td>24</td></tr></tbody></table></div>"
      ],
      "text/plain": [
       "shape: (29_275, 8)\n",
       "┌────────────┬────────────┬──────────────┬─────────┬─────────┬────────────┬─────────────┬──────────┐\n",
       "│ session_id ┆ date       ┆ timestamp_lo ┆ user_id ┆ country ┆ partnumber ┆ device_type ┆ pagetype │\n",
       "│ ---        ┆ ---        ┆ cal          ┆ ---     ┆ ---     ┆ ---        ┆ ---         ┆ ---      │\n",
       "│ u32        ┆ date       ┆ ---          ┆ u32     ┆ u8      ┆ u16        ┆ u8          ┆ u8       │\n",
       "│            ┆            ┆ datetime[μs] ┆         ┆         ┆            ┆             ┆          │\n",
       "╞════════════╪════════════╪══════════════╪═════════╪═════════╪════════════╪═════════════╪══════════╡\n",
       "│ 746        ┆ 2024-06-15 ┆ 2024-06-15   ┆ null    ┆ 57      ┆ 1254       ┆ 1           ┆ 24       │\n",
       "│            ┆            ┆ 18:36:47.390 ┆         ┆         ┆            ┆             ┆          │\n",
       "│ 746        ┆ 2024-06-15 ┆ 2024-06-15   ┆ null    ┆ 57      ┆ 32544      ┆ 1           ┆ 24       │\n",
       "│            ┆            ┆ 18:37:04.052 ┆         ┆         ┆            ┆             ┆          │\n",
       "│ 746        ┆ 2024-06-15 ┆ 2024-06-15   ┆ null    ┆ 57      ┆ 12639      ┆ 1           ┆ 24       │\n",
       "│            ┆            ┆ 18:37:48.159 ┆         ┆         ┆            ┆             ┆          │\n",
       "│ 746        ┆ 2024-06-15 ┆ 2024-06-15   ┆ null    ┆ 57      ┆ 18048      ┆ 1           ┆ 24       │\n",
       "│            ┆            ┆ 18:38:19.899 ┆         ┆         ┆            ┆             ┆          │\n",
       "│ 746        ┆ 2024-06-15 ┆ 2024-06-15   ┆ null    ┆ 57      ┆ 13295      ┆ 1           ┆ 24       │\n",
       "│            ┆            ┆ 18:38:46.492 ┆         ┆         ┆            ┆             ┆          │\n",
       "│ …          ┆ …          ┆ …            ┆ …       ┆ …       ┆ …          ┆ …           ┆ …        │\n",
       "│ 5167195    ┆ 2024-06-16 ┆ 2024-06-16   ┆ null    ┆ 34      ┆ 30113      ┆ 1           ┆ 24       │\n",
       "│            ┆            ┆ 13:13:10.152 ┆         ┆         ┆            ┆             ┆          │\n",
       "│ 5167272    ┆ 2024-06-16 ┆ 2024-06-16   ┆ null    ┆ 34      ┆ 28922      ┆ 1           ┆ 8        │\n",
       "│            ┆            ┆ 18:58:15.562 ┆         ┆         ┆            ┆             ┆          │\n",
       "│ 5168338    ┆ 2024-06-15 ┆ 2024-06-15   ┆ null    ┆ 34      ┆ 13467      ┆ 1           ┆ 24       │\n",
       "│            ┆            ┆ 21:36:15.931 ┆         ┆         ┆            ┆             ┆          │\n",
       "│ 5168492    ┆ 2024-06-16 ┆ 2024-06-16   ┆ null    ┆ 34      ┆ 13732      ┆ 1           ┆ 24       │\n",
       "│            ┆            ┆ 04:06:03.528 ┆         ┆         ┆            ┆             ┆          │\n",
       "│ 5168933    ┆ 2024-06-16 ┆ 2024-06-16   ┆ null    ┆ 57      ┆ 8969       ┆ 1           ┆ 24       │\n",
       "│            ┆            ┆ 04:53:26.427 ┆         ┆         ┆            ┆             ┆          │\n",
       "└────────────┴────────────┴──────────────┴─────────┴─────────┴────────────┴─────────────┴──────────┘"
      ]
     },
     "execution_count": 69,
     "metadata": {},
     "output_type": "execute_result"
    }
   ],
   "source": [
    "test"
   ]
  },
  {
   "cell_type": "code",
   "execution_count": 70,
   "metadata": {},
   "outputs": [
    {
     "data": {
      "text/html": [
       "<div><style>\n",
       ".dataframe > thead > tr,\n",
       ".dataframe > tbody > tr {\n",
       "  text-align: right;\n",
       "  white-space: pre-wrap;\n",
       "}\n",
       "</style>\n",
       "<small>shape: (73_490, 2)</small><table border=\"1\" class=\"dataframe\"><thead><tr><th>session_id</th><th>partnumber</th></tr><tr><td>u32</td><td>i64</td></tr></thead><tbody><tr><td>746</td><td>1</td></tr><tr><td>746</td><td>2</td></tr><tr><td>746</td><td>3</td></tr><tr><td>746</td><td>4</td></tr><tr><td>746</td><td>5</td></tr><tr><td>&hellip;</td><td>&hellip;</td></tr><tr><td>5168933</td><td>6</td></tr><tr><td>5168933</td><td>7</td></tr><tr><td>5168933</td><td>8</td></tr><tr><td>5168933</td><td>9</td></tr><tr><td>5168933</td><td>10</td></tr></tbody></table></div>"
      ],
      "text/plain": [
       "shape: (73_490, 2)\n",
       "┌────────────┬────────────┐\n",
       "│ session_id ┆ partnumber │\n",
       "│ ---        ┆ ---        │\n",
       "│ u32        ┆ i64        │\n",
       "╞════════════╪════════════╡\n",
       "│ 746        ┆ 1          │\n",
       "│ 746        ┆ 2          │\n",
       "│ 746        ┆ 3          │\n",
       "│ 746        ┆ 4          │\n",
       "│ 746        ┆ 5          │\n",
       "│ …          ┆ …          │\n",
       "│ 5168933    ┆ 6          │\n",
       "│ 5168933    ┆ 7          │\n",
       "│ 5168933    ┆ 8          │\n",
       "│ 5168933    ┆ 9          │\n",
       "│ 5168933    ┆ 10         │\n",
       "└────────────┴────────────┘"
      ]
     },
     "execution_count": 70,
     "metadata": {},
     "output_type": "execute_result"
    }
   ],
   "source": [
    "# Generar todas las combinaciones\n",
    "candidates = [\n",
    "    {\"session_id\": sid, \"partnumber\": pn}\n",
    "    for sid in test[\"session_id\"].unique()\n",
    "    for pn in top_100_parts\n",
    "]\n",
    "\n",
    "# Convertir a Polars DataFrame\n",
    "candidates_df = pl.DataFrame(candidates).with_columns(pl.col(\"session_id\").cast(pl.UInt32))\n",
    "candidates_df"
   ]
  },
  {
   "cell_type": "code",
   "execution_count": null,
   "metadata": {},
   "outputs": [
    {
     "data": {
      "text/html": [
       "<div><style>\n",
       ".dataframe > thead > tr,\n",
       ".dataframe > tbody > tr {\n",
       "  text-align: right;\n",
       "  white-space: pre-wrap;\n",
       "}\n",
       "</style>\n",
       "<small>shape: (10, 9)</small><table border=\"1\" class=\"dataframe\"><thead><tr><th>session_id</th><th>date</th><th>timestamp_local</th><th>user_id</th><th>country</th><th>partnumber</th><th>device_type</th><th>pagetype</th><th>partnumber_right</th></tr><tr><td>u32</td><td>date</td><td>datetime[μs]</td><td>u32</td><td>u8</td><td>u16</td><td>u8</td><td>u8</td><td>i64</td></tr></thead><tbody><tr><td>5168338</td><td>2024-06-15</td><td>2024-06-15 21:36:15.931</td><td>null</td><td>34</td><td>13467</td><td>1</td><td>24</td><td>1</td></tr><tr><td>5168338</td><td>2024-06-15</td><td>2024-06-15 21:36:15.931</td><td>null</td><td>34</td><td>13467</td><td>1</td><td>24</td><td>2</td></tr><tr><td>5168338</td><td>2024-06-15</td><td>2024-06-15 21:36:15.931</td><td>null</td><td>34</td><td>13467</td><td>1</td><td>24</td><td>3</td></tr><tr><td>5168338</td><td>2024-06-15</td><td>2024-06-15 21:36:15.931</td><td>null</td><td>34</td><td>13467</td><td>1</td><td>24</td><td>4</td></tr><tr><td>5168338</td><td>2024-06-15</td><td>2024-06-15 21:36:15.931</td><td>null</td><td>34</td><td>13467</td><td>1</td><td>24</td><td>5</td></tr><tr><td>5168338</td><td>2024-06-15</td><td>2024-06-15 21:36:15.931</td><td>null</td><td>34</td><td>13467</td><td>1</td><td>24</td><td>6</td></tr><tr><td>5168338</td><td>2024-06-15</td><td>2024-06-15 21:36:15.931</td><td>null</td><td>34</td><td>13467</td><td>1</td><td>24</td><td>7</td></tr><tr><td>5168338</td><td>2024-06-15</td><td>2024-06-15 21:36:15.931</td><td>null</td><td>34</td><td>13467</td><td>1</td><td>24</td><td>8</td></tr><tr><td>5168338</td><td>2024-06-15</td><td>2024-06-15 21:36:15.931</td><td>null</td><td>34</td><td>13467</td><td>1</td><td>24</td><td>9</td></tr><tr><td>5168338</td><td>2024-06-15</td><td>2024-06-15 21:36:15.931</td><td>null</td><td>34</td><td>13467</td><td>1</td><td>24</td><td>10</td></tr></tbody></table></div>"
      ],
      "text/plain": [
       "shape: (10, 9)\n",
       "┌────────────┬────────────┬───────────┬─────────┬───┬───────────┬───────────┬──────────┬───────────┐\n",
       "│ session_id ┆ date       ┆ timestamp ┆ user_id ┆ … ┆ partnumbe ┆ device_ty ┆ pagetype ┆ partnumbe │\n",
       "│ ---        ┆ ---        ┆ _local    ┆ ---     ┆   ┆ r         ┆ pe        ┆ ---      ┆ r_right   │\n",
       "│ u32        ┆ date       ┆ ---       ┆ u32     ┆   ┆ ---       ┆ ---       ┆ u8       ┆ ---       │\n",
       "│            ┆            ┆ datetime[ ┆         ┆   ┆ u16       ┆ u8        ┆          ┆ i64       │\n",
       "│            ┆            ┆ μs]       ┆         ┆   ┆           ┆           ┆          ┆           │\n",
       "╞════════════╪════════════╪═══════════╪═════════╪═══╪═══════════╪═══════════╪══════════╪═══════════╡\n",
       "│ 5168338    ┆ 2024-06-15 ┆ 2024-06-1 ┆ null    ┆ … ┆ 13467     ┆ 1         ┆ 24       ┆ 1         │\n",
       "│            ┆            ┆ 5 21:36:1 ┆         ┆   ┆           ┆           ┆          ┆           │\n",
       "│            ┆            ┆ 5.931     ┆         ┆   ┆           ┆           ┆          ┆           │\n",
       "│ 5168338    ┆ 2024-06-15 ┆ 2024-06-1 ┆ null    ┆ … ┆ 13467     ┆ 1         ┆ 24       ┆ 2         │\n",
       "│            ┆            ┆ 5 21:36:1 ┆         ┆   ┆           ┆           ┆          ┆           │\n",
       "│            ┆            ┆ 5.931     ┆         ┆   ┆           ┆           ┆          ┆           │\n",
       "│ 5168338    ┆ 2024-06-15 ┆ 2024-06-1 ┆ null    ┆ … ┆ 13467     ┆ 1         ┆ 24       ┆ 3         │\n",
       "│            ┆            ┆ 5 21:36:1 ┆         ┆   ┆           ┆           ┆          ┆           │\n",
       "│            ┆            ┆ 5.931     ┆         ┆   ┆           ┆           ┆          ┆           │\n",
       "│ 5168338    ┆ 2024-06-15 ┆ 2024-06-1 ┆ null    ┆ … ┆ 13467     ┆ 1         ┆ 24       ┆ 4         │\n",
       "│            ┆            ┆ 5 21:36:1 ┆         ┆   ┆           ┆           ┆          ┆           │\n",
       "│            ┆            ┆ 5.931     ┆         ┆   ┆           ┆           ┆          ┆           │\n",
       "│ 5168338    ┆ 2024-06-15 ┆ 2024-06-1 ┆ null    ┆ … ┆ 13467     ┆ 1         ┆ 24       ┆ 5         │\n",
       "│            ┆            ┆ 5 21:36:1 ┆         ┆   ┆           ┆           ┆          ┆           │\n",
       "│            ┆            ┆ 5.931     ┆         ┆   ┆           ┆           ┆          ┆           │\n",
       "│ 5168338    ┆ 2024-06-15 ┆ 2024-06-1 ┆ null    ┆ … ┆ 13467     ┆ 1         ┆ 24       ┆ 6         │\n",
       "│            ┆            ┆ 5 21:36:1 ┆         ┆   ┆           ┆           ┆          ┆           │\n",
       "│            ┆            ┆ 5.931     ┆         ┆   ┆           ┆           ┆          ┆           │\n",
       "│ 5168338    ┆ 2024-06-15 ┆ 2024-06-1 ┆ null    ┆ … ┆ 13467     ┆ 1         ┆ 24       ┆ 7         │\n",
       "│            ┆            ┆ 5 21:36:1 ┆         ┆   ┆           ┆           ┆          ┆           │\n",
       "│            ┆            ┆ 5.931     ┆         ┆   ┆           ┆           ┆          ┆           │\n",
       "│ 5168338    ┆ 2024-06-15 ┆ 2024-06-1 ┆ null    ┆ … ┆ 13467     ┆ 1         ┆ 24       ┆ 8         │\n",
       "│            ┆            ┆ 5 21:36:1 ┆         ┆   ┆           ┆           ┆          ┆           │\n",
       "│            ┆            ┆ 5.931     ┆         ┆   ┆           ┆           ┆          ┆           │\n",
       "│ 5168338    ┆ 2024-06-15 ┆ 2024-06-1 ┆ null    ┆ … ┆ 13467     ┆ 1         ┆ 24       ┆ 9         │\n",
       "│            ┆            ┆ 5 21:36:1 ┆         ┆   ┆           ┆           ┆          ┆           │\n",
       "│            ┆            ┆ 5.931     ┆         ┆   ┆           ┆           ┆          ┆           │\n",
       "│ 5168338    ┆ 2024-06-15 ┆ 2024-06-1 ┆ null    ┆ … ┆ 13467     ┆ 1         ┆ 24       ┆ 10        │\n",
       "│            ┆            ┆ 5 21:36:1 ┆         ┆   ┆           ┆           ┆          ┆           │\n",
       "│            ┆            ┆ 5.931     ┆         ┆   ┆           ┆           ┆          ┆           │\n",
       "└────────────┴────────────┴───────────┴─────────┴───┴───────────┴───────────┴──────────┴───────────┘"
      ]
     },
     "execution_count": 74,
     "metadata": {},
     "output_type": "execute_result"
    }
   ],
   "source": [
    "# Hacer el merge\n",
    "result = test.join(\n",
    "    candidates_df,\n",
    "    on=\"session_id\",\n",
    "    how=\"full\",\n",
    ")\n",
    "result\\\n",
    ".filter(pl.col(\"session_id\") == 5168338)"
   ]
  },
  {
   "cell_type": "code",
   "execution_count": 73,
   "metadata": {},
   "outputs": [
    {
     "data": {
      "text/html": [
       "<div><style>\n",
       ".dataframe > thead > tr,\n",
       ".dataframe > tbody > tr {\n",
       "  text-align: right;\n",
       "  white-space: pre-wrap;\n",
       "}\n",
       "</style>\n",
       "<small>shape: (292_750, 9)</small><table border=\"1\" class=\"dataframe\"><thead><tr><th>session_id</th><th>date</th><th>timestamp_local</th><th>user_id</th><th>country</th><th>partnumber</th><th>device_type</th><th>pagetype</th><th>partnumber_right</th></tr><tr><td>u32</td><td>date</td><td>datetime[μs]</td><td>u32</td><td>u8</td><td>u16</td><td>u8</td><td>u8</td><td>i64</td></tr></thead><tbody><tr><td>488564</td><td>2024-06-16</td><td>2024-06-16 03:41:01.605</td><td>null</td><td>34</td><td>23304</td><td>1</td><td>24</td><td>1</td></tr><tr><td>488564</td><td>2024-06-16</td><td>2024-06-16 03:41:36.726</td><td>null</td><td>34</td><td>23303</td><td>1</td><td>24</td><td>1</td></tr><tr><td>488564</td><td>2024-06-16</td><td>2024-06-16 03:42:04.824</td><td>null</td><td>34</td><td>34289</td><td>1</td><td>24</td><td>1</td></tr><tr><td>488564</td><td>2024-06-16</td><td>2024-06-16 03:42:17.787</td><td>null</td><td>34</td><td>16585</td><td>1</td><td>24</td><td>1</td></tr><tr><td>488564</td><td>2024-06-16</td><td>2024-06-16 03:42:26.504</td><td>null</td><td>34</td><td>23304</td><td>1</td><td>24</td><td>1</td></tr><tr><td>&hellip;</td><td>&hellip;</td><td>&hellip;</td><td>&hellip;</td><td>&hellip;</td><td>&hellip;</td><td>&hellip;</td><td>&hellip;</td><td>&hellip;</td></tr><tr><td>3254841</td><td>2024-06-16</td><td>2024-06-16 02:34:45.587</td><td>null</td><td>34</td><td>9520</td><td>1</td><td>24</td><td>10</td></tr><tr><td>3254841</td><td>2024-06-16</td><td>2024-06-16 02:34:50.794</td><td>null</td><td>34</td><td>22302</td><td>1</td><td>24</td><td>10</td></tr><tr><td>3254841</td><td>2024-06-16</td><td>2024-06-16 02:35:03.153</td><td>null</td><td>34</td><td>9520</td><td>1</td><td>24</td><td>10</td></tr><tr><td>3254841</td><td>2024-06-16</td><td>2024-06-16 02:35:05.139</td><td>null</td><td>34</td><td>18599</td><td>1</td><td>24</td><td>10</td></tr><tr><td>3254841</td><td>2024-06-16</td><td>2024-06-16 02:35:06.222</td><td>null</td><td>34</td><td>18044</td><td>1</td><td>24</td><td>10</td></tr></tbody></table></div>"
      ],
      "text/plain": [
       "shape: (292_750, 9)\n",
       "┌────────────┬────────────┬───────────┬─────────┬───┬───────────┬───────────┬──────────┬───────────┐\n",
       "│ session_id ┆ date       ┆ timestamp ┆ user_id ┆ … ┆ partnumbe ┆ device_ty ┆ pagetype ┆ partnumbe │\n",
       "│ ---        ┆ ---        ┆ _local    ┆ ---     ┆   ┆ r         ┆ pe        ┆ ---      ┆ r_right   │\n",
       "│ u32        ┆ date       ┆ ---       ┆ u32     ┆   ┆ ---       ┆ ---       ┆ u8       ┆ ---       │\n",
       "│            ┆            ┆ datetime[ ┆         ┆   ┆ u16       ┆ u8        ┆          ┆ i64       │\n",
       "│            ┆            ┆ μs]       ┆         ┆   ┆           ┆           ┆          ┆           │\n",
       "╞════════════╪════════════╪═══════════╪═════════╪═══╪═══════════╪═══════════╪══════════╪═══════════╡\n",
       "│ 488564     ┆ 2024-06-16 ┆ 2024-06-1 ┆ null    ┆ … ┆ 23304     ┆ 1         ┆ 24       ┆ 1         │\n",
       "│            ┆            ┆ 6 03:41:0 ┆         ┆   ┆           ┆           ┆          ┆           │\n",
       "│            ┆            ┆ 1.605     ┆         ┆   ┆           ┆           ┆          ┆           │\n",
       "│ 488564     ┆ 2024-06-16 ┆ 2024-06-1 ┆ null    ┆ … ┆ 23303     ┆ 1         ┆ 24       ┆ 1         │\n",
       "│            ┆            ┆ 6 03:41:3 ┆         ┆   ┆           ┆           ┆          ┆           │\n",
       "│            ┆            ┆ 6.726     ┆         ┆   ┆           ┆           ┆          ┆           │\n",
       "│ 488564     ┆ 2024-06-16 ┆ 2024-06-1 ┆ null    ┆ … ┆ 34289     ┆ 1         ┆ 24       ┆ 1         │\n",
       "│            ┆            ┆ 6 03:42:0 ┆         ┆   ┆           ┆           ┆          ┆           │\n",
       "│            ┆            ┆ 4.824     ┆         ┆   ┆           ┆           ┆          ┆           │\n",
       "│ 488564     ┆ 2024-06-16 ┆ 2024-06-1 ┆ null    ┆ … ┆ 16585     ┆ 1         ┆ 24       ┆ 1         │\n",
       "│            ┆            ┆ 6 03:42:1 ┆         ┆   ┆           ┆           ┆          ┆           │\n",
       "│            ┆            ┆ 7.787     ┆         ┆   ┆           ┆           ┆          ┆           │\n",
       "│ 488564     ┆ 2024-06-16 ┆ 2024-06-1 ┆ null    ┆ … ┆ 23304     ┆ 1         ┆ 24       ┆ 1         │\n",
       "│            ┆            ┆ 6 03:42:2 ┆         ┆   ┆           ┆           ┆          ┆           │\n",
       "│            ┆            ┆ 6.504     ┆         ┆   ┆           ┆           ┆          ┆           │\n",
       "│ …          ┆ …          ┆ …         ┆ …       ┆ … ┆ …         ┆ …         ┆ …        ┆ …         │\n",
       "│ 3254841    ┆ 2024-06-16 ┆ 2024-06-1 ┆ null    ┆ … ┆ 9520      ┆ 1         ┆ 24       ┆ 10        │\n",
       "│            ┆            ┆ 6 02:34:4 ┆         ┆   ┆           ┆           ┆          ┆           │\n",
       "│            ┆            ┆ 5.587     ┆         ┆   ┆           ┆           ┆          ┆           │\n",
       "│ 3254841    ┆ 2024-06-16 ┆ 2024-06-1 ┆ null    ┆ … ┆ 22302     ┆ 1         ┆ 24       ┆ 10        │\n",
       "│            ┆            ┆ 6 02:34:5 ┆         ┆   ┆           ┆           ┆          ┆           │\n",
       "│            ┆            ┆ 0.794     ┆         ┆   ┆           ┆           ┆          ┆           │\n",
       "│ 3254841    ┆ 2024-06-16 ┆ 2024-06-1 ┆ null    ┆ … ┆ 9520      ┆ 1         ┆ 24       ┆ 10        │\n",
       "│            ┆            ┆ 6 02:35:0 ┆         ┆   ┆           ┆           ┆          ┆           │\n",
       "│            ┆            ┆ 3.153     ┆         ┆   ┆           ┆           ┆          ┆           │\n",
       "│ 3254841    ┆ 2024-06-16 ┆ 2024-06-1 ┆ null    ┆ … ┆ 18599     ┆ 1         ┆ 24       ┆ 10        │\n",
       "│            ┆            ┆ 6 02:35:0 ┆         ┆   ┆           ┆           ┆          ┆           │\n",
       "│            ┆            ┆ 5.139     ┆         ┆   ┆           ┆           ┆          ┆           │\n",
       "│ 3254841    ┆ 2024-06-16 ┆ 2024-06-1 ┆ null    ┆ … ┆ 18044     ┆ 1         ┆ 24       ┆ 10        │\n",
       "│            ┆            ┆ 6 02:35:0 ┆         ┆   ┆           ┆           ┆          ┆           │\n",
       "│            ┆            ┆ 6.222     ┆         ┆   ┆           ┆           ┆          ┆           │\n",
       "└────────────┴────────────┴───────────┴─────────┴───┴───────────┴───────────┴──────────┴───────────┘"
      ]
     },
     "execution_count": 73,
     "metadata": {},
     "output_type": "execute_result"
    }
   ],
   "source": [
    "# Crear DataFrame de partnumbers\n",
    "part_df = pl.DataFrame({\n",
    "    \"partnumber\": top_100_parts\n",
    "})\n",
    "\n",
    "# Crear DataFrame único de sessions\n",
    "sessions_df = test.select(\"session_id\").unique()\n",
    "\n",
    "# Hacer cross join\n",
    "candidates_df = sessions_df.join(\n",
    "    part_df,\n",
    "    how=\"cross\"\n",
    ")\n",
    "\n",
    "# Merge final con el test dataset\n",
    "result = test.join(\n",
    "    candidates_df,\n",
    "    on=\"session_id\",\n",
    "    how=\"inner\"\n",
    ")\n",
    "\n",
    "result"
   ]
  },
  {
   "cell_type": "code",
   "execution_count": 65,
   "metadata": {},
   "outputs": [
    {
     "data": {
      "text/html": [
       "<div><style>\n",
       ".dataframe > thead > tr,\n",
       ".dataframe > tbody > tr {\n",
       "  text-align: right;\n",
       "  white-space: pre-wrap;\n",
       "}\n",
       "</style>\n",
       "<small>shape: (292_750, 10)</small><table border=\"1\" class=\"dataframe\"><thead><tr><th>session_id</th><th>date</th><th>timestamp_local</th><th>user_id</th><th>country</th><th>partnumber</th><th>device_type</th><th>pagetype</th><th>session_id_right</th><th>partnumber_right</th></tr><tr><td>u32</td><td>date</td><td>datetime[μs]</td><td>u32</td><td>u8</td><td>u16</td><td>u8</td><td>u8</td><td>u32</td><td>i64</td></tr></thead><tbody><tr><td>746</td><td>2024-06-15</td><td>2024-06-15 18:36:47.390</td><td>null</td><td>57</td><td>1254</td><td>1</td><td>24</td><td>746</td><td>1</td></tr><tr><td>746</td><td>2024-06-15</td><td>2024-06-15 18:37:04.052</td><td>null</td><td>57</td><td>32544</td><td>1</td><td>24</td><td>746</td><td>1</td></tr><tr><td>746</td><td>2024-06-15</td><td>2024-06-15 18:37:48.159</td><td>null</td><td>57</td><td>12639</td><td>1</td><td>24</td><td>746</td><td>1</td></tr><tr><td>746</td><td>2024-06-15</td><td>2024-06-15 18:38:19.899</td><td>null</td><td>57</td><td>18048</td><td>1</td><td>24</td><td>746</td><td>1</td></tr><tr><td>746</td><td>2024-06-15</td><td>2024-06-15 18:38:46.492</td><td>null</td><td>57</td><td>13295</td><td>1</td><td>24</td><td>746</td><td>1</td></tr><tr><td>&hellip;</td><td>&hellip;</td><td>&hellip;</td><td>&hellip;</td><td>&hellip;</td><td>&hellip;</td><td>&hellip;</td><td>&hellip;</td><td>&hellip;</td><td>&hellip;</td></tr><tr><td>5168933</td><td>2024-06-16</td><td>2024-06-16 04:53:26.427</td><td>null</td><td>57</td><td>8969</td><td>1</td><td>24</td><td>5168933</td><td>6</td></tr><tr><td>5168933</td><td>2024-06-16</td><td>2024-06-16 04:53:26.427</td><td>null</td><td>57</td><td>8969</td><td>1</td><td>24</td><td>5168933</td><td>7</td></tr><tr><td>5168933</td><td>2024-06-16</td><td>2024-06-16 04:53:26.427</td><td>null</td><td>57</td><td>8969</td><td>1</td><td>24</td><td>5168933</td><td>8</td></tr><tr><td>5168933</td><td>2024-06-16</td><td>2024-06-16 04:53:26.427</td><td>null</td><td>57</td><td>8969</td><td>1</td><td>24</td><td>5168933</td><td>9</td></tr><tr><td>5168933</td><td>2024-06-16</td><td>2024-06-16 04:53:26.427</td><td>null</td><td>57</td><td>8969</td><td>1</td><td>24</td><td>5168933</td><td>10</td></tr></tbody></table></div>"
      ],
      "text/plain": [
       "shape: (292_750, 10)\n",
       "┌────────────┬────────────┬───────────┬─────────┬───┬───────────┬──────────┬───────────┬───────────┐\n",
       "│ session_id ┆ date       ┆ timestamp ┆ user_id ┆ … ┆ device_ty ┆ pagetype ┆ session_i ┆ partnumbe │\n",
       "│ ---        ┆ ---        ┆ _local    ┆ ---     ┆   ┆ pe        ┆ ---      ┆ d_right   ┆ r_right   │\n",
       "│ u32        ┆ date       ┆ ---       ┆ u32     ┆   ┆ ---       ┆ u8       ┆ ---       ┆ ---       │\n",
       "│            ┆            ┆ datetime[ ┆         ┆   ┆ u8        ┆          ┆ u32       ┆ i64       │\n",
       "│            ┆            ┆ μs]       ┆         ┆   ┆           ┆          ┆           ┆           │\n",
       "╞════════════╪════════════╪═══════════╪═════════╪═══╪═══════════╪══════════╪═══════════╪═══════════╡\n",
       "│ 746        ┆ 2024-06-15 ┆ 2024-06-1 ┆ null    ┆ … ┆ 1         ┆ 24       ┆ 746       ┆ 1         │\n",
       "│            ┆            ┆ 5 18:36:4 ┆         ┆   ┆           ┆          ┆           ┆           │\n",
       "│            ┆            ┆ 7.390     ┆         ┆   ┆           ┆          ┆           ┆           │\n",
       "│ 746        ┆ 2024-06-15 ┆ 2024-06-1 ┆ null    ┆ … ┆ 1         ┆ 24       ┆ 746       ┆ 1         │\n",
       "│            ┆            ┆ 5 18:37:0 ┆         ┆   ┆           ┆          ┆           ┆           │\n",
       "│            ┆            ┆ 4.052     ┆         ┆   ┆           ┆          ┆           ┆           │\n",
       "│ 746        ┆ 2024-06-15 ┆ 2024-06-1 ┆ null    ┆ … ┆ 1         ┆ 24       ┆ 746       ┆ 1         │\n",
       "│            ┆            ┆ 5 18:37:4 ┆         ┆   ┆           ┆          ┆           ┆           │\n",
       "│            ┆            ┆ 8.159     ┆         ┆   ┆           ┆          ┆           ┆           │\n",
       "│ 746        ┆ 2024-06-15 ┆ 2024-06-1 ┆ null    ┆ … ┆ 1         ┆ 24       ┆ 746       ┆ 1         │\n",
       "│            ┆            ┆ 5 18:38:1 ┆         ┆   ┆           ┆          ┆           ┆           │\n",
       "│            ┆            ┆ 9.899     ┆         ┆   ┆           ┆          ┆           ┆           │\n",
       "│ 746        ┆ 2024-06-15 ┆ 2024-06-1 ┆ null    ┆ … ┆ 1         ┆ 24       ┆ 746       ┆ 1         │\n",
       "│            ┆            ┆ 5 18:38:4 ┆         ┆   ┆           ┆          ┆           ┆           │\n",
       "│            ┆            ┆ 6.492     ┆         ┆   ┆           ┆          ┆           ┆           │\n",
       "│ …          ┆ …          ┆ …         ┆ …       ┆ … ┆ …         ┆ …        ┆ …         ┆ …         │\n",
       "│ 5168933    ┆ 2024-06-16 ┆ 2024-06-1 ┆ null    ┆ … ┆ 1         ┆ 24       ┆ 5168933   ┆ 6         │\n",
       "│            ┆            ┆ 6 04:53:2 ┆         ┆   ┆           ┆          ┆           ┆           │\n",
       "│            ┆            ┆ 6.427     ┆         ┆   ┆           ┆          ┆           ┆           │\n",
       "│ 5168933    ┆ 2024-06-16 ┆ 2024-06-1 ┆ null    ┆ … ┆ 1         ┆ 24       ┆ 5168933   ┆ 7         │\n",
       "│            ┆            ┆ 6 04:53:2 ┆         ┆   ┆           ┆          ┆           ┆           │\n",
       "│            ┆            ┆ 6.427     ┆         ┆   ┆           ┆          ┆           ┆           │\n",
       "│ 5168933    ┆ 2024-06-16 ┆ 2024-06-1 ┆ null    ┆ … ┆ 1         ┆ 24       ┆ 5168933   ┆ 8         │\n",
       "│            ┆            ┆ 6 04:53:2 ┆         ┆   ┆           ┆          ┆           ┆           │\n",
       "│            ┆            ┆ 6.427     ┆         ┆   ┆           ┆          ┆           ┆           │\n",
       "│ 5168933    ┆ 2024-06-16 ┆ 2024-06-1 ┆ null    ┆ … ┆ 1         ┆ 24       ┆ 5168933   ┆ 9         │\n",
       "│            ┆            ┆ 6 04:53:2 ┆         ┆   ┆           ┆          ┆           ┆           │\n",
       "│            ┆            ┆ 6.427     ┆         ┆   ┆           ┆          ┆           ┆           │\n",
       "│ 5168933    ┆ 2024-06-16 ┆ 2024-06-1 ┆ null    ┆ … ┆ 1         ┆ 24       ┆ 5168933   ┆ 10        │\n",
       "│            ┆            ┆ 6 04:53:2 ┆         ┆   ┆           ┆          ┆           ┆           │\n",
       "│            ┆            ┆ 6.427     ┆         ┆   ┆           ┆          ┆           ┆           │\n",
       "└────────────┴────────────┴───────────┴─────────┴───┴───────────┴──────────┴───────────┴───────────┘"
      ]
     },
     "execution_count": 65,
     "metadata": {},
     "output_type": "execute_result"
    }
   ],
   "source": [
    "# Hacer el merge\n",
    "result = test.join(\n",
    "    candidates_df,\n",
    "    on=\"session_id\",\n",
    "    how=\"full\"\n",
    ")\n",
    "result"
   ]
  },
  {
   "cell_type": "code",
   "execution_count": 4,
   "metadata": {},
   "outputs": [
    {
     "name": "stdout",
     "output_type": "stream",
     "text": [
      "Total number of products in train + test datasets:  42265\n"
     ]
    }
   ],
   "source": [
    "# Save products in train/test to reduce product dataset\n",
    "train_prods = train.select('partnumber').unique()\n",
    "train_prods = list(train_prods.to_series())\n",
    "\n",
    "test_prods = test.select('partnumber').unique()\n",
    "test_prods = list(test_prods.to_series())\n",
    "\n",
    "print(\"Total number of products in train + test datasets: \", len(set(train_prods + test_prods)))"
   ]
  },
  {
   "cell_type": "code",
   "execution_count": 5,
   "metadata": {},
   "outputs": [],
   "source": [
    "import json\n",
    "\n",
    "all_prods = list(set(train_prods + test_prods))\n",
    "\n",
    "# Save to JSON\n",
    "with open(ALL_PRODS_TRAINTEST_PATH, 'w') as f:\n",
    "    json.dump(all_prods, f)"
   ]
  },
  {
   "cell_type": "code",
   "execution_count": 33,
   "metadata": {},
   "outputs": [],
   "source": [
    "def impute_train_test(df):\n",
    "    \n",
    "    return df.with_columns([pl.col(\"user_id\").fill_null(-1).cast(pl.Int32),\n",
    "                        pl.col(\"pagetype\").fill_null(pl.col(\"pagetype\").mode()),\n",
    "                        ])\n",
    "\n",
    "train = impute_train_test(train)\n",
    "test = impute_train_test(test)"
   ]
  },
  {
   "cell_type": "code",
   "execution_count": 34,
   "metadata": {},
   "outputs": [],
   "source": [
    "# # Is each session from a single user? SI\n",
    "# train.drop_nulls()\\\n",
    "#     .group_by('session_id')\\\n",
    "#         .agg(pl.col('user_id').n_unique())\\\n",
    "#             .sort('user_id', descending=True)"
   ]
  },
  {
   "cell_type": "code",
   "execution_count": 52,
   "metadata": {},
   "outputs": [
    {
     "data": {
      "text/html": [
       "<div><style>\n",
       ".dataframe > thead > tr,\n",
       ".dataframe > tbody > tr {\n",
       "  text-align: right;\n",
       "  white-space: pre-wrap;\n",
       "}\n",
       "</style>\n",
       "<small>shape: (7_418, 2)</small><table border=\"1\" class=\"dataframe\"><thead><tr><th>session_id</th><th>user_id</th></tr><tr><td>u32</td><td>u32</td></tr></thead><tbody><tr><td>3745893</td><td>6480</td></tr><tr><td>205622</td><td>2022</td></tr><tr><td>2247260</td><td>1619</td></tr><tr><td>2656537</td><td>1132</td></tr><tr><td>3058982</td><td>1115</td></tr><tr><td>&hellip;</td><td>&hellip;</td></tr><tr><td>2473080</td><td>30</td></tr><tr><td>4965569</td><td>30</td></tr><tr><td>438060</td><td>30</td></tr><tr><td>2381296</td><td>30</td></tr><tr><td>1646213</td><td>30</td></tr></tbody></table></div>"
      ],
      "text/plain": [
       "shape: (7_418, 2)\n",
       "┌────────────┬─────────┐\n",
       "│ session_id ┆ user_id │\n",
       "│ ---        ┆ ---     │\n",
       "│ u32        ┆ u32     │\n",
       "╞════════════╪═════════╡\n",
       "│ 3745893    ┆ 6480    │\n",
       "│ 205622     ┆ 2022    │\n",
       "│ 2247260    ┆ 1619    │\n",
       "│ 2656537    ┆ 1132    │\n",
       "│ 3058982    ┆ 1115    │\n",
       "│ …          ┆ …       │\n",
       "│ 2473080    ┆ 30      │\n",
       "│ 4965569    ┆ 30      │\n",
       "│ 438060     ┆ 30      │\n",
       "│ 2381296    ┆ 30      │\n",
       "│ 1646213    ┆ 30      │\n",
       "└────────────┴─────────┘"
      ]
     },
     "execution_count": 52,
     "metadata": {},
     "output_type": "execute_result"
    }
   ],
   "source": [
    "# Some session with several interactions\n",
    "train.drop_nulls()\\\n",
    "    .group_by('session_id')\\\n",
    "        .agg(pl.col('user_id').count())\\\n",
    "            .sort('user_id', descending=True)\\\n",
    "                .filter(pl.col('user_id') >= 30)"
   ]
  },
  {
   "cell_type": "code",
   "execution_count": null,
   "metadata": {},
   "outputs": [],
   "source": [
    "# 2 FEATURES IMPORTANTES A CREAR\n",
    "# 1. Cuanto duro cada interaccion\n",
    "# 2. Si es la primera interaccion con el producto o que numero es\n",
    "\n",
    "def feature_engineering(df):\n",
    "\n",
    "    # Cleaning and sorting\n",
    "    df_ = (df.clone()\n",
    "           .drop(\"date\")\n",
    "           .sort(\"timestamp_local\")\n",
    "    )\n",
    "\n",
    "    # df_ = df_.with_columns([\n",
    "    #     # Calculate the difference in timestamps within each session\n",
    "    #     (pl.col(\"timestamp_local\").diff().over(\"session_id\").cast(pl.Float32) / 1_000_000).alias(\"seconds_since_last_interaction\"),\n",
    "    #     # Total session duration in seconds\n",
    "    #     ((pl.col(\"timestamp_local\").max() - pl.col(\"timestamp_local\").min()).over(\"session_id\").cast(pl.Float32) / 1_000_000).alias(\"total_session_time\"),\n",
    "\n",
    "    #     # Assign a cumulative count for each partnumber within a session\n",
    "    #     pl.col(\"partnumber\").cum_count().over([\"session_id\", \"partnumber\"]).alias(\"product_interaction_count\")\n",
    "    # ]).fill_null(strategy=\"zero\")\n",
    "\n",
    "    # df_ = df_.with_columns([\n",
    "    #             pl.col(\"seconds_since_last_interaction\").shift(-1).over(\"session_id\").alias(\"interaction_length\"),\n",
    "    # ]).fill_null(strategy=\"zero\")\n",
    "\n",
    "    # # Date features\n",
    "    # df_ = df_.with_columns([\n",
    "    #     # Extracting day number\n",
    "    #     pl.col(\"timestamp_local\").dt.day().alias(\"day_number\"),\n",
    "        \n",
    "    #     # Extracting weekday number\n",
    "    #     pl.col(\"timestamp_local\").dt.weekday().alias(\"weekday_number\"),\n",
    "        \n",
    "    #     # Extracting weekday name\n",
    "    #     pl.col(\"timestamp_local\").dt.strftime(\"%A\").alias(\"weekday_name\").cast(pl.Categorical),\n",
    "        \n",
    "    #     # Extracting hour\n",
    "    #     pl.col(\"timestamp_local\").dt.hour().alias(\"hour\")\n",
    "    # ])\n",
    "\n",
    "    # def get_day_frame(hour: int) -> int:\n",
    "    #     if 6 <= hour < 12:\n",
    "    #         return 0  # Morning\n",
    "    #     elif 12 <= hour < 18:\n",
    "    #         return 1  # Afternoon\n",
    "    #     elif 18 <= hour < 24:\n",
    "    #         return 2  # Night\n",
    "    #     else:\n",
    "    #         return 3  # Late Night\n",
    "        \n",
    "    # df_ = df_.with_columns([\n",
    "    #                 pl.col(\"hour\").map_elements(get_day_frame, return_dtype=pl.UInt8).alias(\"day_frame\")\n",
    "    #             ])\n",
    "\n",
    "    return df_\n",
    "\n",
    "train_eng = feature_engineering(train)\n",
    "test_eng = feature_engineering(test)"
   ]
  },
  {
   "cell_type": "code",
   "execution_count": 65,
   "metadata": {},
   "outputs": [
    {
     "name": "stdout",
     "output_type": "stream",
     "text": [
      "3\n"
     ]
    },
    {
     "data": {
      "text/html": [
       "<div><style>\n",
       ".dataframe > thead > tr,\n",
       ".dataframe > tbody > tr {\n",
       "  text-align: right;\n",
       "  white-space: pre-wrap;\n",
       "}\n",
       "</style>\n",
       "<small>shape: (30, 17)</small><table border=\"1\" class=\"dataframe\"><thead><tr><th>session_id</th><th>timestamp_local</th><th>add_to_cart</th><th>user_id</th><th>country</th><th>partnumber</th><th>device_type</th><th>pagetype</th><th>seconds_since_last_interaction</th><th>total_session_time</th><th>product_interaction_count</th><th>interaction_length</th><th>day_number</th><th>weekday_number</th><th>weekday_name</th><th>hour</th><th>day_frame</th></tr><tr><td>u32</td><td>datetime[μs]</td><td>u8</td><td>i32</td><td>u8</td><td>u16</td><td>u8</td><td>u8</td><td>f32</td><td>f32</td><td>u32</td><td>f32</td><td>i8</td><td>i8</td><td>cat</td><td>i8</td><td>u8</td></tr></thead><tbody><tr><td>2473080</td><td>2024-06-03 18:18:49.354</td><td>0</td><td>555107</td><td>25</td><td>3538</td><td>1</td><td>24</td><td>0.0</td><td>562.494019</td><td>1</td><td>20.379</td><td>3</td><td>1</td><td>&quot;Monday&quot;</td><td>18</td><td>2</td></tr><tr><td>2473080</td><td>2024-06-03 18:19:09.733</td><td>0</td><td>555107</td><td>25</td><td>1179</td><td>1</td><td>24</td><td>20.379</td><td>562.494019</td><td>1</td><td>6.371</td><td>3</td><td>1</td><td>&quot;Monday&quot;</td><td>18</td><td>2</td></tr><tr><td>2473080</td><td>2024-06-03 18:19:16.104</td><td>0</td><td>555107</td><td>25</td><td>26292</td><td>1</td><td>24</td><td>6.371</td><td>562.494019</td><td>1</td><td>3.676</td><td>3</td><td>1</td><td>&quot;Monday&quot;</td><td>18</td><td>2</td></tr><tr><td>2473080</td><td>2024-06-03 18:19:19.780</td><td>0</td><td>555107</td><td>25</td><td>1179</td><td>1</td><td>24</td><td>3.676</td><td>562.494019</td><td>2</td><td>4.217</td><td>3</td><td>1</td><td>&quot;Monday&quot;</td><td>18</td><td>2</td></tr><tr><td>2473080</td><td>2024-06-03 18:19:23.997</td><td>0</td><td>555107</td><td>25</td><td>31762</td><td>1</td><td>24</td><td>4.217</td><td>562.494019</td><td>1</td><td>3.186</td><td>3</td><td>1</td><td>&quot;Monday&quot;</td><td>18</td><td>2</td></tr><tr><td>&hellip;</td><td>&hellip;</td><td>&hellip;</td><td>&hellip;</td><td>&hellip;</td><td>&hellip;</td><td>&hellip;</td><td>&hellip;</td><td>&hellip;</td><td>&hellip;</td><td>&hellip;</td><td>&hellip;</td><td>&hellip;</td><td>&hellip;</td><td>&hellip;</td><td>&hellip;</td><td>&hellip;</td></tr><tr><td>2473080</td><td>2024-06-03 18:27:24.307</td><td>0</td><td>555107</td><td>25</td><td>24709</td><td>1</td><td>24</td><td>0.928</td><td>562.494019</td><td>1</td><td>1.707</td><td>3</td><td>1</td><td>&quot;Monday&quot;</td><td>18</td><td>2</td></tr><tr><td>2473080</td><td>2024-06-03 18:27:26.014</td><td>0</td><td>555107</td><td>25</td><td>39439</td><td>1</td><td>24</td><td>1.707</td><td>562.494019</td><td>1</td><td>9.912</td><td>3</td><td>1</td><td>&quot;Monday&quot;</td><td>18</td><td>2</td></tr><tr><td>2473080</td><td>2024-06-03 18:27:35.926</td><td>1</td><td>555107</td><td>25</td><td>24271</td><td>1</td><td>24</td><td>9.912</td><td>562.494019</td><td>2</td><td>16.382999</td><td>3</td><td>1</td><td>&quot;Monday&quot;</td><td>18</td><td>2</td></tr><tr><td>2473080</td><td>2024-06-03 18:27:52.309</td><td>0</td><td>555107</td><td>25</td><td>39520</td><td>1</td><td>24</td><td>16.382999</td><td>562.494019</td><td>3</td><td>19.539</td><td>3</td><td>1</td><td>&quot;Monday&quot;</td><td>18</td><td>2</td></tr><tr><td>2473080</td><td>2024-06-03 18:28:11.848</td><td>0</td><td>555107</td><td>25</td><td>3538</td><td>1</td><td>24</td><td>19.539</td><td>562.494019</td><td>4</td><td>0.0</td><td>3</td><td>1</td><td>&quot;Monday&quot;</td><td>18</td><td>2</td></tr></tbody></table></div>"
      ],
      "text/plain": [
       "shape: (30, 17)\n",
       "┌────────────┬─────────────┬────────────┬─────────┬───┬────────────┬────────────┬──────┬───────────┐\n",
       "│ session_id ┆ timestamp_l ┆ add_to_car ┆ user_id ┆ … ┆ weekday_nu ┆ weekday_na ┆ hour ┆ day_frame │\n",
       "│ ---        ┆ ocal        ┆ t          ┆ ---     ┆   ┆ mber       ┆ me         ┆ ---  ┆ ---       │\n",
       "│ u32        ┆ ---         ┆ ---        ┆ i32     ┆   ┆ ---        ┆ ---        ┆ i8   ┆ u8        │\n",
       "│            ┆ datetime[μs ┆ u8         ┆         ┆   ┆ i8         ┆ cat        ┆      ┆           │\n",
       "│            ┆ ]           ┆            ┆         ┆   ┆            ┆            ┆      ┆           │\n",
       "╞════════════╪═════════════╪════════════╪═════════╪═══╪════════════╪════════════╪══════╪═══════════╡\n",
       "│ 2473080    ┆ 2024-06-03  ┆ 0          ┆ 555107  ┆ … ┆ 1          ┆ Monday     ┆ 18   ┆ 2         │\n",
       "│            ┆ 18:18:49.35 ┆            ┆         ┆   ┆            ┆            ┆      ┆           │\n",
       "│            ┆ 4           ┆            ┆         ┆   ┆            ┆            ┆      ┆           │\n",
       "│ 2473080    ┆ 2024-06-03  ┆ 0          ┆ 555107  ┆ … ┆ 1          ┆ Monday     ┆ 18   ┆ 2         │\n",
       "│            ┆ 18:19:09.73 ┆            ┆         ┆   ┆            ┆            ┆      ┆           │\n",
       "│            ┆ 3           ┆            ┆         ┆   ┆            ┆            ┆      ┆           │\n",
       "│ 2473080    ┆ 2024-06-03  ┆ 0          ┆ 555107  ┆ … ┆ 1          ┆ Monday     ┆ 18   ┆ 2         │\n",
       "│            ┆ 18:19:16.10 ┆            ┆         ┆   ┆            ┆            ┆      ┆           │\n",
       "│            ┆ 4           ┆            ┆         ┆   ┆            ┆            ┆      ┆           │\n",
       "│ 2473080    ┆ 2024-06-03  ┆ 0          ┆ 555107  ┆ … ┆ 1          ┆ Monday     ┆ 18   ┆ 2         │\n",
       "│            ┆ 18:19:19.78 ┆            ┆         ┆   ┆            ┆            ┆      ┆           │\n",
       "│            ┆ 0           ┆            ┆         ┆   ┆            ┆            ┆      ┆           │\n",
       "│ 2473080    ┆ 2024-06-03  ┆ 0          ┆ 555107  ┆ … ┆ 1          ┆ Monday     ┆ 18   ┆ 2         │\n",
       "│            ┆ 18:19:23.99 ┆            ┆         ┆   ┆            ┆            ┆      ┆           │\n",
       "│            ┆ 7           ┆            ┆         ┆   ┆            ┆            ┆      ┆           │\n",
       "│ …          ┆ …           ┆ …          ┆ …       ┆ … ┆ …          ┆ …          ┆ …    ┆ …         │\n",
       "│ 2473080    ┆ 2024-06-03  ┆ 0          ┆ 555107  ┆ … ┆ 1          ┆ Monday     ┆ 18   ┆ 2         │\n",
       "│            ┆ 18:27:24.30 ┆            ┆         ┆   ┆            ┆            ┆      ┆           │\n",
       "│            ┆ 7           ┆            ┆         ┆   ┆            ┆            ┆      ┆           │\n",
       "│ 2473080    ┆ 2024-06-03  ┆ 0          ┆ 555107  ┆ … ┆ 1          ┆ Monday     ┆ 18   ┆ 2         │\n",
       "│            ┆ 18:27:26.01 ┆            ┆         ┆   ┆            ┆            ┆      ┆           │\n",
       "│            ┆ 4           ┆            ┆         ┆   ┆            ┆            ┆      ┆           │\n",
       "│ 2473080    ┆ 2024-06-03  ┆ 1          ┆ 555107  ┆ … ┆ 1          ┆ Monday     ┆ 18   ┆ 2         │\n",
       "│            ┆ 18:27:35.92 ┆            ┆         ┆   ┆            ┆            ┆      ┆           │\n",
       "│            ┆ 6           ┆            ┆         ┆   ┆            ┆            ┆      ┆           │\n",
       "│ 2473080    ┆ 2024-06-03  ┆ 0          ┆ 555107  ┆ … ┆ 1          ┆ Monday     ┆ 18   ┆ 2         │\n",
       "│            ┆ 18:27:52.30 ┆            ┆         ┆   ┆            ┆            ┆      ┆           │\n",
       "│            ┆ 9           ┆            ┆         ┆   ┆            ┆            ┆      ┆           │\n",
       "│ 2473080    ┆ 2024-06-03  ┆ 0          ┆ 555107  ┆ … ┆ 1          ┆ Monday     ┆ 18   ┆ 2         │\n",
       "│            ┆ 18:28:11.84 ┆            ┆         ┆   ┆            ┆            ┆      ┆           │\n",
       "│            ┆ 8           ┆            ┆         ┆   ┆            ┆            ┆      ┆           │\n",
       "└────────────┴─────────────┴────────────┴─────────┴───┴────────────┴────────────┴──────┴───────────┘"
      ]
     },
     "execution_count": 65,
     "metadata": {},
     "output_type": "execute_result"
    }
   ],
   "source": [
    "df = train_eng.filter(pl.col('session_id') == 2473080).sort('timestamp_local')\n",
    "print(df['add_to_cart'].sum())\n",
    "df"
   ]
  },
  {
   "cell_type": "markdown",
   "metadata": {},
   "source": [
    "Useful information:"
   ]
  },
  {
   "cell_type": "code",
   "execution_count": 66,
   "metadata": {},
   "outputs": [
    {
     "name": "stdout",
     "output_type": "stream",
     "text": [
      "**************************************************\n",
      "TRAIN DATA:\n",
      "**************************************************\n",
      "Unique session IDs\n",
      "95364\n",
      "\n",
      "Number of interacted products\n",
      "26380\n",
      "\n",
      "Date range:\n",
      "2024-06-01\n",
      "2024-06-15\n",
      "\n",
      " **************************************************\n",
      "TEST DATA:\n",
      "**************************************************\n",
      "Unique session IDs\n",
      "7349\n",
      "\n",
      "Number of interacted products\n",
      "9253\n",
      "\n",
      "Date range:\n",
      "2024-06-15\n",
      "2024-06-16\n"
     ]
    }
   ],
   "source": [
    "print(\"*\"*50)\n",
    "print(\"TRAIN DATA:\")\n",
    "print(\"*\"*50)\n",
    "print(\"Unique session IDs\")\n",
    "print(train['session_id'].n_unique())\n",
    "\n",
    "print(\"\\nNumber of interacted products\")\n",
    "print(train['partnumber'].n_unique())\n",
    "\n",
    "print(\"\\nDate range:\")\n",
    "print(train['date'].min())\n",
    "print(train['date'].max()) #----> Extraer entonces solo: NUMERO DIA, NUMERO DIA DE LA SEMANA, NOMBRE DIA DE LA SEMANA, NUMERO HORA, MAÑANA/TARDE/NOCHE\n",
    "\n",
    "print(\"\\n\",\"*\"*50)\n",
    "print(\"TEST DATA:\")\n",
    "print(\"*\"*50)\n",
    "print(\"Unique session IDs\")\n",
    "print(test['session_id'].n_unique())\n",
    "\n",
    "print(\"\\nNumber of interacted products\")\n",
    "print(test['partnumber'].n_unique())\n",
    "\n",
    "print(\"\\nDate range:\")\n",
    "print(test['date'].min())\n",
    "print(test['date'].max())"
   ]
  },
  {
   "cell_type": "code",
   "execution_count": 6,
   "metadata": {},
   "outputs": [
    {
     "data": {
      "text/html": [
       "<div><style>\n",
       ".dataframe > thead > tr,\n",
       ".dataframe > tbody > tr {\n",
       "  text-align: right;\n",
       "  white-space: pre-wrap;\n",
       "}\n",
       "</style>\n",
       "<small>shape: (1, 8)</small><table border=\"1\" class=\"dataframe\"><thead><tr><th>session_id</th><th>date</th><th>timestamp_local</th><th>user_id</th><th>country</th><th>partnumber</th><th>device_type</th><th>pagetype</th></tr><tr><td>u32</td><td>u32</td><td>u32</td><td>u32</td><td>u32</td><td>u32</td><td>u32</td><td>u32</td></tr></thead><tbody><tr><td>0</td><td>0</td><td>0</td><td>23509</td><td>0</td><td>0</td><td>0</td><td>0</td></tr></tbody></table></div>"
      ],
      "text/plain": [
       "shape: (1, 8)\n",
       "┌────────────┬──────┬─────────────────┬─────────┬─────────┬────────────┬─────────────┬──────────┐\n",
       "│ session_id ┆ date ┆ timestamp_local ┆ user_id ┆ country ┆ partnumber ┆ device_type ┆ pagetype │\n",
       "│ ---        ┆ ---  ┆ ---             ┆ ---     ┆ ---     ┆ ---        ┆ ---         ┆ ---      │\n",
       "│ u32        ┆ u32  ┆ u32             ┆ u32     ┆ u32     ┆ u32        ┆ u32         ┆ u32      │\n",
       "╞════════════╪══════╪═════════════════╪═════════╪═════════╪════════════╪═════════════╪══════════╡\n",
       "│ 0          ┆ 0    ┆ 0               ┆ 23509   ┆ 0       ┆ 0          ┆ 0           ┆ 0        │\n",
       "└────────────┴──────┴─────────────────┴─────────┴─────────┴────────────┴─────────────┴──────────┘"
      ]
     },
     "execution_count": 6,
     "metadata": {},
     "output_type": "execute_result"
    }
   ],
   "source": [
    "test.null_count()"
   ]
  },
  {
   "cell_type": "code",
   "execution_count": 15,
   "metadata": {},
   "outputs": [
    {
     "data": {
      "text/html": [
       "<div><style>\n",
       ".dataframe > thead > tr,\n",
       ".dataframe > tbody > tr {\n",
       "  text-align: right;\n",
       "  white-space: pre-wrap;\n",
       "}\n",
       "</style>\n",
       "<small>shape: (29_275, 8)</small><table border=\"1\" class=\"dataframe\"><thead><tr><th>session_id</th><th>date</th><th>timestamp_local</th><th>user_id</th><th>country</th><th>partnumber</th><th>device_type</th><th>pagetype</th></tr><tr><td>u32</td><td>date</td><td>datetime[μs]</td><td>u32</td><td>u8</td><td>u16</td><td>u8</td><td>u8</td></tr></thead><tbody><tr><td>746</td><td>2024-06-15</td><td>2024-06-15 18:36:47.390</td><td>null</td><td>57</td><td>1254</td><td>1</td><td>24</td></tr><tr><td>746</td><td>2024-06-15</td><td>2024-06-15 18:37:04.052</td><td>null</td><td>57</td><td>32544</td><td>1</td><td>24</td></tr><tr><td>746</td><td>2024-06-15</td><td>2024-06-15 18:37:48.159</td><td>null</td><td>57</td><td>12639</td><td>1</td><td>24</td></tr><tr><td>746</td><td>2024-06-15</td><td>2024-06-15 18:38:19.899</td><td>null</td><td>57</td><td>18048</td><td>1</td><td>24</td></tr><tr><td>746</td><td>2024-06-15</td><td>2024-06-15 18:38:46.492</td><td>null</td><td>57</td><td>13295</td><td>1</td><td>24</td></tr><tr><td>&hellip;</td><td>&hellip;</td><td>&hellip;</td><td>&hellip;</td><td>&hellip;</td><td>&hellip;</td><td>&hellip;</td><td>&hellip;</td></tr><tr><td>5167195</td><td>2024-06-16</td><td>2024-06-16 13:13:10.152</td><td>null</td><td>34</td><td>30113</td><td>1</td><td>24</td></tr><tr><td>5167272</td><td>2024-06-16</td><td>2024-06-16 18:58:15.562</td><td>null</td><td>34</td><td>28922</td><td>1</td><td>8</td></tr><tr><td>5168338</td><td>2024-06-15</td><td>2024-06-15 21:36:15.931</td><td>null</td><td>34</td><td>13467</td><td>1</td><td>24</td></tr><tr><td>5168492</td><td>2024-06-16</td><td>2024-06-16 04:06:03.528</td><td>null</td><td>34</td><td>13732</td><td>1</td><td>24</td></tr><tr><td>5168933</td><td>2024-06-16</td><td>2024-06-16 04:53:26.427</td><td>null</td><td>57</td><td>8969</td><td>1</td><td>24</td></tr></tbody></table></div>"
      ],
      "text/plain": [
       "shape: (29_275, 8)\n",
       "┌────────────┬────────────┬──────────────┬─────────┬─────────┬────────────┬─────────────┬──────────┐\n",
       "│ session_id ┆ date       ┆ timestamp_lo ┆ user_id ┆ country ┆ partnumber ┆ device_type ┆ pagetype │\n",
       "│ ---        ┆ ---        ┆ cal          ┆ ---     ┆ ---     ┆ ---        ┆ ---         ┆ ---      │\n",
       "│ u32        ┆ date       ┆ ---          ┆ u32     ┆ u8      ┆ u16        ┆ u8          ┆ u8       │\n",
       "│            ┆            ┆ datetime[μs] ┆         ┆         ┆            ┆             ┆          │\n",
       "╞════════════╪════════════╪══════════════╪═════════╪═════════╪════════════╪═════════════╪══════════╡\n",
       "│ 746        ┆ 2024-06-15 ┆ 2024-06-15   ┆ null    ┆ 57      ┆ 1254       ┆ 1           ┆ 24       │\n",
       "│            ┆            ┆ 18:36:47.390 ┆         ┆         ┆            ┆             ┆          │\n",
       "│ 746        ┆ 2024-06-15 ┆ 2024-06-15   ┆ null    ┆ 57      ┆ 32544      ┆ 1           ┆ 24       │\n",
       "│            ┆            ┆ 18:37:04.052 ┆         ┆         ┆            ┆             ┆          │\n",
       "│ 746        ┆ 2024-06-15 ┆ 2024-06-15   ┆ null    ┆ 57      ┆ 12639      ┆ 1           ┆ 24       │\n",
       "│            ┆            ┆ 18:37:48.159 ┆         ┆         ┆            ┆             ┆          │\n",
       "│ 746        ┆ 2024-06-15 ┆ 2024-06-15   ┆ null    ┆ 57      ┆ 18048      ┆ 1           ┆ 24       │\n",
       "│            ┆            ┆ 18:38:19.899 ┆         ┆         ┆            ┆             ┆          │\n",
       "│ 746        ┆ 2024-06-15 ┆ 2024-06-15   ┆ null    ┆ 57      ┆ 13295      ┆ 1           ┆ 24       │\n",
       "│            ┆            ┆ 18:38:46.492 ┆         ┆         ┆            ┆             ┆          │\n",
       "│ …          ┆ …          ┆ …            ┆ …       ┆ …       ┆ …          ┆ …           ┆ …        │\n",
       "│ 5167195    ┆ 2024-06-16 ┆ 2024-06-16   ┆ null    ┆ 34      ┆ 30113      ┆ 1           ┆ 24       │\n",
       "│            ┆            ┆ 13:13:10.152 ┆         ┆         ┆            ┆             ┆          │\n",
       "│ 5167272    ┆ 2024-06-16 ┆ 2024-06-16   ┆ null    ┆ 34      ┆ 28922      ┆ 1           ┆ 8        │\n",
       "│            ┆            ┆ 18:58:15.562 ┆         ┆         ┆            ┆             ┆          │\n",
       "│ 5168338    ┆ 2024-06-15 ┆ 2024-06-15   ┆ null    ┆ 34      ┆ 13467      ┆ 1           ┆ 24       │\n",
       "│            ┆            ┆ 21:36:15.931 ┆         ┆         ┆            ┆             ┆          │\n",
       "│ 5168492    ┆ 2024-06-16 ┆ 2024-06-16   ┆ null    ┆ 34      ┆ 13732      ┆ 1           ┆ 24       │\n",
       "│            ┆            ┆ 04:06:03.528 ┆         ┆         ┆            ┆             ┆          │\n",
       "│ 5168933    ┆ 2024-06-16 ┆ 2024-06-16   ┆ null    ┆ 57      ┆ 8969       ┆ 1           ┆ 24       │\n",
       "│            ┆            ┆ 04:53:26.427 ┆         ┆         ┆            ┆             ┆          │\n",
       "└────────────┴────────────┴──────────────┴─────────┴─────────┴────────────┴─────────────┴──────────┘"
      ]
     },
     "execution_count": 15,
     "metadata": {},
     "output_type": "execute_result"
    }
   ],
   "source": [
    "test"
   ]
  },
  {
   "cell_type": "code",
   "execution_count": 7,
   "metadata": {},
   "outputs": [
    {
     "name": "stdout",
     "output_type": "stream",
     "text": [
      "(46551445, 9) (29275, 8)\n"
     ]
    }
   ],
   "source": [
    "print(train.shape, test.shape)"
   ]
  },
  {
   "cell_type": "code",
   "execution_count": 16,
   "metadata": {},
   "outputs": [
    {
     "data": {
      "text/html": [
       "<div><style>\n",
       ".dataframe > thead > tr,\n",
       ".dataframe > tbody > tr {\n",
       "  text-align: right;\n",
       "  white-space: pre-wrap;\n",
       "}\n",
       "</style>\n",
       "<small>shape: (1, 9)</small><table border=\"1\" class=\"dataframe\"><thead><tr><th>session_id</th><th>date</th><th>timestamp_local</th><th>add_to_cart</th><th>user_id</th><th>country</th><th>partnumber</th><th>device_type</th><th>pagetype</th></tr><tr><td>u32</td><td>u32</td><td>u32</td><td>u32</td><td>u32</td><td>u32</td><td>u32</td><td>u32</td><td>u32</td></tr></thead><tbody><tr><td>0</td><td>0</td><td>0</td><td>0</td><td>39694715</td><td>0</td><td>0</td><td>0</td><td>1197</td></tr></tbody></table></div>"
      ],
      "text/plain": [
       "shape: (1, 9)\n",
       "┌────────────┬──────┬─────────────┬─────────────┬───┬─────────┬────────────┬────────────┬──────────┐\n",
       "│ session_id ┆ date ┆ timestamp_l ┆ add_to_cart ┆ … ┆ country ┆ partnumber ┆ device_typ ┆ pagetype │\n",
       "│ ---        ┆ ---  ┆ ocal        ┆ ---         ┆   ┆ ---     ┆ ---        ┆ e          ┆ ---      │\n",
       "│ u32        ┆ u32  ┆ ---         ┆ u32         ┆   ┆ u32     ┆ u32        ┆ ---        ┆ u32      │\n",
       "│            ┆      ┆ u32         ┆             ┆   ┆         ┆            ┆ u32        ┆          │\n",
       "╞════════════╪══════╪═════════════╪═════════════╪═══╪═════════╪════════════╪════════════╪══════════╡\n",
       "│ 0          ┆ 0    ┆ 0           ┆ 0           ┆ … ┆ 0       ┆ 0          ┆ 0          ┆ 1197     │\n",
       "└────────────┴──────┴─────────────┴─────────────┴───┴─────────┴────────────┴────────────┴──────────┘"
      ]
     },
     "execution_count": 16,
     "metadata": {},
     "output_type": "execute_result"
    }
   ],
   "source": [
    "train.null_count()"
   ]
  },
  {
   "cell_type": "code",
   "execution_count": 23,
   "metadata": {},
   "outputs": [
    {
     "data": {
      "text/html": [
       "<div><style>\n",
       ".dataframe > thead > tr,\n",
       ".dataframe > tbody > tr {\n",
       "  text-align: right;\n",
       "  white-space: pre-wrap;\n",
       "}\n",
       "</style>\n",
       "<small>shape: (17, 9)</small><table border=\"1\" class=\"dataframe\"><thead><tr><th>session_id</th><th>date</th><th>timestamp_local</th><th>add_to_cart</th><th>user_id</th><th>country</th><th>partnumber</th><th>device_type</th><th>pagetype</th></tr><tr><td>u32</td><td>date</td><td>datetime[μs]</td><td>u8</td><td>u32</td><td>u8</td><td>u16</td><td>u8</td><td>u8</td></tr></thead><tbody><tr><td>2076921</td><td>2024-06-11</td><td>2024-06-11 23:47:51.411</td><td>0</td><td>null</td><td>29</td><td>37857</td><td>3</td><td>24</td></tr><tr><td>2076921</td><td>2024-06-11</td><td>2024-06-11 23:48:18.931</td><td>0</td><td>null</td><td>29</td><td>34242</td><td>3</td><td>24</td></tr><tr><td>2076921</td><td>2024-06-11</td><td>2024-06-11 23:48:21.063</td><td>0</td><td>null</td><td>29</td><td>5785</td><td>3</td><td>24</td></tr><tr><td>2076921</td><td>2024-06-11</td><td>2024-06-11 23:48:24.248</td><td>0</td><td>null</td><td>29</td><td>34242</td><td>3</td><td>24</td></tr><tr><td>2076921</td><td>2024-06-11</td><td>2024-06-11 23:48:25.571</td><td>0</td><td>null</td><td>29</td><td>29424</td><td>3</td><td>24</td></tr><tr><td>&hellip;</td><td>&hellip;</td><td>&hellip;</td><td>&hellip;</td><td>&hellip;</td><td>&hellip;</td><td>&hellip;</td><td>&hellip;</td><td>&hellip;</td></tr><tr><td>2076921</td><td>2024-06-11</td><td>2024-06-11 23:50:52.886</td><td>0</td><td>null</td><td>29</td><td>3076</td><td>3</td><td>24</td></tr><tr><td>2076921</td><td>2024-06-11</td><td>2024-06-11 23:51:04.643</td><td>0</td><td>null</td><td>29</td><td>12641</td><td>3</td><td>24</td></tr><tr><td>2076921</td><td>2024-06-11</td><td>2024-06-11 23:51:10.625</td><td>1</td><td>null</td><td>29</td><td>3076</td><td>3</td><td>24</td></tr><tr><td>2076921</td><td>2024-06-11</td><td>2024-06-11 23:53:51.955</td><td>0</td><td>null</td><td>29</td><td>28617</td><td>3</td><td>24</td></tr><tr><td>2076921</td><td>2024-06-11</td><td>2024-06-11 23:56:29.289</td><td>0</td><td>null</td><td>29</td><td>3076</td><td>3</td><td>24</td></tr></tbody></table></div>"
      ],
      "text/plain": [
       "shape: (17, 9)\n",
       "┌────────────┬────────────┬───────────┬───────────┬───┬─────────┬───────────┬───────────┬──────────┐\n",
       "│ session_id ┆ date       ┆ timestamp ┆ add_to_ca ┆ … ┆ country ┆ partnumbe ┆ device_ty ┆ pagetype │\n",
       "│ ---        ┆ ---        ┆ _local    ┆ rt        ┆   ┆ ---     ┆ r         ┆ pe        ┆ ---      │\n",
       "│ u32        ┆ date       ┆ ---       ┆ ---       ┆   ┆ u8      ┆ ---       ┆ ---       ┆ u8       │\n",
       "│            ┆            ┆ datetime[ ┆ u8        ┆   ┆         ┆ u16       ┆ u8        ┆          │\n",
       "│            ┆            ┆ μs]       ┆           ┆   ┆         ┆           ┆           ┆          │\n",
       "╞════════════╪════════════╪═══════════╪═══════════╪═══╪═════════╪═══════════╪═══════════╪══════════╡\n",
       "│ 2076921    ┆ 2024-06-11 ┆ 2024-06-1 ┆ 0         ┆ … ┆ 29      ┆ 37857     ┆ 3         ┆ 24       │\n",
       "│            ┆            ┆ 1 23:47:5 ┆           ┆   ┆         ┆           ┆           ┆          │\n",
       "│            ┆            ┆ 1.411     ┆           ┆   ┆         ┆           ┆           ┆          │\n",
       "│ 2076921    ┆ 2024-06-11 ┆ 2024-06-1 ┆ 0         ┆ … ┆ 29      ┆ 34242     ┆ 3         ┆ 24       │\n",
       "│            ┆            ┆ 1 23:48:1 ┆           ┆   ┆         ┆           ┆           ┆          │\n",
       "│            ┆            ┆ 8.931     ┆           ┆   ┆         ┆           ┆           ┆          │\n",
       "│ 2076921    ┆ 2024-06-11 ┆ 2024-06-1 ┆ 0         ┆ … ┆ 29      ┆ 5785      ┆ 3         ┆ 24       │\n",
       "│            ┆            ┆ 1 23:48:2 ┆           ┆   ┆         ┆           ┆           ┆          │\n",
       "│            ┆            ┆ 1.063     ┆           ┆   ┆         ┆           ┆           ┆          │\n",
       "│ 2076921    ┆ 2024-06-11 ┆ 2024-06-1 ┆ 0         ┆ … ┆ 29      ┆ 34242     ┆ 3         ┆ 24       │\n",
       "│            ┆            ┆ 1 23:48:2 ┆           ┆   ┆         ┆           ┆           ┆          │\n",
       "│            ┆            ┆ 4.248     ┆           ┆   ┆         ┆           ┆           ┆          │\n",
       "│ 2076921    ┆ 2024-06-11 ┆ 2024-06-1 ┆ 0         ┆ … ┆ 29      ┆ 29424     ┆ 3         ┆ 24       │\n",
       "│            ┆            ┆ 1 23:48:2 ┆           ┆   ┆         ┆           ┆           ┆          │\n",
       "│            ┆            ┆ 5.571     ┆           ┆   ┆         ┆           ┆           ┆          │\n",
       "│ …          ┆ …          ┆ …         ┆ …         ┆ … ┆ …       ┆ …         ┆ …         ┆ …        │\n",
       "│ 2076921    ┆ 2024-06-11 ┆ 2024-06-1 ┆ 0         ┆ … ┆ 29      ┆ 3076      ┆ 3         ┆ 24       │\n",
       "│            ┆            ┆ 1 23:50:5 ┆           ┆   ┆         ┆           ┆           ┆          │\n",
       "│            ┆            ┆ 2.886     ┆           ┆   ┆         ┆           ┆           ┆          │\n",
       "│ 2076921    ┆ 2024-06-11 ┆ 2024-06-1 ┆ 0         ┆ … ┆ 29      ┆ 12641     ┆ 3         ┆ 24       │\n",
       "│            ┆            ┆ 1 23:51:0 ┆           ┆   ┆         ┆           ┆           ┆          │\n",
       "│            ┆            ┆ 4.643     ┆           ┆   ┆         ┆           ┆           ┆          │\n",
       "│ 2076921    ┆ 2024-06-11 ┆ 2024-06-1 ┆ 1         ┆ … ┆ 29      ┆ 3076      ┆ 3         ┆ 24       │\n",
       "│            ┆            ┆ 1 23:51:1 ┆           ┆   ┆         ┆           ┆           ┆          │\n",
       "│            ┆            ┆ 0.625     ┆           ┆   ┆         ┆           ┆           ┆          │\n",
       "│ 2076921    ┆ 2024-06-11 ┆ 2024-06-1 ┆ 0         ┆ … ┆ 29      ┆ 28617     ┆ 3         ┆ 24       │\n",
       "│            ┆            ┆ 1 23:53:5 ┆           ┆   ┆         ┆           ┆           ┆          │\n",
       "│            ┆            ┆ 1.955     ┆           ┆   ┆         ┆           ┆           ┆          │\n",
       "│ 2076921    ┆ 2024-06-11 ┆ 2024-06-1 ┆ 0         ┆ … ┆ 29      ┆ 3076      ┆ 3         ┆ 24       │\n",
       "│            ┆            ┆ 1 23:56:2 ┆           ┆   ┆         ┆           ┆           ┆          │\n",
       "│            ┆            ┆ 9.289     ┆           ┆   ┆         ┆           ┆           ┆          │\n",
       "└────────────┴────────────┴───────────┴───────────┴───┴─────────┴───────────┴───────────┴──────────┘"
      ]
     },
     "execution_count": 23,
     "metadata": {},
     "output_type": "execute_result"
    }
   ],
   "source": [
    "df = train.filter(pl.col('session_id') == 2076921).sort('timestamp_local')\n",
    "df"
   ]
  },
  {
   "cell_type": "code",
   "execution_count": null,
   "metadata": {},
   "outputs": [],
   "source": []
  },
  {
   "cell_type": "code",
   "execution_count": 24,
   "metadata": {},
   "outputs": [
    {
     "data": {
      "text/html": [
       "<div><style>\n",
       ".dataframe > thead > tr,\n",
       ".dataframe > tbody > tr {\n",
       "  text-align: right;\n",
       "  white-space: pre-wrap;\n",
       "}\n",
       "</style>\n",
       "<small>shape: (9, 2)</small><table border=\"1\" class=\"dataframe\"><thead><tr><th>partnumber</th><th>count</th></tr><tr><td>u16</td><td>u32</td></tr></thead><tbody><tr><td>5667</td><td>1</td></tr><tr><td>29424</td><td>3</td></tr><tr><td>5785</td><td>1</td></tr><tr><td>12641</td><td>1</td></tr><tr><td>37857</td><td>1</td></tr><tr><td>3076</td><td>3</td></tr><tr><td>28617</td><td>1</td></tr><tr><td>4774</td><td>1</td></tr><tr><td>34242</td><td>5</td></tr></tbody></table></div>"
      ],
      "text/plain": [
       "shape: (9, 2)\n",
       "┌────────────┬───────┐\n",
       "│ partnumber ┆ count │\n",
       "│ ---        ┆ ---   │\n",
       "│ u16        ┆ u32   │\n",
       "╞════════════╪═══════╡\n",
       "│ 5667       ┆ 1     │\n",
       "│ 29424      ┆ 3     │\n",
       "│ 5785       ┆ 1     │\n",
       "│ 12641      ┆ 1     │\n",
       "│ 37857      ┆ 1     │\n",
       "│ 3076       ┆ 3     │\n",
       "│ 28617      ┆ 1     │\n",
       "│ 4774       ┆ 1     │\n",
       "│ 34242      ┆ 5     │\n",
       "└────────────┴───────┘"
      ]
     },
     "execution_count": 24,
     "metadata": {},
     "output_type": "execute_result"
    }
   ],
   "source": [
    "df['partnumber'].value_counts()"
   ]
  },
  {
   "cell_type": "code",
   "execution_count": 31,
   "metadata": {},
   "outputs": [
    {
     "data": {
      "text/html": [
       "<div><style>\n",
       ".dataframe > thead > tr,\n",
       ".dataframe > tbody > tr {\n",
       "  text-align: right;\n",
       "  white-space: pre-wrap;\n",
       "}\n",
       "</style>\n",
       "<small>shape: (1, 2)</small><table border=\"1\" class=\"dataframe\"><thead><tr><th>session_id</th><th>partnumber</th></tr><tr><td>u32</td><td>u32</td></tr></thead><tbody><tr><td>2076921</td><td>17</td></tr></tbody></table></div>"
      ],
      "text/plain": [
       "shape: (1, 2)\n",
       "┌────────────┬────────────┐\n",
       "│ session_id ┆ partnumber │\n",
       "│ ---        ┆ ---        │\n",
       "│ u32        ┆ u32        │\n",
       "╞════════════╪════════════╡\n",
       "│ 2076921    ┆ 17         │\n",
       "└────────────┴────────────┘"
      ]
     },
     "execution_count": 31,
     "metadata": {},
     "output_type": "execute_result"
    }
   ],
   "source": [
    "df.group_by('session_id').agg(pl.col('partnumber').count())"
   ]
  },
  {
   "cell_type": "markdown",
   "metadata": {},
   "source": [
    "## Users data"
   ]
  },
  {
   "cell_type": "code",
   "execution_count": 33,
   "metadata": {},
   "outputs": [
    {
     "name": "stdout",
     "output_type": "stream",
     "text": [
      "shape: (5, 5)\n",
      "┌──────────────┬─────┬─────┬───────────┬─────────┐\n",
      "│ user_country ┆ R   ┆ F   ┆ M         ┆ user_id │\n",
      "│ ---          ┆ --- ┆ --- ┆ ---       ┆ ---     │\n",
      "│ u8           ┆ u16 ┆ u16 ┆ f32       ┆ u32     │\n",
      "╞══════════════╪═════╪═════╪═══════════╪═════════╡\n",
      "│ 25           ┆ 30  ┆ 0   ┆ 0.0       ┆ 430102  │\n",
      "│ 25           ┆ 177 ┆ 1   ┆ 75.900002 ┆ 134198  │\n",
      "│ 25           ┆ 32  ┆ 61  ┆ 37.694057 ┆ 134207  │\n",
      "│ 25           ┆ 74  ┆ 86  ┆ 11.64094  ┆ 180365  │\n",
      "│ 25           ┆ 79  ┆ 5   ┆ 30.283333 ┆ 430101  │\n",
      "└──────────────┴─────┴─────┴───────────┴─────────┘\n",
      "shape: (1, 5)\n",
      "┌──────────────┬─────┬─────┬─────┬─────────┐\n",
      "│ user_country ┆ R   ┆ F   ┆ M   ┆ user_id │\n",
      "│ ---          ┆ --- ┆ --- ┆ --- ┆ ---     │\n",
      "│ u32          ┆ u32 ┆ u32 ┆ u32 ┆ u32     │\n",
      "╞══════════════╪═════╪═════╪═════╪═════════╡\n",
      "│ 0            ┆ 0   ┆ 0   ┆ 0   ┆ 0       │\n",
      "└──────────────┴─────┴─────┴─────┴─────────┘\n"
     ]
    }
   ],
   "source": [
    "users = pl.read_parquet(USERS_DATA_PATH, low_memory=True).rename({'country': 'user_country'})\n",
    "print(users.head())\n",
    "print(users.null_count())"
   ]
  }
 ],
 "metadata": {
  "kernelspec": {
   "display_name": ".venv",
   "language": "python",
   "name": "python3"
  },
  "language_info": {
   "codemirror_mode": {
    "name": "ipython",
    "version": 3
   },
   "file_extension": ".py",
   "mimetype": "text/x-python",
   "name": "python",
   "nbconvert_exporter": "python",
   "pygments_lexer": "ipython3",
   "version": "3.12.4"
  }
 },
 "nbformat": 4,
 "nbformat_minor": 2
}
