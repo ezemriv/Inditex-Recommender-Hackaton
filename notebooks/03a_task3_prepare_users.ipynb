{
 "cells": [
  {
   "cell_type": "markdown",
   "metadata": {},
   "source": [
    "# Imports and paths"
   ]
  },
  {
   "cell_type": "code",
   "execution_count": 45,
   "metadata": {},
   "outputs": [],
   "source": [
    "import os\n",
    "import sys\n",
    "\n",
    "# root path\n",
    "ROOT = os.path.abspath(os.path.join(os.getcwd(), '..'))\n",
    "\n",
    "# Add the project root to the Python path\n",
    "if ROOT not in sys.path:\n",
    "    sys.path.append(ROOT)\n",
    "\n",
    "import polars as pl\n",
    "import pandas as pd\n",
    "import numpy as np\n",
    "import json"
   ]
  },
  {
   "cell_type": "code",
   "execution_count": 46,
   "metadata": {},
   "outputs": [],
   "source": [
    "from config import TRAIN_PARQUET_PATH, TEST_PARQUET_PATH, PRODUCTS_PARQUET_PATH, USERS_DATA_PATH, PRODUCTS_PARQUET_PATH_IMPUTED, ALL_PRODS_TRAINTEST_PATH\n",
    "from src.data.loaders import PolarsLoader"
   ]
  },
  {
   "cell_type": "markdown",
   "metadata": {},
   "source": [
    "## Users data"
   ]
  },
  {
   "cell_type": "code",
   "execution_count": 47,
   "metadata": {},
   "outputs": [
    {
     "name": "stdout",
     "output_type": "stream",
     "text": [
      "shape: (5, 5)\n",
      "┌──────────────┬─────┬─────┬───────────┬─────────┐\n",
      "│ user_country ┆ R   ┆ F   ┆ M         ┆ user_id │\n",
      "│ ---          ┆ --- ┆ --- ┆ ---       ┆ ---     │\n",
      "│ i8           ┆ i16 ┆ i16 ┆ f32       ┆ i32     │\n",
      "╞══════════════╪═════╪═════╪═══════════╪═════════╡\n",
      "│ 25           ┆ 74  ┆ 86  ┆ 11.64094  ┆ 180365  │\n",
      "│ 25           ┆ 79  ┆ 5   ┆ 30.283333 ┆ 430101  │\n",
      "│ 25           ┆ 0   ┆ 35  ┆ 47.25     ┆ 134206  │\n",
      "│ 25           ┆ 0   ┆ 138 ┆ 46.604679 ┆ 180364  │\n",
      "│ 25           ┆ 1   ┆ 24  ┆ 66.113075 ┆ 430100  │\n",
      "└──────────────┴─────┴─────┴───────────┴─────────┘\n",
      "shape: (1, 5)\n",
      "┌──────────────┬─────┬─────┬─────┬─────────┐\n",
      "│ user_country ┆ R   ┆ F   ┆ M   ┆ user_id │\n",
      "│ ---          ┆ --- ┆ --- ┆ --- ┆ ---     │\n",
      "│ u32          ┆ u32 ┆ u32 ┆ u32 ┆ u32     │\n",
      "╞══════════════╪═════╪═════╪═════╪═════════╡\n",
      "│ 0            ┆ 0   ┆ 0   ┆ 0   ┆ 0       │\n",
      "└──────────────┴─────┴─────┴─────┴─────────┘\n",
      "Number of users: 557006\n"
     ]
    }
   ],
   "source": [
    "users = pl.read_parquet(USERS_DATA_PATH, low_memory=True).rename({'country': 'user_country'})\n",
    "print(users.head())\n",
    "print(users.null_count())\n",
    "print(\"Number of users:\", users['user_id'].n_unique())"
   ]
  },
  {
   "cell_type": "code",
   "execution_count": 48,
   "metadata": {},
   "outputs": [],
   "source": [
    "# Select only one entry per user by: HIGH F, HIGH R\n",
    "users = users.sort(['user_id', 'F', 'R'], descending=[False, True, True])\\\n",
    "            .group_by('user_id')\\\n",
    "            .agg(pl.all().first())"
   ]
  },
  {
   "cell_type": "code",
   "execution_count": 49,
   "metadata": {},
   "outputs": [],
   "source": [
    "def create_initial_extra_features(df: pl.DataFrame) -> pl.DataFrame:\n",
    "\n",
    "    df = df.with_columns([\n",
    "        # Average value per purchase\n",
    "        (pl.col('M') / pl.col('F')).alias('avg_value_per_purchase'),\n",
    "        # Purchase frequency rate (F normalized by time window)\n",
    "        (pl.col('F') / pl.col('R')).alias('purchase_rate').cast(pl.Float32),\n",
    "        # Value density (M normalized by time window)\n",
    "        (pl.col('M') / pl.col('R')).alias('spend_rate_per_day'),\n",
    "    ])\n",
    "\n",
    "    df = df.with_columns([\n",
    "        # Value-frequency relationship\n",
    "        (pl.col('M') * pl.col('F')).alias('total_value_frequency').cast(pl.Float32),\n",
    "        \n",
    "        # Recency-frequency relationship\n",
    "        ((pl.col('R') / pl.col('F'))).alias('avg_days_between_purchases').cast(pl.Float32),\n",
    "    ])\n",
    "\n",
    "    # Country stats and users relatives to country\n",
    "    contry_stats = df.group_by('user_country').agg([\n",
    "            pl.col('M').mean().alias('country_avg_monetary'),\n",
    "            pl.col('F').mean().alias('country_avg_frequency').cast(pl.Float32),\n",
    "            pl.col('R').mean().alias('country_avg_recency').cast(pl.Float32)\n",
    "        ])\n",
    "    df = df.join(contry_stats, on='user_country').with_columns([\n",
    "            (pl.col('M') / pl.col('country_avg_monetary')).alias('relative_monetary_value'),\n",
    "            (pl.col('F') / pl.col('country_avg_frequency')).alias('relative_frequency').cast(pl.Float32),\n",
    "            (pl.col('R') / pl.col('country_avg_recency')).alias('relative_recency').cast(pl.Float32),\n",
    "        ])\n",
    "\n",
    "    df = df.with_columns([\n",
    "        # High expend customer flag\n",
    "        (pl.col('M') > pl.col('M').mean().over('user_country')).cast(pl.Int8).alias('is_high_value_incountry'),\n",
    "        # Frequent buyer flag\n",
    "        (pl.col('F') > pl.col('F').mean().over('user_country')).cast(pl.Int8).alias('is_frequent_buyer_incountry'),\n",
    "        # Recent customer flag\n",
    "        (pl.col('R') > pl.col('R').mean().over('user_country')).cast(pl.Int8).alias('is_recent_customer_incountry'),\n",
    "        # High expend customer flag\n",
    "        (pl.col('M') > pl.col('M').mean()).cast(pl.Int8).alias('is_high_value'),\n",
    "        # Frequent buyer flag\n",
    "        (pl.col('F') > pl.col('F').mean()).cast(pl.Int8).alias('is_frequent_buyer'),\n",
    "        # Recent customer flag\n",
    "        (pl.col('R') > pl.col('R').mean()).cast(pl.Int8).alias('is_recent_customer'),\n",
    "    ])\n",
    "    \n",
    "    # Replace NaN and Inf values with 0\n",
    "    for col in ['purchase_rate', 'spend_rate_per_day', 'avg_days_between_purchases']:\n",
    "            if col in df.columns:\n",
    "                df = df.with_columns(pl.when(pl.col(col).is_nan() | (pl.col(col)\n",
    "                                                                                .is_infinite()))\n",
    "                                                                                .then(0)\n",
    "                                                                                .otherwise(pl.col(col))\n",
    "                                                                                .alias(col),)\n",
    "\n",
    "    return df\n",
    "\n",
    "users_eng = create_initial_extra_features(users)"
   ]
  },
  {
   "cell_type": "code",
   "execution_count": 50,
   "metadata": {},
   "outputs": [],
   "source": [
    "def create_rfm_segments_and_ranks(users_df):\n",
    "    # Create quintiles (5 segments) for each metric\n",
    "    return users_df.with_columns([\n",
    "        # Recency quintile (1 is most recent, 5 is least recent)\n",
    "        pl.col('R')\n",
    "            .rank(descending=True)  # High R is better\n",
    "            .over('user_country')\n",
    "            .map_batches(lambda x: pd.qcut(x, q=5, labels=False) + 1)\n",
    "            .alias('r_segment').cast(pl.UInt8),\n",
    "            \n",
    "        # Frequency quintile (1 is highest frequency, 5 is lowest)\n",
    "        pl.col('F')\n",
    "            .rank(descending=True)   # higher F is better\n",
    "            .over('user_country')\n",
    "            .map_batches(lambda x: pd.qcut(x, q=5, labels=False) + 1)\n",
    "            .alias('f_segment').cast(pl.UInt8),\n",
    "            \n",
    "        # Monetary quintile (1 is highest value, 5 is lowest)\n",
    "        pl.col('M')\n",
    "            .rank(descending=True)   # higher M is better\n",
    "            .over('user_country')\n",
    "            .map_batches(lambda x: pd.qcut(x, q=5, labels=False) + 1)\n",
    "            .alias('m_segment').cast(pl.UInt8),\n",
    "\n",
    "        # Individual percentile ranks\n",
    "        pl.col('R').rank(descending=True)\n",
    "            .over('user_country').alias('r_rank_in_country').cast(pl.Int32),\n",
    "        pl.col('F').rank(descending=True)\n",
    "            .over('user_country').alias('f_rank_in_country').cast(pl.Int32),\n",
    "        pl.col('M').rank(descending=True)\n",
    "            .over('user_country').alias('m_rank_in_country').cast(pl.Int32),\n",
    "    ])\n",
    "\n",
    "# This would let you identify segments like:\n",
    "# - Premium customers (111): high in all metrics\n",
    "# - Lost customers (555): low in all metrics\n",
    "# - High value but inactive (511): good monetary but haven't bought recently\n",
    "\n",
    "users_eng = create_rfm_segments_and_ranks(users_eng)"
   ]
  },
  {
   "cell_type": "code",
   "execution_count": 51,
   "metadata": {},
   "outputs": [
    {
     "data": {
      "text/html": [
       "<div><style>\n",
       ".dataframe > thead > tr,\n",
       ".dataframe > tbody > tr {\n",
       "  text-align: right;\n",
       "  white-space: pre-wrap;\n",
       "}\n",
       "</style>\n",
       "<small>shape: (557_006, 28)</small><table border=\"1\" class=\"dataframe\"><thead><tr><th>user_id</th><th>user_country</th><th>R</th><th>F</th><th>M</th><th>avg_value_per_purchase</th><th>purchase_rate</th><th>spend_rate_per_day</th><th>total_value_frequency</th><th>avg_days_between_purchases</th><th>country_avg_monetary</th><th>country_avg_frequency</th><th>country_avg_recency</th><th>relative_monetary_value</th><th>relative_frequency</th><th>relative_recency</th><th>is_high_value_incountry</th><th>is_frequent_buyer_incountry</th><th>is_recent_customer_incountry</th><th>is_high_value</th><th>is_frequent_buyer</th><th>is_recent_customer</th><th>r_segment</th><th>f_segment</th><th>m_segment</th><th>r_rank_in_country</th><th>f_rank_in_country</th><th>m_rank_in_country</th></tr><tr><td>i32</td><td>i8</td><td>i16</td><td>i16</td><td>f32</td><td>f32</td><td>f32</td><td>f32</td><td>f32</td><td>f32</td><td>f32</td><td>f32</td><td>f32</td><td>f32</td><td>f32</td><td>f32</td><td>i8</td><td>i8</td><td>i8</td><td>i8</td><td>i8</td><td>i8</td><td>u8</td><td>u8</td><td>u8</td><td>i32</td><td>i32</td><td>i32</td></tr></thead><tbody><tr><td>1</td><td>25</td><td>60</td><td>18</td><td>40.518333</td><td>2.251019</td><td>0.3</td><td>0.675306</td><td>729.330017</td><td>3.333333</td><td>42.604546</td><td>37.78318</td><td>56.788792</td><td>0.951033</td><td>0.476402</td><td>1.056547</td><td>0</td><td>0</td><td>1</td><td>0</td><td>0</td><td>1</td><td>2</td><td>3</td><td>3</td><td>128112</td><td>318758</td><td>243018</td></tr><tr><td>2</td><td>25</td><td>2</td><td>37</td><td>38.485115</td><td>1.040138</td><td>18.5</td><td>19.242558</td><td>1423.949219</td><td>0.054054</td><td>42.604546</td><td>37.78318</td><td>56.788792</td><td>0.90331</td><td>0.979272</td><td>0.035218</td><td>0</td><td>0</td><td>0</td><td>0</td><td>0</td><td>0</td><td>5</td><td>2</td><td>3</td><td>473983</td><td>186318</td><td>268906</td></tr><tr><td>3</td><td>25</td><td>11</td><td>64</td><td>80.771408</td><td>1.262053</td><td>5.818182</td><td>7.342855</td><td>5169.370117</td><td>0.171875</td><td>42.604546</td><td>37.78318</td><td>56.788792</td><td>1.89584</td><td>1.693875</td><td>0.1937</td><td>1</td><td>1</td><td>0</td><td>0</td><td>1</td><td>0</td><td>3</td><td>1</td><td>1</td><td>331106</td><td>91650</td><td>31976</td></tr><tr><td>4</td><td>25</td><td>43</td><td>18</td><td>70.28611</td><td>3.904784</td><td>0.418605</td><td>1.634561</td><td>1265.150024</td><td>2.388889</td><td>42.604546</td><td>37.78318</td><td>56.788792</td><td>1.649733</td><td>0.476402</td><td>0.757192</td><td>1</td><td>0</td><td>0</td><td>0</td><td>0</td><td>0</td><td>2</td><td>3</td><td>1</td><td>164114</td><td>318758</td><td>52180</td></tr><tr><td>5</td><td>25</td><td>214</td><td>2</td><td>93.220001</td><td>46.610001</td><td>0.009346</td><td>0.435607</td><td>186.440002</td><td>107.0</td><td>42.604546</td><td>37.78318</td><td>56.788792</td><td>2.18803</td><td>0.052934</td><td>3.768349</td><td>1</td><td>0</td><td>1</td><td>0</td><td>0</td><td>1</td><td>1</td><td>5</td><td>1</td><td>30093</td><td>522181</td><td>18891</td></tr><tr><td>&hellip;</td><td>&hellip;</td><td>&hellip;</td><td>&hellip;</td><td>&hellip;</td><td>&hellip;</td><td>&hellip;</td><td>&hellip;</td><td>&hellip;</td><td>&hellip;</td><td>&hellip;</td><td>&hellip;</td><td>&hellip;</td><td>&hellip;</td><td>&hellip;</td><td>&hellip;</td><td>&hellip;</td><td>&hellip;</td><td>&hellip;</td><td>&hellip;</td><td>&hellip;</td><td>&hellip;</td><td>&hellip;</td><td>&hellip;</td><td>&hellip;</td><td>&hellip;</td><td>&hellip;</td><td>&hellip;</td></tr><tr><td>557002</td><td>25</td><td>0</td><td>8</td><td>23.286667</td><td>2.910833</td><td>0.0</td><td>0.0</td><td>186.293335</td><td>0.0</td><td>42.604546</td><td>37.78318</td><td>56.788792</td><td>0.546577</td><td>0.211734</td><td>0.0</td><td>0</td><td>0</td><td>0</td><td>0</td><td>0</td><td>0</td><td>5</td><td>4</td><td>5</td><td>534571</td><td>428650</td><td>465473</td></tr><tr><td>557003</td><td>25</td><td>53</td><td>12</td><td>41.223331</td><td>3.435278</td><td>0.226415</td><td>0.777799</td><td>494.679993</td><td>4.416667</td><td>42.604546</td><td>37.78318</td><td>56.788792</td><td>0.967581</td><td>0.317602</td><td>0.933283</td><td>0</td><td>0</td><td>0</td><td>0</td><td>0</td><td>0</td><td>2</td><td>4</td><td>3</td><td>140733</td><td>380127</td><td>235047</td></tr><tr><td>557004</td><td>25</td><td>147</td><td>12</td><td>62.479168</td><td>5.206597</td><td>0.081633</td><td>0.425028</td><td>749.75</td><td>12.25</td><td>42.604546</td><td>37.78318</td><td>56.788792</td><td>1.466491</td><td>0.317602</td><td>2.588539</td><td>1</td><td>0</td><td>1</td><td>0</td><td>0</td><td>1</td><td>1</td><td>4</td><td>1</td><td>53616</td><td>380127</td><td>77321</td></tr><tr><td>557005</td><td>25</td><td>2</td><td>108</td><td>21.617975</td><td>0.200166</td><td>54.0</td><td>10.808988</td><td>2334.741211</td><td>0.018519</td><td>42.604546</td><td>37.78318</td><td>56.788792</td><td>0.50741</td><td>2.858415</td><td>0.035218</td><td>0</td><td>1</td><td>0</td><td>0</td><td>1</td><td>0</td><td>5</td><td>1</td><td>5</td><td>473983</td><td>34287</td><td>482218</td></tr><tr><td>557006</td><td>25</td><td>27</td><td>53</td><td>52.759106</td><td>0.995455</td><td>1.962963</td><td>1.954041</td><td>2796.232666</td><td>0.509434</td><td>42.604546</td><td>37.78318</td><td>56.788792</td><td>1.238345</td><td>1.402741</td><td>0.475446</td><td>1</td><td>1</td><td>0</td><td>0</td><td>1</td><td>0</td><td>2</td><td>2</td><td>2</td><td>218043</td><td>121077</td><td>129286</td></tr></tbody></table></div>"
      ],
      "text/plain": [
       "shape: (557_006, 28)\n",
       "┌─────────┬──────────────┬─────┬─────┬───┬───────────┬───────────────┬──────────────┬──────────────┐\n",
       "│ user_id ┆ user_country ┆ R   ┆ F   ┆ … ┆ m_segment ┆ r_rank_in_cou ┆ f_rank_in_co ┆ m_rank_in_co │\n",
       "│ ---     ┆ ---          ┆ --- ┆ --- ┆   ┆ ---       ┆ ntry          ┆ untry        ┆ untry        │\n",
       "│ i32     ┆ i8           ┆ i16 ┆ i16 ┆   ┆ u8        ┆ ---           ┆ ---          ┆ ---          │\n",
       "│         ┆              ┆     ┆     ┆   ┆           ┆ i32           ┆ i32          ┆ i32          │\n",
       "╞═════════╪══════════════╪═════╪═════╪═══╪═══════════╪═══════════════╪══════════════╪══════════════╡\n",
       "│ 1       ┆ 25           ┆ 60  ┆ 18  ┆ … ┆ 3         ┆ 128112        ┆ 318758       ┆ 243018       │\n",
       "│ 2       ┆ 25           ┆ 2   ┆ 37  ┆ … ┆ 3         ┆ 473983        ┆ 186318       ┆ 268906       │\n",
       "│ 3       ┆ 25           ┆ 11  ┆ 64  ┆ … ┆ 1         ┆ 331106        ┆ 91650        ┆ 31976        │\n",
       "│ 4       ┆ 25           ┆ 43  ┆ 18  ┆ … ┆ 1         ┆ 164114        ┆ 318758       ┆ 52180        │\n",
       "│ 5       ┆ 25           ┆ 214 ┆ 2   ┆ … ┆ 1         ┆ 30093         ┆ 522181       ┆ 18891        │\n",
       "│ …       ┆ …            ┆ …   ┆ …   ┆ … ┆ …         ┆ …             ┆ …            ┆ …            │\n",
       "│ 557002  ┆ 25           ┆ 0   ┆ 8   ┆ … ┆ 5         ┆ 534571        ┆ 428650       ┆ 465473       │\n",
       "│ 557003  ┆ 25           ┆ 53  ┆ 12  ┆ … ┆ 3         ┆ 140733        ┆ 380127       ┆ 235047       │\n",
       "│ 557004  ┆ 25           ┆ 147 ┆ 12  ┆ … ┆ 1         ┆ 53616         ┆ 380127       ┆ 77321        │\n",
       "│ 557005  ┆ 25           ┆ 2   ┆ 108 ┆ … ┆ 5         ┆ 473983        ┆ 34287        ┆ 482218       │\n",
       "│ 557006  ┆ 25           ┆ 27  ┆ 53  ┆ … ┆ 2         ┆ 218043        ┆ 121077       ┆ 129286       │\n",
       "└─────────┴──────────────┴─────┴─────┴───┴───────────┴───────────────┴──────────────┴──────────────┘"
      ]
     },
     "execution_count": 51,
     "metadata": {},
     "output_type": "execute_result"
    }
   ],
   "source": [
    "users_eng"
   ]
  }
 ],
 "metadata": {
  "kernelspec": {
   "display_name": ".venv",
   "language": "python",
   "name": "python3"
  },
  "language_info": {
   "codemirror_mode": {
    "name": "ipython",
    "version": 3
   },
   "file_extension": ".py",
   "mimetype": "text/x-python",
   "name": "python",
   "nbconvert_exporter": "python",
   "pygments_lexer": "ipython3",
   "version": "3.12.4"
  }
 },
 "nbformat": 4,
 "nbformat_minor": 2
}
