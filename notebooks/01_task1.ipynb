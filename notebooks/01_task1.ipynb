{
 "cells": [
  {
   "cell_type": "markdown",
   "metadata": {},
   "source": [
    "# Task 1\n",
    "\n",
    "Original submission file format:\n",
    "\n",
    "```\n",
    "{'target': {'query_1': {'partnumber': 17265},\n",
    "  'query_2': {'user_id': 34572},\n",
    "  'query_3': {'average_previous_visits': 5.52},\n",
    "  'query_4': {'device_type': 23},\n",
    "  'query_5': {'user_id': 123734},\n",
    "  'query_6': {'unique_families': 2357},\n",
    "  'query_7': {'1': 3, '2': 5, '3': 3, '4': 9, '5': 5, '6': 1}}}\n",
    "```"
   ]
  },
  {
   "cell_type": "code",
   "execution_count": 1,
   "metadata": {},
   "outputs": [],
   "source": [
    "import os\n",
    "import sys\n",
    "\n",
    "# root path\n",
    "ROOT = os.path.abspath(os.path.join(os.getcwd(), '..'))\n",
    "\n",
    "# Add the project root to the Python path\n",
    "if ROOT not in sys.path:\n",
    "    sys.path.append(ROOT)\n",
    "\n",
    "import polars as pl\n",
    "import pandas as pd\n",
    "from src.data.loaders import PolarsLoader"
   ]
  },
  {
   "cell_type": "markdown",
   "metadata": {},
   "source": [
    "## Paths"
   ]
  },
  {
   "cell_type": "code",
   "execution_count": 2,
   "metadata": {},
   "outputs": [],
   "source": [
    "from config import (USERS_DATA_PATH, TRAIN_DATA_PATH, \n",
    "                    TEST_DATA_PATH, SUBMISSION_1_PATH, EX_SUBMISSION_1_PATH, \n",
    "                    PRODUCTS_PARQUET_PATH, PRODUCTS_DATA_PATH,\n",
    "                    TRAIN_PARQUET_PATH, TEST_PARQUET_PATH)"
   ]
  },
  {
   "cell_type": "code",
   "execution_count": 73,
   "metadata": {},
   "outputs": [],
   "source": [
    "# Load sample submission json\n",
    "import json\n",
    "submission = json.load(open(EX_SUBMISSION_1_PATH))"
   ]
  },
  {
   "cell_type": "markdown",
   "metadata": {},
   "source": [
    "## Query 1\n",
    "\n",
    "**Q1:** Which product (`partnumber`) with `color_id` equal to 3   belongs to the lowest `familiy` code with a `discount`? "
   ]
  },
  {
   "cell_type": "code",
   "execution_count": 74,
   "metadata": {},
   "outputs": [
    {
     "name": "stdout",
     "output_type": "stream",
     "text": [
      "q1: 17265\n"
     ]
    }
   ],
   "source": [
    "# prods = pl.from_pandas(pd.read_pickle(PRODUCTS_DATA_PATH))\n",
    "\n",
    "prod_loader = PolarsLoader(sampling=False, file_type='parquet')\n",
    "prods = prod_loader.load_data(PRODUCTS_PARQUET_PATH)\n",
    "\n",
    "q1 = prods.sql(\"\"\"\n",
    "          SELECT partnumber\n",
    "          FROM self\n",
    "          WHERE color_id = 3\n",
    "          AND discount = 1\n",
    "          AND family = MIN(family)\n",
    "          \"\"\").item()\n",
    "\n",
    "print(f\"q1: {q1}\")\n",
    "submission['target']['query_1'] = {'partnumber': q1}"
   ]
  },
  {
   "cell_type": "markdown",
   "metadata": {},
   "source": [
    "## Query 2\n",
    "\n",
    "**Q2:** In the country where most users have made purchases totaling less than 500 (`M`) , which is the user who has the lowest purchase frequency (`F`), the most recent purchase (highest `R`) and the lowest `user_id`? Follow the given order of variables as the sorting priority."
   ]
  },
  {
   "cell_type": "code",
   "execution_count": 3,
   "metadata": {},
   "outputs": [],
   "source": [
    "loader = PolarsLoader(sampling=False, file_type='parquet')\n",
    "users = loader.load_data(USERS_DATA_PATH)"
   ]
  },
  {
   "cell_type": "code",
   "execution_count": 76,
   "metadata": {},
   "outputs": [
    {
     "data": {
      "text/plain": [
       "25"
      ]
     },
     "execution_count": 76,
     "metadata": {},
     "output_type": "execute_result"
    }
   ],
   "source": [
    "country = (users\n",
    "           .filter(pl.col('M') < 500)\n",
    "           .group_by('country')\n",
    "           .len()\n",
    "           .sort(by='len', descending=True)\n",
    "           .head(1)\n",
    "           )['country'].item()\n",
    "country"
   ]
  },
  {
   "cell_type": "code",
   "execution_count": 77,
   "metadata": {},
   "outputs": [
    {
     "name": "stdout",
     "output_type": "stream",
     "text": [
      "Q2: 187374\n"
     ]
    }
   ],
   "source": [
    "q2 = (users\n",
    " .filter(pl.col('country') == country)\n",
    " .sort(\"F\", \"R\", \"user_id\", descending=[False, True, False])\n",
    " .head(1)\n",
    ")['user_id'].item()\n",
    "\n",
    "print(f\"Q2: {q2}\")\n",
    "submission['target']['query_2'] = {'user_id': q2}"
   ]
  },
  {
   "cell_type": "markdown",
   "metadata": {},
   "source": [
    "## Query 3 (Run on Kaggle)\n",
    "\n",
    "**Q3:** Among the products that were added to the cart at least once, how many times is a product visited before it is added to the cart in average? Give the answer with 2 decimals."
   ]
  },
  {
   "cell_type": "code",
   "execution_count": 78,
   "metadata": {},
   "outputs": [],
   "source": [
    "# %%time\n",
    "# loader = PolarsLoader(sampling=True)\n",
    "\n",
    "# # Load data lazily\n",
    "# train = (loader\n",
    "#          .load_data_lazy(path=TRAIN_DATA_PATH)\n",
    "#          .select([\"session_id\", \"partnumber\", \"add_to_cart\", \"timestamp_local\"])\n",
    "#         )\n",
    "\n",
    "# # Products that were added to the cart\n",
    "# products_added = (\n",
    "#     train\n",
    "#     .filter(pl.col(\"add_to_cart\") == 1)\n",
    "#     .select(\"partnumber\")\n",
    "#     .unique()  # Stay in LazyFrame\n",
    "# )\n",
    "\n",
    "# # Keep only interactions for these products\n",
    "# interactions_for_cart_products = (\n",
    "#     train\n",
    "#     .join(products_added, on=\"partnumber\", how=\"inner\")  # Lazy join instead of is_in\n",
    "#     .sort([\"session_id\", \"partnumber\", \"timestamp_local\"])  # Sorting will also be deferred\n",
    "# )\n",
    "\n",
    "# # Add a cumulative flag for add_to_cart in each group\n",
    "# grouped_data = (\n",
    "#     interactions_for_cart_products\n",
    "#     .group_by([\"session_id\", \"partnumber\"])\n",
    "#     .agg([\n",
    "#         pl.col(\"add_to_cart\").cum_sum().alias(\"add_to_cart_cumsum\"),\n",
    "#         pl.col(\"add_to_cart\"),\n",
    "#         pl.col(\"timestamp_local\"),\n",
    "#     ])\n",
    "#     .explode([\"add_to_cart_cumsum\", \"add_to_cart\", \"timestamp_local\"]) \n",
    "# )\n",
    "\n",
    "# # Calculate pre-cart visits\n",
    "# pre_cart_visits = (\n",
    "#     grouped_data\n",
    "#     .filter(pl.col(\"add_to_cart_cumsum\") == 0)\n",
    "#     .group_by(\"partnumber\")\n",
    "#     .agg(pl.col(\"session_id\").count().alias(\"visit_count\"))\n",
    "# )\n",
    "\n",
    "# # Collect only the final aggregated result\n",
    "# final_result = pre_cart_visits.collect(streaming=True)\n",
    "\n",
    "# # Calculate the average visits before add_to_cart\n",
    "# average_visits = round(final_result[\"visit_count\"].mean(), 2)\n",
    "\n",
    "# print(\"Average Visits Before Adding to Cart:\", average_visits)"
   ]
  },
  {
   "cell_type": "markdown",
   "metadata": {},
   "source": [
    "**Testing loading the new train data as parquet casted down**"
   ]
  },
  {
   "cell_type": "code",
   "execution_count": 79,
   "metadata": {},
   "outputs": [
    {
     "name": "stdout",
     "output_type": "stream",
     "text": [
      "CPU times: user 3.67 s, sys: 252 ms, total: 3.92 s\n",
      "Wall time: 677 ms\n"
     ]
    },
    {
     "data": {
      "text/html": [
       "<div><style>\n",
       ".dataframe > thead > tr,\n",
       ".dataframe > tbody > tr {\n",
       "  text-align: right;\n",
       "  white-space: pre-wrap;\n",
       "}\n",
       "</style>\n",
       "<small>shape: (5, 2)</small><table border=\"1\" class=\"dataframe\"><thead><tr><th>session_id</th><th>add_to_cart</th></tr><tr><td>i64</td><td>i64</td></tr></thead><tbody><tr><td>2220794</td><td>1</td></tr><tr><td>1205834</td><td>0</td></tr><tr><td>1303879</td><td>0</td></tr><tr><td>2454904</td><td>0</td></tr><tr><td>4121196</td><td>0</td></tr></tbody></table></div>"
      ],
      "text/plain": [
       "shape: (5, 2)\n",
       "┌────────────┬─────────────┐\n",
       "│ session_id ┆ add_to_cart │\n",
       "│ ---        ┆ ---         │\n",
       "│ i64        ┆ i64         │\n",
       "╞════════════╪═════════════╡\n",
       "│ 2220794    ┆ 1           │\n",
       "│ 1205834    ┆ 0           │\n",
       "│ 1303879    ┆ 0           │\n",
       "│ 2454904    ┆ 0           │\n",
       "│ 4121196    ┆ 0           │\n",
       "└────────────┴─────────────┘"
      ]
     },
     "execution_count": 79,
     "metadata": {},
     "output_type": "execute_result"
    }
   ],
   "source": [
    "%%time\n",
    "loader = PolarsLoader(sampling=True, file_type=\"csv\")\n",
    "df = loader.load_data(TRAIN_DATA_PATH)\n",
    "df.group_by(\"session_id\").agg(pl.col(\"add_to_cart\").sum().alias(\"add_to_cart\")).head()"
   ]
  },
  {
   "cell_type": "code",
   "execution_count": 80,
   "metadata": {},
   "outputs": [
    {
     "name": "stdout",
     "output_type": "stream",
     "text": [
      "CPU times: user 225 ms, sys: 29.6 ms, total: 254 ms\n",
      "Wall time: 69.5 ms\n"
     ]
    },
    {
     "data": {
      "text/html": [
       "<div><style>\n",
       ".dataframe > thead > tr,\n",
       ".dataframe > tbody > tr {\n",
       "  text-align: right;\n",
       "  white-space: pre-wrap;\n",
       "}\n",
       "</style>\n",
       "<small>shape: (5, 2)</small><table border=\"1\" class=\"dataframe\"><thead><tr><th>session_id</th><th>add_to_cart</th></tr><tr><td>u32</td><td>i64</td></tr></thead><tbody><tr><td>419598</td><td>0</td></tr><tr><td>4531085</td><td>0</td></tr><tr><td>4498409</td><td>1</td></tr><tr><td>4168505</td><td>1</td></tr><tr><td>4978720</td><td>0</td></tr></tbody></table></div>"
      ],
      "text/plain": [
       "shape: (5, 2)\n",
       "┌────────────┬─────────────┐\n",
       "│ session_id ┆ add_to_cart │\n",
       "│ ---        ┆ ---         │\n",
       "│ u32        ┆ i64         │\n",
       "╞════════════╪═════════════╡\n",
       "│ 419598     ┆ 0           │\n",
       "│ 4531085    ┆ 0           │\n",
       "│ 4498409    ┆ 1           │\n",
       "│ 4168505    ┆ 1           │\n",
       "│ 4978720    ┆ 0           │\n",
       "└────────────┴─────────────┘"
      ]
     },
     "execution_count": 80,
     "metadata": {},
     "output_type": "execute_result"
    }
   ],
   "source": [
    "%%time\n",
    "loader = PolarsLoader(sampling=True, file_type=\"parquet\")\n",
    "df = loader.load_data(TRAIN_PARQUET_PATH)\n",
    "df.group_by(\"session_id\").agg(pl.col(\"add_to_cart\").sum().alias(\"add_to_cart\")).head()"
   ]
  },
  {
   "cell_type": "code",
   "execution_count": 81,
   "metadata": {},
   "outputs": [],
   "source": [
    "average_visits = 1458.40 # From Kaggle run\n",
    "submission['target']['query_3'] = {'average_previous_visits': average_visits}"
   ]
  },
  {
   "cell_type": "markdown",
   "metadata": {},
   "source": [
    "## Query 4\n",
    "\n",
    "**Q4:** Which device (`device_type`) is most frequently used by users to make purchases (`add_to_cart` = 1) of discounted products (`discount` = 1)?"
   ]
  },
  {
   "cell_type": "code",
   "execution_count": 82,
   "metadata": {},
   "outputs": [],
   "source": [
    "SAMPLING = False"
   ]
  },
  {
   "cell_type": "code",
   "execution_count": 83,
   "metadata": {},
   "outputs": [],
   "source": [
    "prod_loader = PolarsLoader(sampling=SAMPLING, file_type='parquet')\n",
    "prods = prod_loader.load_data(PRODUCTS_PARQUET_PATH, select_cols=['discount', 'partnumber'])\n",
    "\n",
    "prods = prods.filter(pl.col('discount') == 1)"
   ]
  },
  {
   "cell_type": "code",
   "execution_count": 84,
   "metadata": {},
   "outputs": [],
   "source": [
    "loader = PolarsLoader(sampling=SAMPLING, file_type=\"parquet\")\n",
    "train = loader.load_data(TRAIN_PARQUET_PATH).filter((pl.col(\"add_to_cart\") == 1))"
   ]
  },
  {
   "cell_type": "code",
   "execution_count": 85,
   "metadata": {},
   "outputs": [],
   "source": [
    "filtered_data = train.join(prods, on='partnumber', how='inner')"
   ]
  },
  {
   "cell_type": "code",
   "execution_count": 86,
   "metadata": {},
   "outputs": [],
   "source": [
    "# import random\n",
    "# filtered_data.filter(pl.col(\"session_id\") == random.choice(filtered_data[\"session_id\"].unique())) # one device per session id"
   ]
  },
  {
   "cell_type": "code",
   "execution_count": 87,
   "metadata": {},
   "outputs": [
    {
     "data": {
      "text/html": [
       "<div><style>\n",
       ".dataframe > thead > tr,\n",
       ".dataframe > tbody > tr {\n",
       "  text-align: right;\n",
       "  white-space: pre-wrap;\n",
       "}\n",
       "</style>\n",
       "<small>shape: (3, 2)</small><table border=\"1\" class=\"dataframe\"><thead><tr><th>device_type</th><th>count</th></tr><tr><td>u8</td><td>u32</td></tr></thead><tbody><tr><td>3</td><td>16416</td></tr><tr><td>1</td><td>169439</td></tr><tr><td>2</td><td>1884</td></tr></tbody></table></div>"
      ],
      "text/plain": [
       "shape: (3, 2)\n",
       "┌─────────────┬────────┐\n",
       "│ device_type ┆ count  │\n",
       "│ ---         ┆ ---    │\n",
       "│ u8          ┆ u32    │\n",
       "╞═════════════╪════════╡\n",
       "│ 3           ┆ 16416  │\n",
       "│ 1           ┆ 169439 │\n",
       "│ 2           ┆ 1884   │\n",
       "└─────────────┴────────┘"
      ]
     },
     "execution_count": 87,
     "metadata": {},
     "output_type": "execute_result"
    }
   ],
   "source": [
    "# Count device usage\n",
    "device_counts = (\n",
    "    filtered_data.group_by(\"device_type\")\n",
    "    .agg(pl.col(\"session_id\").count().alias(\"count\"))\n",
    ")\n",
    "device_counts"
   ]
  },
  {
   "cell_type": "code",
   "execution_count": 88,
   "metadata": {},
   "outputs": [
    {
     "name": "stdout",
     "output_type": "stream",
     "text": [
      "Most Frequent Device for Discounted Purchases: 1\n"
     ]
    }
   ],
   "source": [
    "# Find the most frequently used device\n",
    "most_frequent_device = (\n",
    "    device_counts\n",
    "    .sort(\"count\", descending=True)\n",
    "    .select(pl.first(\"device_type\"))\n",
    "    .item()\n",
    ")\n",
    "\n",
    "print(\"Most Frequent Device for Discounted Purchases:\", most_frequent_device)"
   ]
  },
  {
   "cell_type": "code",
   "execution_count": 89,
   "metadata": {},
   "outputs": [],
   "source": [
    "submission['target']['query_4'] = {'device_type': most_frequent_device}"
   ]
  },
  {
   "cell_type": "markdown",
   "metadata": {},
   "source": [
    "## Query 5\n",
    "\n",
    "**Q5:** Among users with purchase frequency (`F`) in the top 3 within their purchase country, who has interacted with the most products (`partnumber`) in sessions conducted from a device with identifierr 3 (`device_type` = 3)?"
   ]
  },
  {
   "cell_type": "code",
   "execution_count": 90,
   "metadata": {},
   "outputs": [
    {
     "name": "stdout",
     "output_type": "stream",
     "text": [
      "557006\n"
     ]
    }
   ],
   "source": [
    "loader = PolarsLoader(sampling=False, file_type='parquet')\n",
    "users = loader.load_data(USERS_DATA_PATH)\n",
    "print(len(users))\n",
    "\n",
    "# Rank users by F within each country\n",
    "ranked_users = (users\n",
    "                #     .filter(pl.col(\"country\") == 25) ########## REMOVE\n",
    "                    .group_by(\"country\")\n",
    "                    .agg([pl.col(\"user_id\"),pl.col(\"F\")])\n",
    "                    .explode([\"user_id\",\"F\"])\n",
    "                    .sort(by=[\"country\", \"F\"], descending=[False, True])\n",
    "                    .with_columns(\n",
    "                            pl.col(\"F\").rank(method=\"ordinal\", descending=True).over(\"country\").alias(\"rank_in_country\")\n",
    "                        )\n",
    "                )      "
   ]
  },
  {
   "cell_type": "code",
   "execution_count": 91,
   "metadata": {},
   "outputs": [
    {
     "data": {
      "text/html": [
       "<div><style>\n",
       ".dataframe > thead > tr,\n",
       ".dataframe > tbody > tr {\n",
       "  text-align: right;\n",
       "  white-space: pre-wrap;\n",
       "}\n",
       "</style>\n",
       "<small>shape: (211, 4)</small><table border=\"1\" class=\"dataframe\"><thead><tr><th>country</th><th>user_id</th><th>F</th><th>rank_in_country</th></tr><tr><td>u8</td><td>u32</td><td>u16</td><td>u32</td></tr></thead><tbody><tr><td>1</td><td>162396</td><td>7</td><td>1</td></tr><tr><td>1</td><td>65377</td><td>4</td><td>2</td></tr><tr><td>1</td><td>151995</td><td>2</td><td>3</td></tr><tr><td>3</td><td>158760</td><td>8</td><td>1</td></tr><tr><td>4</td><td>269481</td><td>355</td><td>1</td></tr><tr><td>&hellip;</td><td>&hellip;</td><td>&hellip;</td><td>&hellip;</td></tr><tr><td>86</td><td>35439</td><td>11</td><td>1</td></tr><tr><td>88</td><td>90168</td><td>1</td><td>1</td></tr><tr><td>89</td><td>259199</td><td>60</td><td>1</td></tr><tr><td>91</td><td>197699</td><td>1</td><td>1</td></tr><tr><td>92</td><td>1766</td><td>1</td><td>1</td></tr></tbody></table></div>"
      ],
      "text/plain": [
       "shape: (211, 4)\n",
       "┌─────────┬─────────┬─────┬─────────────────┐\n",
       "│ country ┆ user_id ┆ F   ┆ rank_in_country │\n",
       "│ ---     ┆ ---     ┆ --- ┆ ---             │\n",
       "│ u8      ┆ u32     ┆ u16 ┆ u32             │\n",
       "╞═════════╪═════════╪═════╪═════════════════╡\n",
       "│ 1       ┆ 162396  ┆ 7   ┆ 1               │\n",
       "│ 1       ┆ 65377   ┆ 4   ┆ 2               │\n",
       "│ 1       ┆ 151995  ┆ 2   ┆ 3               │\n",
       "│ 3       ┆ 158760  ┆ 8   ┆ 1               │\n",
       "│ 4       ┆ 269481  ┆ 355 ┆ 1               │\n",
       "│ …       ┆ …       ┆ …   ┆ …               │\n",
       "│ 86      ┆ 35439   ┆ 11  ┆ 1               │\n",
       "│ 88      ┆ 90168   ┆ 1   ┆ 1               │\n",
       "│ 89      ┆ 259199  ┆ 60  ┆ 1               │\n",
       "│ 91      ┆ 197699  ┆ 1   ┆ 1               │\n",
       "│ 92      ┆ 1766    ┆ 1   ┆ 1               │\n",
       "└─────────┴─────────┴─────┴─────────────────┘"
      ]
     },
     "execution_count": 91,
     "metadata": {},
     "output_type": "execute_result"
    }
   ],
   "source": [
    "# Filter top 3 users by F within each country\n",
    "top_users = ranked_users.filter(pl.col(\"rank_in_country\") <= 3)\n",
    "top_users"
   ]
  },
  {
   "cell_type": "code",
   "execution_count": 92,
   "metadata": {},
   "outputs": [],
   "source": [
    "loader = PolarsLoader(sampling=False, file_type=\"parquet\")\n",
    "train = loader.load_data(TRAIN_PARQUET_PATH).filter(pl.col(\"device_type\") == 3)"
   ]
  },
  {
   "cell_type": "code",
   "execution_count": 93,
   "metadata": {},
   "outputs": [
    {
     "data": {
      "text/plain": [
       "9664"
      ]
     },
     "execution_count": 93,
     "metadata": {},
     "output_type": "execute_result"
    }
   ],
   "source": [
    "# Find the user with the most unique product interactions\n",
    "top_user_interactions = (train\n",
    " .filter(pl.col(\"device_type\") == 3)\n",
    " .join(top_users, on=\"user_id\", how=\"inner\")\n",
    ")\n",
    "\n",
    "unique_product_counts = (\n",
    "    top_user_interactions.group_by(\"user_id\")\n",
    "    .agg([\n",
    "        pl.col(\"partnumber\").n_unique().alias(\"unique_products\")\n",
    "    ])\n",
    ")\n",
    "\n",
    "most_active_user = (\n",
    "    unique_product_counts.sort(\"unique_products\", descending=True)\n",
    "    .select(pl.first(\"user_id\"))\n",
    "    .item()\n",
    ")\n",
    "\n",
    "most_active_user"
   ]
  },
  {
   "cell_type": "code",
   "execution_count": 94,
   "metadata": {},
   "outputs": [],
   "source": [
    "submission['target']['query_5'] = {'user_id': most_active_user}"
   ]
  },
  {
   "cell_type": "markdown",
   "metadata": {},
   "source": [
    "## Query 6\n",
    "\n",
    "**Q6:** For interactions that occurred outside the user's country of residence, how many unique family identifiers are there?"
   ]
  },
  {
   "cell_type": "code",
   "execution_count": 95,
   "metadata": {},
   "outputs": [],
   "source": [
    "users = users.rename({\"country\": \"user_country\"})\n",
    "loader = PolarsLoader(sampling=False, file_type=\"parquet\")\n",
    "train = loader.load_data(TRAIN_PARQUET_PATH)"
   ]
  },
  {
   "cell_type": "code",
   "execution_count": 96,
   "metadata": {},
   "outputs": [],
   "source": [
    "# Filter interactions outside the user's country\n",
    "outside_country_interactions = (train\n",
    " .join(users, on=\"user_id\", how=\"left\")\n",
    " .filter(pl.col(\"country\") != pl.col(\"user_country\"))\n",
    ")"
   ]
  },
  {
   "cell_type": "code",
   "execution_count": 97,
   "metadata": {},
   "outputs": [
    {
     "data": {
      "text/html": [
       "<div><style>\n",
       ".dataframe > thead > tr,\n",
       ".dataframe > tbody > tr {\n",
       "  text-align: right;\n",
       "  white-space: pre-wrap;\n",
       "}\n",
       "</style>\n",
       "<small>shape: (5, 2)</small><table border=\"1\" class=\"dataframe\"><thead><tr><th>partnumber</th><th>family</th></tr><tr><td>u16</td><td>u16</td></tr></thead><tbody><tr><td>32776</td><td>73</td></tr><tr><td>41431</td><td>73</td></tr><tr><td>39419</td><td>73</td></tr><tr><td>36087</td><td>73</td></tr><tr><td>34132</td><td>73</td></tr></tbody></table></div>"
      ],
      "text/plain": [
       "shape: (5, 2)\n",
       "┌────────────┬────────┐\n",
       "│ partnumber ┆ family │\n",
       "│ ---        ┆ ---    │\n",
       "│ u16        ┆ u16    │\n",
       "╞════════════╪════════╡\n",
       "│ 32776      ┆ 73     │\n",
       "│ 41431      ┆ 73     │\n",
       "│ 39419      ┆ 73     │\n",
       "│ 36087      ┆ 73     │\n",
       "│ 34132      ┆ 73     │\n",
       "└────────────┴────────┘"
      ]
     },
     "execution_count": 97,
     "metadata": {},
     "output_type": "execute_result"
    }
   ],
   "source": [
    "prod_loader = PolarsLoader(sampling=False, file_type='parquet')\n",
    "prods = prod_loader.load_data(PRODUCTS_PARQUET_PATH, select_cols=['partnumber', 'family'])\n",
    "prods.head()"
   ]
  },
  {
   "cell_type": "code",
   "execution_count": 98,
   "metadata": {},
   "outputs": [
    {
     "data": {
      "text/plain": [
       "108"
      ]
     },
     "execution_count": 98,
     "metadata": {},
     "output_type": "execute_result"
    }
   ],
   "source": [
    "# Count unique family identifiers\n",
    "unique_families = outside_country_interactions.join(prods, on='partnumber', how='inner').select(\"family\").n_unique()\n",
    "unique_families"
   ]
  },
  {
   "cell_type": "code",
   "execution_count": 99,
   "metadata": {},
   "outputs": [],
   "source": [
    "submission['target']['query_6'] = {'unique_families': unique_families}"
   ]
  },
  {
   "cell_type": "markdown",
   "metadata": {},
   "source": [
    "## Query 7\n",
    "\n",
    "**Q7:** Among interactions from the first 7 days of June, which is the most frequent page type where each family is added to the cart? Return it in the following format: `{'('family'): int('most_frequent_pagetype')}` . In case of a tie, return the smallest pagetype."
   ]
  },
  {
   "cell_type": "code",
   "execution_count": 100,
   "metadata": {},
   "outputs": [],
   "source": [
    "loader = PolarsLoader(sampling=False, file_type='parquet')\n",
    "\n",
    "train = loader.load_data(TRAIN_PARQUET_PATH)"
   ]
  },
  {
   "cell_type": "code",
   "execution_count": 101,
   "metadata": {},
   "outputs": [],
   "source": [
    "start_date = pd.to_datetime(\"2024-06-01\")\n",
    "end_date = pd.to_datetime(\"2024-06-07\")\n",
    "\n",
    "\n",
    "train = train.filter((pl.col(\"timestamp_local\") >= start_date) & (pl.col(\"timestamp_local\") <= end_date) & (pl.col(\"add_to_cart\") == 1))"
   ]
  },
  {
   "cell_type": "code",
   "execution_count": 102,
   "metadata": {},
   "outputs": [],
   "source": [
    "prods = loader.load_data(PRODUCTS_PARQUET_PATH, select_cols=['family', 'partnumber'])"
   ]
  },
  {
   "cell_type": "code",
   "execution_count": 103,
   "metadata": {},
   "outputs": [],
   "source": [
    "# Join products data, group by family and pagetype, and count occurrences \n",
    "q7_data = train.join(prods, on='partnumber', how='left')\n",
    "\n",
    "pagetype_counts = (q7_data.group_by([\"family\", \"pagetype\"])\n",
    "                    .agg(pl.col(\"session_id\").count().alias(\"count\"))  # Count occurrences\n",
    "                )"
   ]
  },
  {
   "cell_type": "code",
   "execution_count": 104,
   "metadata": {},
   "outputs": [],
   "source": [
    "# Find the most frequent pagetype for each family\n",
    "most_frequent_pagetype = (\n",
    "    pagetype_counts.sort([\"family\", \"count\", \"pagetype\"], descending=[False, True, False])\n",
    "    .group_by(\"family\")\n",
    "    .agg(pl.col(\"pagetype\").first())  # Select the most frequent pagetype\n",
    ")"
   ]
  },
  {
   "cell_type": "code",
   "execution_count": 105,
   "metadata": {},
   "outputs": [
    {
     "data": {
      "text/plain": [
       "{1: 24,\n",
       " 2: 24,\n",
       " 3: 24,\n",
       " 4: 24,\n",
       " 5: 24,\n",
       " 6: 24,\n",
       " 7: 24,\n",
       " 8: 24,\n",
       " 9: 24,\n",
       " 10: 24,\n",
       " 11: 24,\n",
       " 12: 24,\n",
       " 13: 24,\n",
       " 14: 24,\n",
       " 15: 24,\n",
       " 16: 24,\n",
       " 17: 24,\n",
       " 18: 24,\n",
       " 19: 24,\n",
       " 21: 24,\n",
       " 22: 24,\n",
       " 23: 24,\n",
       " 24: 24,\n",
       " 26: 24,\n",
       " 27: 24,\n",
       " 28: 24,\n",
       " 29: 24,\n",
       " 30: 24,\n",
       " 31: 24,\n",
       " 32: 24,\n",
       " 33: 24,\n",
       " 34: 24,\n",
       " 35: 24,\n",
       " 36: 24,\n",
       " 37: 24,\n",
       " 38: 24,\n",
       " 40: 24,\n",
       " 41: 24,\n",
       " 42: 24,\n",
       " 43: 24,\n",
       " 44: 24,\n",
       " 45: 24,\n",
       " 46: 24,\n",
       " 47: 24,\n",
       " 48: 24,\n",
       " 49: 24,\n",
       " 50: 24,\n",
       " 51: 24,\n",
       " 52: 24,\n",
       " 53: 24,\n",
       " 54: 24,\n",
       " 56: 24,\n",
       " 57: 24,\n",
       " 58: 24,\n",
       " 59: 24,\n",
       " 60: 24,\n",
       " 61: 24,\n",
       " 62: 24,\n",
       " 63: 24,\n",
       " 64: 24,\n",
       " 65: 24,\n",
       " 66: 24,\n",
       " 67: 24,\n",
       " 68: 24,\n",
       " 69: 24,\n",
       " 70: 24,\n",
       " 71: 24,\n",
       " 72: 24,\n",
       " 73: 24,\n",
       " 74: 24,\n",
       " 75: 24,\n",
       " 76: 24,\n",
       " 77: 24,\n",
       " 78: 24,\n",
       " 79: 24,\n",
       " 81: 24,\n",
       " 82: 24,\n",
       " 83: 24,\n",
       " 84: 24,\n",
       " 85: 24,\n",
       " 86: 24,\n",
       " 87: 24,\n",
       " 88: 24,\n",
       " 89: 24,\n",
       " 90: 24,\n",
       " 91: 24,\n",
       " 92: 24,\n",
       " 93: 24,\n",
       " 94: 24,\n",
       " 95: 24,\n",
       " 96: 24,\n",
       " 97: 24,\n",
       " 99: 24,\n",
       " 100: 24,\n",
       " 101: 24,\n",
       " 102: 24,\n",
       " 103: 24,\n",
       " 104: 24,\n",
       " 105: 24,\n",
       " 106: 24,\n",
       " 107: 24,\n",
       " 108: 24,\n",
       " 109: 24,\n",
       " 110: 24,\n",
       " 111: 24,\n",
       " 112: 24,\n",
       " 113: 24,\n",
       " 114: 24,\n",
       " 115: 24,\n",
       " 116: 24,\n",
       " 117: 24,\n",
       " 118: 24,\n",
       " 119: 24,\n",
       " 120: 24,\n",
       " 121: 24,\n",
       " 122: 8,\n",
       " 123: 24,\n",
       " 124: 24,\n",
       " 125: 24,\n",
       " 126: 24,\n",
       " 127: 24,\n",
       " 128: 24,\n",
       " 129: 24,\n",
       " 130: 24,\n",
       " 131: 24,\n",
       " 132: 24,\n",
       " 133: 24,\n",
       " 134: 24,\n",
       " 135: 24,\n",
       " 136: 24,\n",
       " 137: 24,\n",
       " 138: 24,\n",
       " 139: 24,\n",
       " 140: 24,\n",
       " 141: 24,\n",
       " 142: 24,\n",
       " 143: 24,\n",
       " 144: 24,\n",
       " 145: 24,\n",
       " 146: 24,\n",
       " 147: 24,\n",
       " 148: 24,\n",
       " 149: 24,\n",
       " 150: 24,\n",
       " 151: 24,\n",
       " 152: 24,\n",
       " 153: 24,\n",
       " 154: 24,\n",
       " 155: 24,\n",
       " 156: 24,\n",
       " 157: 24,\n",
       " 158: 24,\n",
       " 159: 24,\n",
       " 160: 24,\n",
       " 161: 24,\n",
       " 162: 24,\n",
       " 163: 24,\n",
       " 164: 24,\n",
       " 165: 24,\n",
       " 166: 24,\n",
       " 167: 24,\n",
       " 168: 24,\n",
       " 169: 24,\n",
       " 170: 24,\n",
       " 171: 24,\n",
       " 172: 24,\n",
       " 173: 24,\n",
       " 174: 24,\n",
       " 175: 24,\n",
       " 177: 24,\n",
       " 179: 24,\n",
       " 180: 24,\n",
       " 181: 24,\n",
       " 182: 24,\n",
       " 183: 24,\n",
       " 184: 24,\n",
       " 185: 24,\n",
       " 186: 24,\n",
       " 187: 24,\n",
       " 188: 24,\n",
       " 189: 24,\n",
       " 190: 24,\n",
       " 191: 24,\n",
       " 192: 24,\n",
       " 193: 24,\n",
       " 194: 24,\n",
       " 195: 24,\n",
       " 196: 24,\n",
       " 197: 24,\n",
       " 199: 24,\n",
       " 200: 24,\n",
       " 201: 24,\n",
       " 202: 24,\n",
       " 203: 24,\n",
       " 205: 24,\n",
       " 206: 24,\n",
       " 207: 24,\n",
       " 208: 19,\n",
       " 209: 24,\n",
       " 210: 24,\n",
       " 211: 24,\n",
       " 214: 24}"
      ]
     },
     "execution_count": 105,
     "metadata": {},
     "output_type": "execute_result"
    }
   ],
   "source": [
    "q7_result = {row[\"family\"]: row[\"pagetype\"] for row in most_frequent_pagetype.to_dicts()}\n",
    "\n",
    "q7_result"
   ]
  },
  {
   "cell_type": "code",
   "execution_count": 106,
   "metadata": {},
   "outputs": [],
   "source": [
    "submission['target']['query_7'] = q7_result"
   ]
  },
  {
   "cell_type": "markdown",
   "metadata": {},
   "source": [
    "# Replace submission file"
   ]
  },
  {
   "cell_type": "code",
   "execution_count": 107,
   "metadata": {},
   "outputs": [],
   "source": [
    "with open(SUBMISSION_1_PATH, 'w') as f:\n",
    "    json.dump(submission, f, indent=4)"
   ]
  }
 ],
 "metadata": {
  "kernelspec": {
   "display_name": ".venv",
   "language": "python",
   "name": "python3"
  },
  "language_info": {
   "codemirror_mode": {
    "name": "ipython",
    "version": 3
   },
   "file_extension": ".py",
   "mimetype": "text/x-python",
   "name": "python",
   "nbconvert_exporter": "python",
   "pygments_lexer": "ipython3",
   "version": "3.12.4"
  }
 },
 "nbformat": 4,
 "nbformat_minor": 2
}
