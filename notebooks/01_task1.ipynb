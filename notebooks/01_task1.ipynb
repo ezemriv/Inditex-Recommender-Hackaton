{
 "cells": [
  {
   "cell_type": "markdown",
   "metadata": {},
   "source": [
    "# Task 1\n",
    "\n",
    "Original submission file format:\n",
    "\n",
    "```\n",
    "{'target': {'query_1': {'partnumber': 17265},\n",
    "  'query_2': {'user_id': 34572},\n",
    "  'query_3': {'average_previous_visits': 5.52},\n",
    "  'query_4': {'device_type': 23},\n",
    "  'query_5': {'user_id': 123734},\n",
    "  'query_6': {'unique_families': 2357},\n",
    "  'query_7': {'1': 3, '2': 5, '3': 3, '4': 9, '5': 5, '6': 1}}}\n",
    "```"
   ]
  },
  {
   "cell_type": "code",
   "execution_count": 15,
   "metadata": {},
   "outputs": [],
   "source": [
    "import os\n",
    "import sys\n",
    "\n",
    "# root path\n",
    "ROOT = os.path.abspath(os.path.join(os.getcwd(), '..'))\n",
    "\n",
    "# Add the project root to the Python path\n",
    "if ROOT not in sys.path:\n",
    "    sys.path.append(ROOT)\n",
    "\n",
    "import polars as pl\n",
    "import pandas as pd"
   ]
  },
  {
   "cell_type": "markdown",
   "metadata": {},
   "source": [
    "## Paths"
   ]
  },
  {
   "cell_type": "code",
   "execution_count": 16,
   "metadata": {},
   "outputs": [],
   "source": [
    "DATA_PATH = os.path.join(ROOT, 'data')\n",
    "RAW_DATA_PATH = os.path.join(DATA_PATH, 'raw')\n",
    "\n",
    "USERS_RAW_PATH = os.path.join(RAW_DATA_PATH, 'user_batches')\n",
    "USERS_CLEAN_PATH = os.path.join(DATA_PATH, 'processed', 'users.parquet')\n",
    "\n",
    "TRAIN_PATH = os.path.join(DATA_PATH, 'raw', 'train.csv')\n",
    "\n",
    "PRODUCTS_PATH = os.path.join(DATA_PATH, 'raw', 'products.pkl')\n",
    "\n",
    "SUBMISSION_1_PATH = os.path.join(ROOT, 'predictions', 'example_predictions_1.json')"
   ]
  },
  {
   "cell_type": "code",
   "execution_count": 17,
   "metadata": {},
   "outputs": [],
   "source": [
    "# Load sample submission json\n",
    "import json\n",
    "submission = json.load(open(SUBMISSION_1_PATH))"
   ]
  },
  {
   "cell_type": "markdown",
   "metadata": {},
   "source": [
    "## Query 1\n",
    "\n",
    "**Q1:** Which product (`partnumber`) with `color_id` equal to 3   belongs to the lowest `familiy` code with a `discount`? "
   ]
  },
  {
   "cell_type": "code",
   "execution_count": 18,
   "metadata": {},
   "outputs": [],
   "source": [
    "prods = pl.from_pandas(pd.read_pickle(PRODUCTS_PATH))\n",
    "\n",
    "q1 = prods.sql(\"\"\"\n",
    "          SELECT partnumber\n",
    "          FROM self\n",
    "          WHERE color_id = 3\n",
    "          AND discount = 1\n",
    "          AND family = MIN(family)\n",
    "          \"\"\").item()\n",
    "\n",
    "submission['target']['query_1'] = {'partnumber': q1}"
   ]
  },
  {
   "cell_type": "markdown",
   "metadata": {},
   "source": [
    "## Query 2\n",
    "\n",
    "**Q2:** In the country where most users have made purchases totaling less than 500 (`M`) , which is the user who has the lowest purchase frequency (`F`), the most recent purchase (highest `R`) and the lowest `user_id`? Follow the given order of variables as the sorting priority."
   ]
  },
  {
   "cell_type": "code",
   "execution_count": 19,
   "metadata": {},
   "outputs": [],
   "source": [
    "from src.data.loaders import PolarsLoader\n",
    "\n",
    "loader = PolarsLoader(sampling=False, file_type='parquet')\n",
    "users = loader.load_data(USERS_CLEAN_PATH)"
   ]
  },
  {
   "cell_type": "code",
   "execution_count": 20,
   "metadata": {},
   "outputs": [
    {
     "data": {
      "text/plain": [
       "25"
      ]
     },
     "execution_count": 20,
     "metadata": {},
     "output_type": "execute_result"
    }
   ],
   "source": [
    "country = (users\n",
    "           .filter(pl.col('M') < 500)\n",
    "           .group_by('country')\n",
    "           .len()\n",
    "           .sort(by='len', descending=True)\n",
    "           .head(1)\n",
    "           )['country'].item()\n",
    "country"
   ]
  },
  {
   "cell_type": "code",
   "execution_count": 21,
   "metadata": {},
   "outputs": [],
   "source": [
    "q2 = (users\n",
    " .filter(pl.col('country') == country)\n",
    " .sort(\"F\", \"R\", \"user_id\", descending=[False, True, False])\n",
    " .head(1)\n",
    ")['user_id'].item()\n",
    "\n",
    "submission['target']['query_2'] = {'user_id': q2}"
   ]
  },
  {
   "cell_type": "markdown",
   "metadata": {},
   "source": [
    "## Query 3 (Run on Kaggle)\n",
    "\n",
    "**Q3:** Among the products that were added to the cart at least once, how many times is a product visited before it is added to the cart in average? Give the answer with 2 decimals."
   ]
  },
  {
   "cell_type": "code",
   "execution_count": 22,
   "metadata": {},
   "outputs": [],
   "source": [
    "# loader = PolarsLoader(sampling=True)\n",
    "\n",
    "# # Load data lazily\n",
    "# train = (loader\n",
    "#          .load_data_lazy(path=TRAIN_PATH)\n",
    "#          .select([\"session_id\", \"partnumber\", \"add_to_cart\", \"timestamp_local\"])\n",
    "#         )\n",
    "\n",
    "# # Products that were added to the cart\n",
    "# products_added = (\n",
    "#     train\n",
    "#     .filter(pl.col(\"add_to_cart\") == 1)\n",
    "#     .select(\"partnumber\")\n",
    "#     .unique()  # Stay in LazyFrame\n",
    "# )\n",
    "\n",
    "# # Keep only interactions for these products\n",
    "# interactions_for_cart_products = (\n",
    "#     train\n",
    "#     .join(products_added, on=\"partnumber\", how=\"inner\")  # Lazy join instead of is_in\n",
    "#     .sort([\"session_id\", \"partnumber\", \"timestamp_local\"])  # Sorting will also be deferred\n",
    "# )\n",
    "\n",
    "# # Add a cumulative flag for add_to_cart in each group\n",
    "# grouped_data = (\n",
    "#     interactions_for_cart_products\n",
    "#     .group_by([\"session_id\", \"partnumber\"])\n",
    "#     .agg([\n",
    "#         pl.col(\"add_to_cart\").cum_sum().alias(\"add_to_cart_cumsum\"),\n",
    "#         pl.col(\"add_to_cart\"),\n",
    "#         pl.col(\"timestamp_local\"),\n",
    "#     ])\n",
    "#     .explode([\"add_to_cart_cumsum\", \"add_to_cart\", \"timestamp_local\"]) \n",
    "# )\n",
    "\n",
    "# # Calculate pre-cart visits\n",
    "# pre_cart_visits = (\n",
    "#     grouped_data\n",
    "#     .filter(pl.col(\"add_to_cart_cumsum\") == 0)\n",
    "#     .group_by(\"partnumber\")\n",
    "#     .agg(pl.col(\"session_id\").count().alias(\"visit_count\"))\n",
    "# )\n",
    "\n",
    "# # Collect only the final aggregated result\n",
    "# final_result = pre_cart_visits.collect(streaming=True)\n",
    "\n",
    "# # Calculate the average visits before add_to_cart\n",
    "# average_visits = round(final_result[\"visit_count\"].mean(), 2)\n",
    "\n",
    "# print(\"Average Visits Before Adding to Cart:\", average_visits)"
   ]
  },
  {
   "cell_type": "code",
   "execution_count": 23,
   "metadata": {},
   "outputs": [],
   "source": [
    "average_visits = 1458.40 # From Kaggle run\n",
    "submission['target']['query_3'] = {'average_previous_visits': average_visits}"
   ]
  },
  {
   "cell_type": "markdown",
   "metadata": {},
   "source": [
    "## Query 4\n",
    "\n",
    "**Q4:** Which device (`device_type`) is most frequently used by users to make purchases (`add_to_cart` = 1) of discounted products (`discount` = 1)?"
   ]
  },
  {
   "cell_type": "code",
   "execution_count": null,
   "metadata": {},
   "outputs": [],
   "source": []
  },
  {
   "cell_type": "code",
   "execution_count": null,
   "metadata": {},
   "outputs": [],
   "source": []
  },
  {
   "cell_type": "code",
   "execution_count": null,
   "metadata": {},
   "outputs": [],
   "source": []
  },
  {
   "cell_type": "code",
   "execution_count": null,
   "metadata": {},
   "outputs": [],
   "source": []
  },
  {
   "cell_type": "code",
   "execution_count": null,
   "metadata": {},
   "outputs": [],
   "source": []
  },
  {
   "cell_type": "code",
   "execution_count": null,
   "metadata": {},
   "outputs": [],
   "source": []
  },
  {
   "cell_type": "markdown",
   "metadata": {},
   "source": [
    "# Replace submission file"
   ]
  },
  {
   "cell_type": "code",
   "execution_count": 24,
   "metadata": {},
   "outputs": [],
   "source": [
    "with open(SUBMISSION_1_PATH, 'w') as f:\n",
    "    json.dump(submission, f, indent=4)"
   ]
  }
 ],
 "metadata": {
  "kernelspec": {
   "display_name": ".venv",
   "language": "python",
   "name": "python3"
  },
  "language_info": {
   "codemirror_mode": {
    "name": "ipython",
    "version": 3
   },
   "file_extension": ".py",
   "mimetype": "text/x-python",
   "name": "python",
   "nbconvert_exporter": "python",
   "pygments_lexer": "ipython3",
   "version": "3.12.4"
  }
 },
 "nbformat": 4,
 "nbformat_minor": 2
}
