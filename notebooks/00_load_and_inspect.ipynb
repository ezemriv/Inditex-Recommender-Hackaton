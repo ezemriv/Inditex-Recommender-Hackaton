{
 "cells": [
  {
   "cell_type": "markdown",
   "metadata": {},
   "source": [
    "# Imports and paths"
   ]
  },
  {
   "cell_type": "code",
   "execution_count": 2,
   "metadata": {},
   "outputs": [],
   "source": [
    "import os\n",
    "import sys\n",
    "\n",
    "# root path\n",
    "ROOT = os.path.abspath(os.path.join(os.getcwd(), '..'))\n",
    "\n",
    "# Add the project root to the Python path\n",
    "if ROOT not in sys.path:\n",
    "    sys.path.append(ROOT)\n",
    "\n",
    "import polars as pl\n",
    "import pandas as pd"
   ]
  },
  {
   "cell_type": "markdown",
   "metadata": {},
   "source": [
    "## Paths"
   ]
  },
  {
   "cell_type": "code",
   "execution_count": 3,
   "metadata": {},
   "outputs": [],
   "source": [
    "DATA_PATH = os.path.join(ROOT, 'data')\n",
    "RAW_DATA_PATH = os.path.join(DATA_PATH, 'raw')\n",
    "\n",
    "USERS_RAW_PATH = os.path.join(RAW_DATA_PATH, 'user_batches')\n",
    "USERS_CLEAN_PATH = os.path.join(DATA_PATH, 'processed', 'users.parquet')\n",
    "\n",
    "TRAIN_PATH = os.path.join(DATA_PATH, 'raw', 'train.csv')\n",
    "\n",
    "PRODUCTS_PATH = os.path.join(DATA_PATH, 'raw', 'products.pkl')"
   ]
  },
  {
   "cell_type": "markdown",
   "metadata": {},
   "source": [
    "# User Data (API Call)"
   ]
  },
  {
   "cell_type": "code",
   "execution_count": 14,
   "metadata": {},
   "outputs": [],
   "source": [
    "from src.data.api_calls import fetch_all_user_ids, fetch_user_data\n",
    "\n",
    "all_ids = fetch_all_user_ids()"
   ]
  },
  {
   "cell_type": "code",
   "execution_count": 15,
   "metadata": {},
   "outputs": [
    {
     "data": {
      "text/plain": [
       "{'user_id': 305432,\n",
       " 'values': {'country': [25], 'R': [25], 'F': [163], 'M': [17.012304147465397]}}"
      ]
     },
     "execution_count": 15,
     "metadata": {},
     "output_type": "execute_result"
    }
   ],
   "source": [
    "import random\n",
    "random_id = random.choice(all_ids)\n",
    "fetch_user_data(random_id)"
   ]
  },
  {
   "cell_type": "markdown",
   "metadata": {},
   "source": [
    "## Load all batches, merge and save"
   ]
  },
  {
   "cell_type": "code",
   "execution_count": 17,
   "metadata": {},
   "outputs": [],
   "source": [
    "from src.data.loaders import PolarsLoader\n",
    "\n",
    "loader = PolarsLoader(sampling=False, file_type='parquet')"
   ]
  },
  {
   "cell_type": "code",
   "execution_count": 18,
   "metadata": {},
   "outputs": [
    {
     "name": "stdout",
     "output_type": "stream",
     "text": [
      "Processed user_batch_1.parquet: 100000 user_ids\n",
      "Processed user_batch_2.parquet: 100000 user_ids\n",
      "Processed user_batch_3.parquet: 100000 user_ids\n",
      "Processed user_batch_5.parquet: 100000 user_ids\n",
      "Processed user_batch_6.parquet: 57006 user_ids\n",
      "Processed user_batch_4.parquet: 100000 user_ids\n",
      "Final amount of users:  557006\n"
     ]
    }
   ],
   "source": [
    "down_users = []\n",
    "\n",
    "# Iterate through all files in the directory\n",
    "for file_name in os.listdir(USERS_RAW_PATH):\n",
    "    file_path = os.path.join(USERS_RAW_PATH, file_name)\n",
    "    \n",
    "    # Ensure the file is a parquet file before processing\n",
    "    if file_name.endswith('.parquet'):\n",
    "        data = loader.load_data(path=file_path)\n",
    "        users_ids = data['user_id']\n",
    "        down_users.extend(users_ids)  # Combine all user_ids into a single list\n",
    "        print(f\"Processed {file_name}: {len(users_ids)} user_ids\")\n",
    "\n",
    "print(\"Final amount of users: \", len(down_users))"
   ]
  },
  {
   "cell_type": "code",
   "execution_count": 20,
   "metadata": {},
   "outputs": [
    {
     "name": "stdout",
     "output_type": "stream",
     "text": [
      "Processed user_batch_1.parquet\n",
      "Processed user_batch_2.parquet\n",
      "Processed user_batch_3.parquet\n",
      "Processed user_batch_5.parquet\n",
      "Processed user_batch_6.parquet\n",
      "Processed user_batch_4.parquet\n",
      "Final combined DataFrame saved at /home/ezemriv/other_projects/hackathon-inditex-data-recommender/data/processed/users.parquet\n",
      "\n",
      " shape: (557_006, 5)\n",
      "┌─────────┬─────┬─────┬───────────┬─────────┐\n",
      "│ country ┆ R   ┆ F   ┆ M         ┆ user_id │\n",
      "│ ---     ┆ --- ┆ --- ┆ ---       ┆ ---     │\n",
      "│ i64     ┆ i64 ┆ i64 ┆ f64       ┆ i64     │\n",
      "╞═════════╪═════╪═════╪═══════════╪═════════╡\n",
      "│ 25      ┆ 30  ┆ 0   ┆ 0.0       ┆ 430102  │\n",
      "│ 25      ┆ 177 ┆ 1   ┆ 75.9      ┆ 134198  │\n",
      "│ 25      ┆ 32  ┆ 61  ┆ 37.694058 ┆ 134207  │\n",
      "│ 25      ┆ 74  ┆ 86  ┆ 11.64094  ┆ 180365  │\n",
      "│ 25      ┆ 79  ┆ 5   ┆ 30.283333 ┆ 430101  │\n",
      "│ …       ┆ …   ┆ …   ┆ …         ┆ …       │\n",
      "│ 25      ┆ 155 ┆ 9   ┆ 17.423636 ┆ 389294  │\n",
      "│ 25      ┆ 62  ┆ 16  ┆ 45.104706 ┆ 389292  │\n",
      "│ 25      ┆ 8   ┆ 74  ┆ 36.052632 ┆ 389298  │\n",
      "│ 25      ┆ 15  ┆ 26  ┆ 20.201622 ┆ 389296  │\n",
      "│ 25      ┆ 15  ┆ 13  ┆ 93.662308 ┆ 389297  │\n",
      "└─────────┴─────┴─────┴───────────┴─────────┘\n"
     ]
    }
   ],
   "source": [
    "final_df = pl.DataFrame()\n",
    "\n",
    "# Iterate through all files in the directory\n",
    "for file_name in os.listdir(USERS_RAW_PATH):\n",
    "    file_path = os.path.join(USERS_RAW_PATH, file_name)\n",
    "\n",
    "    data = loader.load_data(path=file_path)\n",
    "    final_df = pl.concat([final_df, data])\n",
    "    print(f\"Processed {file_name}\")\n",
    "\n",
    "# Save the final DataFrame\n",
    "final_df.write_parquet(USERS_CLEAN_PATH)\n",
    "\n",
    "print(f\"Final combined DataFrame saved at {USERS_CLEAN_PATH}\")\n",
    "print('\\n', final_df)"
   ]
  },
  {
   "cell_type": "markdown",
   "metadata": {},
   "source": [
    "# Train/Test Data"
   ]
  },
  {
   "cell_type": "code",
   "execution_count": 21,
   "metadata": {},
   "outputs": [],
   "source": [
    "loader = PolarsLoader(sampling=True)\n",
    "train = loader.load_data(path=TRAIN_PATH)"
   ]
  },
  {
   "cell_type": "code",
   "execution_count": 22,
   "metadata": {},
   "outputs": [
    {
     "data": {
      "text/html": [
       "<div><style>\n",
       ".dataframe > thead > tr,\n",
       ".dataframe > tbody > tr {\n",
       "  text-align: right;\n",
       "  white-space: pre-wrap;\n",
       "}\n",
       "</style>\n",
       "<small>shape: (10, 9)</small><table border=\"1\" class=\"dataframe\"><thead><tr><th>session_id</th><th>date</th><th>timestamp_local</th><th>add_to_cart</th><th>user_id</th><th>country</th><th>partnumber</th><th>device_type</th><th>pagetype</th></tr><tr><td>i64</td><td>date</td><td>datetime[μs]</td><td>i64</td><td>f64</td><td>i64</td><td>i64</td><td>i64</td><td>f64</td></tr></thead><tbody><tr><td>4846732</td><td>2024-06-11</td><td>2024-06-12 01:53:30.481</td><td>0</td><td>null</td><td>29</td><td>971</td><td>1</td><td>24.0</td></tr><tr><td>2242123</td><td>2024-06-05</td><td>2024-06-05 15:42:51.003</td><td>0</td><td>null</td><td>57</td><td>27628</td><td>1</td><td>24.0</td></tr><tr><td>2073222</td><td>2024-06-01</td><td>2024-06-01 23:10:52.713</td><td>0</td><td>null</td><td>29</td><td>15694</td><td>1</td><td>24.0</td></tr><tr><td>178190</td><td>2024-06-01</td><td>2024-06-01 22:33:21.154</td><td>0</td><td>null</td><td>34</td><td>30304</td><td>1</td><td>24.0</td></tr><tr><td>4872638</td><td>2024-06-08</td><td>2024-06-08 17:16:06.273</td><td>0</td><td>null</td><td>29</td><td>16284</td><td>1</td><td>24.0</td></tr><tr><td>938754</td><td>2024-06-02</td><td>2024-06-02 15:01:16.679</td><td>0</td><td>null</td><td>57</td><td>1131</td><td>1</td><td>24.0</td></tr><tr><td>3572864</td><td>2024-06-01</td><td>2024-06-01 04:02:04.379</td><td>0</td><td>null</td><td>57</td><td>27247</td><td>1</td><td>24.0</td></tr><tr><td>3743878</td><td>2024-06-01</td><td>2024-06-01 23:27:48.841</td><td>0</td><td>null</td><td>34</td><td>40182</td><td>1</td><td>24.0</td></tr><tr><td>2025525</td><td>2024-06-11</td><td>2024-06-11 06:41:57.564</td><td>0</td><td>216793.0</td><td>25</td><td>8572</td><td>1</td><td>24.0</td></tr><tr><td>290421</td><td>2024-06-09</td><td>2024-06-09 20:42:22.176</td><td>0</td><td>null</td><td>29</td><td>40006</td><td>1</td><td>24.0</td></tr></tbody></table></div>"
      ],
      "text/plain": [
       "shape: (10, 9)\n",
       "┌────────────┬────────────┬───────────┬───────────┬───┬─────────┬───────────┬───────────┬──────────┐\n",
       "│ session_id ┆ date       ┆ timestamp ┆ add_to_ca ┆ … ┆ country ┆ partnumbe ┆ device_ty ┆ pagetype │\n",
       "│ ---        ┆ ---        ┆ _local    ┆ rt        ┆   ┆ ---     ┆ r         ┆ pe        ┆ ---      │\n",
       "│ i64        ┆ date       ┆ ---       ┆ ---       ┆   ┆ i64     ┆ ---       ┆ ---       ┆ f64      │\n",
       "│            ┆            ┆ datetime[ ┆ i64       ┆   ┆         ┆ i64       ┆ i64       ┆          │\n",
       "│            ┆            ┆ μs]       ┆           ┆   ┆         ┆           ┆           ┆          │\n",
       "╞════════════╪════════════╪═══════════╪═══════════╪═══╪═════════╪═══════════╪═══════════╪══════════╡\n",
       "│ 4846732    ┆ 2024-06-11 ┆ 2024-06-1 ┆ 0         ┆ … ┆ 29      ┆ 971       ┆ 1         ┆ 24.0     │\n",
       "│            ┆            ┆ 2 01:53:3 ┆           ┆   ┆         ┆           ┆           ┆          │\n",
       "│            ┆            ┆ 0.481     ┆           ┆   ┆         ┆           ┆           ┆          │\n",
       "│ 2242123    ┆ 2024-06-05 ┆ 2024-06-0 ┆ 0         ┆ … ┆ 57      ┆ 27628     ┆ 1         ┆ 24.0     │\n",
       "│            ┆            ┆ 5 15:42:5 ┆           ┆   ┆         ┆           ┆           ┆          │\n",
       "│            ┆            ┆ 1.003     ┆           ┆   ┆         ┆           ┆           ┆          │\n",
       "│ 2073222    ┆ 2024-06-01 ┆ 2024-06-0 ┆ 0         ┆ … ┆ 29      ┆ 15694     ┆ 1         ┆ 24.0     │\n",
       "│            ┆            ┆ 1 23:10:5 ┆           ┆   ┆         ┆           ┆           ┆          │\n",
       "│            ┆            ┆ 2.713     ┆           ┆   ┆         ┆           ┆           ┆          │\n",
       "│ 178190     ┆ 2024-06-01 ┆ 2024-06-0 ┆ 0         ┆ … ┆ 34      ┆ 30304     ┆ 1         ┆ 24.0     │\n",
       "│            ┆            ┆ 1 22:33:2 ┆           ┆   ┆         ┆           ┆           ┆          │\n",
       "│            ┆            ┆ 1.154     ┆           ┆   ┆         ┆           ┆           ┆          │\n",
       "│ 4872638    ┆ 2024-06-08 ┆ 2024-06-0 ┆ 0         ┆ … ┆ 29      ┆ 16284     ┆ 1         ┆ 24.0     │\n",
       "│            ┆            ┆ 8 17:16:0 ┆           ┆   ┆         ┆           ┆           ┆          │\n",
       "│            ┆            ┆ 6.273     ┆           ┆   ┆         ┆           ┆           ┆          │\n",
       "│ 938754     ┆ 2024-06-02 ┆ 2024-06-0 ┆ 0         ┆ … ┆ 57      ┆ 1131      ┆ 1         ┆ 24.0     │\n",
       "│            ┆            ┆ 2 15:01:1 ┆           ┆   ┆         ┆           ┆           ┆          │\n",
       "│            ┆            ┆ 6.679     ┆           ┆   ┆         ┆           ┆           ┆          │\n",
       "│ 3572864    ┆ 2024-06-01 ┆ 2024-06-0 ┆ 0         ┆ … ┆ 57      ┆ 27247     ┆ 1         ┆ 24.0     │\n",
       "│            ┆            ┆ 1 04:02:0 ┆           ┆   ┆         ┆           ┆           ┆          │\n",
       "│            ┆            ┆ 4.379     ┆           ┆   ┆         ┆           ┆           ┆          │\n",
       "│ 3743878    ┆ 2024-06-01 ┆ 2024-06-0 ┆ 0         ┆ … ┆ 34      ┆ 40182     ┆ 1         ┆ 24.0     │\n",
       "│            ┆            ┆ 1 23:27:4 ┆           ┆   ┆         ┆           ┆           ┆          │\n",
       "│            ┆            ┆ 8.841     ┆           ┆   ┆         ┆           ┆           ┆          │\n",
       "│ 2025525    ┆ 2024-06-11 ┆ 2024-06-1 ┆ 0         ┆ … ┆ 25      ┆ 8572      ┆ 1         ┆ 24.0     │\n",
       "│            ┆            ┆ 1 06:41:5 ┆           ┆   ┆         ┆           ┆           ┆          │\n",
       "│            ┆            ┆ 7.564     ┆           ┆   ┆         ┆           ┆           ┆          │\n",
       "│ 290421     ┆ 2024-06-09 ┆ 2024-06-0 ┆ 0         ┆ … ┆ 29      ┆ 40006     ┆ 1         ┆ 24.0     │\n",
       "│            ┆            ┆ 9 20:42:2 ┆           ┆   ┆         ┆           ┆           ┆          │\n",
       "│            ┆            ┆ 2.176     ┆           ┆   ┆         ┆           ┆           ┆          │\n",
       "└────────────┴────────────┴───────────┴───────────┴───┴─────────┴───────────┴───────────┴──────────┘"
      ]
     },
     "execution_count": 22,
     "metadata": {},
     "output_type": "execute_result"
    }
   ],
   "source": [
    "train.sample(10)"
   ]
  },
  {
   "cell_type": "code",
   "execution_count": 23,
   "metadata": {},
   "outputs": [
    {
     "data": {
      "text/html": [
       "<div><style>\n",
       ".dataframe > thead > tr,\n",
       ".dataframe > tbody > tr {\n",
       "  text-align: right;\n",
       "  white-space: pre-wrap;\n",
       "}\n",
       "</style>\n",
       "<small>shape: (1, 9)</small><table border=\"1\" class=\"dataframe\"><thead><tr><th>session_id</th><th>date</th><th>timestamp_local</th><th>add_to_cart</th><th>user_id</th><th>country</th><th>partnumber</th><th>device_type</th><th>pagetype</th></tr><tr><td>u32</td><td>u32</td><td>u32</td><td>u32</td><td>u32</td><td>u32</td><td>u32</td><td>u32</td><td>u32</td></tr></thead><tbody><tr><td>0</td><td>0</td><td>0</td><td>0</td><td>852533</td><td>0</td><td>0</td><td>0</td><td>15</td></tr></tbody></table></div>"
      ],
      "text/plain": [
       "shape: (1, 9)\n",
       "┌────────────┬──────┬─────────────┬─────────────┬───┬─────────┬────────────┬────────────┬──────────┐\n",
       "│ session_id ┆ date ┆ timestamp_l ┆ add_to_cart ┆ … ┆ country ┆ partnumber ┆ device_typ ┆ pagetype │\n",
       "│ ---        ┆ ---  ┆ ocal        ┆ ---         ┆   ┆ ---     ┆ ---        ┆ e          ┆ ---      │\n",
       "│ u32        ┆ u32  ┆ ---         ┆ u32         ┆   ┆ u32     ┆ u32        ┆ ---        ┆ u32      │\n",
       "│            ┆      ┆ u32         ┆             ┆   ┆         ┆            ┆ u32        ┆          │\n",
       "╞════════════╪══════╪═════════════╪═════════════╪═══╪═════════╪════════════╪════════════╪══════════╡\n",
       "│ 0          ┆ 0    ┆ 0           ┆ 0           ┆ … ┆ 0       ┆ 0          ┆ 0          ┆ 15       │\n",
       "└────────────┴──────┴─────────────┴─────────────┴───┴─────────┴────────────┴────────────┴──────────┘"
      ]
     },
     "execution_count": 23,
     "metadata": {},
     "output_type": "execute_result"
    }
   ],
   "source": [
    "train.null_count()"
   ]
  },
  {
   "cell_type": "markdown",
   "metadata": {},
   "source": [
    "# Products"
   ]
  },
  {
   "cell_type": "code",
   "execution_count": 5,
   "metadata": {},
   "outputs": [
    {
     "name": "stdout",
     "output_type": "stream",
     "text": [
      "  discount                                          embedding  partnumber  \\\n",
      "0        0  [-0.13401361, -0.1200429, -0.016117405, -0.167...       32776   \n",
      "1        0  [-0.0949274, -0.107294075, -0.16559914, -0.174...       41431   \n",
      "2        0  [-0.12904441, -0.07724628, -0.09799071, -0.164...       39419   \n",
      "3        1  [-0.12783332, -0.133868, -0.10101265, -0.18888...       36087   \n",
      "4        1  [-0.14092924, -0.1258284, -0.10809927, -0.1765...       34132   \n",
      "\n",
      "   color_id  cod_section  family  \n",
      "0        85          4.0      73  \n",
      "1       135          4.0      73  \n",
      "2       339          4.0      73  \n",
      "3       135          4.0      73  \n",
      "4         3          4.0      73  \n",
      "(43692, 6)\n"
     ]
    }
   ],
   "source": [
    "prods = pd.read_pickle(PRODUCTS_PATH)\n",
    "print(prods.head())\n",
    "print(prods.shape)"
   ]
  }
 ],
 "metadata": {
  "kernelspec": {
   "display_name": ".venv",
   "language": "python",
   "name": "python3"
  },
  "language_info": {
   "codemirror_mode": {
    "name": "ipython",
    "version": 3
   },
   "file_extension": ".py",
   "mimetype": "text/x-python",
   "name": "python",
   "nbconvert_exporter": "python",
   "pygments_lexer": "ipython3",
   "version": "3.12.4"
  }
 },
 "nbformat": 4,
 "nbformat_minor": 2
}
