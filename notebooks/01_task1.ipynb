{
 "cells": [
  {
   "cell_type": "markdown",
   "metadata": {},
   "source": [
    "# Task 1\n",
    "\n",
    "Original submission file format:\n",
    "\n",
    "```\n",
    "{'target': {'query_1': {'partnumber': 17265},\n",
    "  'query_2': {'user_id': 34572},\n",
    "  'query_3': {'average_previous_visits': 5.52},\n",
    "  'query_4': {'device_type': 23},\n",
    "  'query_5': {'user_id': 123734},\n",
    "  'query_6': {'unique_families': 2357},\n",
    "  'query_7': {'1': 3, '2': 5, '3': 3, '4': 9, '5': 5, '6': 1}}}\n",
    "```"
   ]
  },
  {
   "cell_type": "code",
   "execution_count": 20,
   "metadata": {},
   "outputs": [],
   "source": [
    "import os\n",
    "import sys\n",
    "\n",
    "# root path\n",
    "ROOT = os.path.abspath(os.path.join(os.getcwd(), '..'))\n",
    "\n",
    "# Add the project root to the Python path\n",
    "if ROOT not in sys.path:\n",
    "    sys.path.append(ROOT)\n",
    "\n",
    "import polars as pl\n",
    "import pandas as pd\n",
    "from src.data.loaders import PolarsLoader"
   ]
  },
  {
   "cell_type": "markdown",
   "metadata": {},
   "source": [
    "## Paths"
   ]
  },
  {
   "cell_type": "code",
   "execution_count": 21,
   "metadata": {},
   "outputs": [],
   "source": [
    "from config import (USERS_DATA_PATH, TRAIN_DATA_PATH, \n",
    "                    TEST_DATA_PATH, SUBMISSION_1_PATH, \n",
    "                    PRODUCTS_PARQUET_PATH, PRODUCTS_DATA_PATH,\n",
    "                    TRAIN_PARQUET_PATH, TEST_PARQUET_PATH)"
   ]
  },
  {
   "cell_type": "code",
   "execution_count": 22,
   "metadata": {},
   "outputs": [],
   "source": [
    "# Load sample submission json\n",
    "import json\n",
    "submission = json.load(open(SUBMISSION_1_PATH))"
   ]
  },
  {
   "cell_type": "markdown",
   "metadata": {},
   "source": [
    "## Query 1\n",
    "\n",
    "**Q1:** Which product (`partnumber`) with `color_id` equal to 3   belongs to the lowest `familiy` code with a `discount`? "
   ]
  },
  {
   "cell_type": "code",
   "execution_count": 23,
   "metadata": {},
   "outputs": [
    {
     "name": "stdout",
     "output_type": "stream",
     "text": [
      "q1: 17265\n"
     ]
    }
   ],
   "source": [
    "prods = pl.from_pandas(pd.read_pickle(PRODUCTS_DATA_PATH))\n",
    "\n",
    "q1 = prods.sql(\"\"\"\n",
    "          SELECT partnumber\n",
    "          FROM self\n",
    "          WHERE color_id = 3\n",
    "          AND discount = 1\n",
    "          AND family = MIN(family)\n",
    "          \"\"\").item()\n",
    "\n",
    "print(f\"q1: {q1}\")\n",
    "submission['target']['query_1'] = {'partnumber': q1}"
   ]
  },
  {
   "cell_type": "markdown",
   "metadata": {},
   "source": [
    "## Query 2\n",
    "\n",
    "**Q2:** In the country where most users have made purchases totaling less than 500 (`M`) , which is the user who has the lowest purchase frequency (`F`), the most recent purchase (highest `R`) and the lowest `user_id`? Follow the given order of variables as the sorting priority."
   ]
  },
  {
   "cell_type": "code",
   "execution_count": 24,
   "metadata": {},
   "outputs": [],
   "source": [
    "loader = PolarsLoader(sampling=False, file_type='parquet')\n",
    "users = loader.load_data(USERS_DATA_PATH)"
   ]
  },
  {
   "cell_type": "code",
   "execution_count": 25,
   "metadata": {},
   "outputs": [
    {
     "data": {
      "text/plain": [
       "25"
      ]
     },
     "execution_count": 25,
     "metadata": {},
     "output_type": "execute_result"
    }
   ],
   "source": [
    "country = (users\n",
    "           .filter(pl.col('M') < 500)\n",
    "           .group_by('country')\n",
    "           .len()\n",
    "           .sort(by='len', descending=True)\n",
    "           .head(1)\n",
    "           )['country'].item()\n",
    "country"
   ]
  },
  {
   "cell_type": "code",
   "execution_count": 26,
   "metadata": {},
   "outputs": [
    {
     "name": "stdout",
     "output_type": "stream",
     "text": [
      "Q2: 187374\n"
     ]
    }
   ],
   "source": [
    "q2 = (users\n",
    " .filter(pl.col('country') == country)\n",
    " .sort(\"F\", \"R\", \"user_id\", descending=[False, True, False])\n",
    " .head(1)\n",
    ")['user_id'].item()\n",
    "\n",
    "print(f\"Q2: {q2}\")\n",
    "submission['target']['query_2'] = {'user_id': q2}"
   ]
  },
  {
   "cell_type": "markdown",
   "metadata": {},
   "source": [
    "## Query 3 (Run on Kaggle)\n",
    "\n",
    "**Q3:** Among the products that were added to the cart at least once, how many times is a product visited before it is added to the cart in average? Give the answer with 2 decimals."
   ]
  },
  {
   "cell_type": "code",
   "execution_count": 27,
   "metadata": {},
   "outputs": [],
   "source": [
    "# %%time\n",
    "# loader = PolarsLoader(sampling=True)\n",
    "\n",
    "# # Load data lazily\n",
    "# train = (loader\n",
    "#          .load_data_lazy(path=TRAIN_DATA_PATH)\n",
    "#          .select([\"session_id\", \"partnumber\", \"add_to_cart\", \"timestamp_local\"])\n",
    "#         )\n",
    "\n",
    "# # Products that were added to the cart\n",
    "# products_added = (\n",
    "#     train\n",
    "#     .filter(pl.col(\"add_to_cart\") == 1)\n",
    "#     .select(\"partnumber\")\n",
    "#     .unique()  # Stay in LazyFrame\n",
    "# )\n",
    "\n",
    "# # Keep only interactions for these products\n",
    "# interactions_for_cart_products = (\n",
    "#     train\n",
    "#     .join(products_added, on=\"partnumber\", how=\"inner\")  # Lazy join instead of is_in\n",
    "#     .sort([\"session_id\", \"partnumber\", \"timestamp_local\"])  # Sorting will also be deferred\n",
    "# )\n",
    "\n",
    "# # Add a cumulative flag for add_to_cart in each group\n",
    "# grouped_data = (\n",
    "#     interactions_for_cart_products\n",
    "#     .group_by([\"session_id\", \"partnumber\"])\n",
    "#     .agg([\n",
    "#         pl.col(\"add_to_cart\").cum_sum().alias(\"add_to_cart_cumsum\"),\n",
    "#         pl.col(\"add_to_cart\"),\n",
    "#         pl.col(\"timestamp_local\"),\n",
    "#     ])\n",
    "#     .explode([\"add_to_cart_cumsum\", \"add_to_cart\", \"timestamp_local\"]) \n",
    "# )\n",
    "\n",
    "# # Calculate pre-cart visits\n",
    "# pre_cart_visits = (\n",
    "#     grouped_data\n",
    "#     .filter(pl.col(\"add_to_cart_cumsum\") == 0)\n",
    "#     .group_by(\"partnumber\")\n",
    "#     .agg(pl.col(\"session_id\").count().alias(\"visit_count\"))\n",
    "# )\n",
    "\n",
    "# # Collect only the final aggregated result\n",
    "# final_result = pre_cart_visits.collect(streaming=True)\n",
    "\n",
    "# # Calculate the average visits before add_to_cart\n",
    "# average_visits = round(final_result[\"visit_count\"].mean(), 2)\n",
    "\n",
    "# print(\"Average Visits Before Adding to Cart:\", average_visits)"
   ]
  },
  {
   "cell_type": "markdown",
   "metadata": {},
   "source": [
    "**Testing loading the new train data as parquet casted down**"
   ]
  },
  {
   "cell_type": "code",
   "execution_count": 30,
   "metadata": {},
   "outputs": [
    {
     "name": "stdout",
     "output_type": "stream",
     "text": [
      "CPU times: user 4.54 s, sys: 140 ms, total: 4.68 s\n",
      "Wall time: 731 ms\n"
     ]
    },
    {
     "data": {
      "text/html": [
       "<div><style>\n",
       ".dataframe > thead > tr,\n",
       ".dataframe > tbody > tr {\n",
       "  text-align: right;\n",
       "  white-space: pre-wrap;\n",
       "}\n",
       "</style>\n",
       "<small>shape: (5, 2)</small><table border=\"1\" class=\"dataframe\"><thead><tr><th>session_id</th><th>add_to_cart</th></tr><tr><td>i64</td><td>i64</td></tr></thead><tbody><tr><td>2035547</td><td>0</td></tr><tr><td>463924</td><td>2</td></tr><tr><td>1270691</td><td>0</td></tr><tr><td>1506266</td><td>0</td></tr><tr><td>1243967</td><td>0</td></tr></tbody></table></div>"
      ],
      "text/plain": [
       "shape: (5, 2)\n",
       "┌────────────┬─────────────┐\n",
       "│ session_id ┆ add_to_cart │\n",
       "│ ---        ┆ ---         │\n",
       "│ i64        ┆ i64         │\n",
       "╞════════════╪═════════════╡\n",
       "│ 2035547    ┆ 0           │\n",
       "│ 463924     ┆ 2           │\n",
       "│ 1270691    ┆ 0           │\n",
       "│ 1506266    ┆ 0           │\n",
       "│ 1243967    ┆ 0           │\n",
       "└────────────┴─────────────┘"
      ]
     },
     "execution_count": 30,
     "metadata": {},
     "output_type": "execute_result"
    }
   ],
   "source": [
    "%%time\n",
    "loader = PolarsLoader(sampling=True, file_type=\"csv\")\n",
    "df = loader.load_data(TRAIN_DATA_PATH)\n",
    "df.group_by(\"session_id\").agg(pl.col(\"add_to_cart\").sum().alias(\"add_to_cart\")).head()"
   ]
  },
  {
   "cell_type": "code",
   "execution_count": 29,
   "metadata": {},
   "outputs": [
    {
     "name": "stdout",
     "output_type": "stream",
     "text": [
      "CPU times: user 161 ms, sys: 16 ms, total: 177 ms\n",
      "Wall time: 44.8 ms\n"
     ]
    },
    {
     "data": {
      "text/html": [
       "<div><style>\n",
       ".dataframe > thead > tr,\n",
       ".dataframe > tbody > tr {\n",
       "  text-align: right;\n",
       "  white-space: pre-wrap;\n",
       "}\n",
       "</style>\n",
       "<small>shape: (5, 2)</small><table border=\"1\" class=\"dataframe\"><thead><tr><th>session_id</th><th>add_to_cart</th></tr><tr><td>u32</td><td>i64</td></tr></thead><tbody><tr><td>152726</td><td>0</td></tr><tr><td>3397471</td><td>1</td></tr><tr><td>1713610</td><td>0</td></tr><tr><td>232940</td><td>0</td></tr><tr><td>2059163</td><td>0</td></tr></tbody></table></div>"
      ],
      "text/plain": [
       "shape: (5, 2)\n",
       "┌────────────┬─────────────┐\n",
       "│ session_id ┆ add_to_cart │\n",
       "│ ---        ┆ ---         │\n",
       "│ u32        ┆ i64         │\n",
       "╞════════════╪═════════════╡\n",
       "│ 152726     ┆ 0           │\n",
       "│ 3397471    ┆ 1           │\n",
       "│ 1713610    ┆ 0           │\n",
       "│ 232940     ┆ 0           │\n",
       "│ 2059163    ┆ 0           │\n",
       "└────────────┴─────────────┘"
      ]
     },
     "execution_count": 29,
     "metadata": {},
     "output_type": "execute_result"
    }
   ],
   "source": [
    "%%time\n",
    "loader = PolarsLoader(sampling=True, file_type=\"parquet\")\n",
    "df = loader.load_data(TRAIN_PARQUET_PATH)\n",
    "df.group_by(\"session_id\").agg(pl.col(\"add_to_cart\").sum().alias(\"add_to_cart\")).head()"
   ]
  },
  {
   "cell_type": "code",
   "execution_count": 31,
   "metadata": {},
   "outputs": [],
   "source": [
    "average_visits = 1458.40 # From Kaggle run\n",
    "submission['target']['query_3'] = {'average_previous_visits': average_visits}"
   ]
  },
  {
   "cell_type": "markdown",
   "metadata": {},
   "source": [
    "## Query 4\n",
    "\n",
    "**Q4:** Which device (`device_type`) is most frequently used by users to make purchases (`add_to_cart` = 1) of discounted products (`discount` = 1)?"
   ]
  },
  {
   "cell_type": "code",
   "execution_count": 32,
   "metadata": {},
   "outputs": [],
   "source": [
    "SAMPLING = True"
   ]
  },
  {
   "cell_type": "code",
   "execution_count": 36,
   "metadata": {},
   "outputs": [],
   "source": [
    "prod_loader = PolarsLoader(sampling=SAMPLING, file_type='parquet')\n",
    "prods = prod_loader.load_data(PRODUCTS_PARQUET_PATH, select_cols=['discount', 'partnumber'])\n",
    "\n",
    "prods = prods.filter(pl.col('discount') == 1)"
   ]
  },
  {
   "cell_type": "code",
   "execution_count": 37,
   "metadata": {},
   "outputs": [],
   "source": [
    "loader = PolarsLoader(sampling=SAMPLING, file_type=\"parquet\")\n",
    "train = loader.load_data(TRAIN_PARQUET_PATH).filter((pl.col(\"add_to_cart\") == 1))"
   ]
  },
  {
   "cell_type": "code",
   "execution_count": 39,
   "metadata": {},
   "outputs": [
    {
     "data": {
      "text/html": [
       "<div><style>\n",
       ".dataframe > thead > tr,\n",
       ".dataframe > tbody > tr {\n",
       "  text-align: right;\n",
       "  white-space: pre-wrap;\n",
       "}\n",
       "</style>\n",
       "<small>shape: (4_008, 11)</small><table border=\"1\" class=\"dataframe\"><thead><tr><th>session_id</th><th>date</th><th>timestamp_local</th><th>add_to_cart</th><th>user_id</th><th>country</th><th>partnumber</th><th>device_type</th><th>pagetype</th><th>discount</th><th>discount_right</th></tr><tr><td>u32</td><td>date</td><td>datetime[μs]</td><td>u8</td><td>u32</td><td>u8</td><td>u16</td><td>u8</td><td>u8</td><td>u8</td><td>u8</td></tr></thead><tbody><tr><td>3181</td><td>2024-06-01</td><td>2024-06-01 13:32:33.136</td><td>1</td><td>null</td><td>57</td><td>42698</td><td>1</td><td>24</td><td>1</td><td>1</td></tr><tr><td>3181</td><td>2024-06-01</td><td>2024-06-01 13:33:46.088</td><td>1</td><td>null</td><td>57</td><td>25177</td><td>1</td><td>24</td><td>1</td><td>1</td></tr><tr><td>3181</td><td>2024-06-01</td><td>2024-06-01 13:31:31.108</td><td>1</td><td>null</td><td>57</td><td>25177</td><td>1</td><td>24</td><td>1</td><td>1</td></tr><tr><td>16251</td><td>2024-06-10</td><td>2024-06-10 14:07:42.937</td><td>1</td><td>null</td><td>57</td><td>1865</td><td>1</td><td>24</td><td>1</td><td>1</td></tr><tr><td>16251</td><td>2024-06-10</td><td>2024-06-10 14:29:55.528</td><td>1</td><td>null</td><td>57</td><td>3879</td><td>1</td><td>24</td><td>1</td><td>1</td></tr><tr><td>&hellip;</td><td>&hellip;</td><td>&hellip;</td><td>&hellip;</td><td>&hellip;</td><td>&hellip;</td><td>&hellip;</td><td>&hellip;</td><td>&hellip;</td><td>&hellip;</td><td>&hellip;</td></tr><tr><td>644293</td><td>2024-06-11</td><td>2024-06-11 09:23:03.061</td><td>1</td><td>null</td><td>29</td><td>17254</td><td>1</td><td>24</td><td>1</td><td>1</td></tr><tr><td>646630</td><td>2024-06-09</td><td>2024-06-09 16:59:47.453</td><td>1</td><td>451583</td><td>25</td><td>28796</td><td>1</td><td>24</td><td>1</td><td>1</td></tr><tr><td>647335</td><td>2024-06-10</td><td>2024-06-10 13:53:32.479</td><td>1</td><td>null</td><td>57</td><td>42529</td><td>1</td><td>24</td><td>1</td><td>1</td></tr><tr><td>655524</td><td>2024-06-04</td><td>2024-06-04 22:51:00.642</td><td>1</td><td>null</td><td>29</td><td>26778</td><td>1</td><td>24</td><td>1</td><td>1</td></tr><tr><td>660285</td><td>2024-06-03</td><td>2024-06-03 19:06:01.102</td><td>1</td><td>null</td><td>34</td><td>11824</td><td>1</td><td>24</td><td>1</td><td>1</td></tr></tbody></table></div>"
      ],
      "text/plain": [
       "shape: (4_008, 11)\n",
       "┌────────────┬───────────┬───────────┬───────────┬───┬───────────┬──────────┬──────────┬───────────┐\n",
       "│ session_id ┆ date      ┆ timestamp ┆ add_to_ca ┆ … ┆ device_ty ┆ pagetype ┆ discount ┆ discount_ │\n",
       "│ ---        ┆ ---       ┆ _local    ┆ rt        ┆   ┆ pe        ┆ ---      ┆ ---      ┆ right     │\n",
       "│ u32        ┆ date      ┆ ---       ┆ ---       ┆   ┆ ---       ┆ u8       ┆ u8       ┆ ---       │\n",
       "│            ┆           ┆ datetime[ ┆ u8        ┆   ┆ u8        ┆          ┆          ┆ u8        │\n",
       "│            ┆           ┆ μs]       ┆           ┆   ┆           ┆          ┆          ┆           │\n",
       "╞════════════╪═══════════╪═══════════╪═══════════╪═══╪═══════════╪══════════╪══════════╪═══════════╡\n",
       "│ 3181       ┆ 2024-06-0 ┆ 2024-06-0 ┆ 1         ┆ … ┆ 1         ┆ 24       ┆ 1        ┆ 1         │\n",
       "│            ┆ 1         ┆ 1 13:32:3 ┆           ┆   ┆           ┆          ┆          ┆           │\n",
       "│            ┆           ┆ 3.136     ┆           ┆   ┆           ┆          ┆          ┆           │\n",
       "│ 3181       ┆ 2024-06-0 ┆ 2024-06-0 ┆ 1         ┆ … ┆ 1         ┆ 24       ┆ 1        ┆ 1         │\n",
       "│            ┆ 1         ┆ 1 13:33:4 ┆           ┆   ┆           ┆          ┆          ┆           │\n",
       "│            ┆           ┆ 6.088     ┆           ┆   ┆           ┆          ┆          ┆           │\n",
       "│ 3181       ┆ 2024-06-0 ┆ 2024-06-0 ┆ 1         ┆ … ┆ 1         ┆ 24       ┆ 1        ┆ 1         │\n",
       "│            ┆ 1         ┆ 1 13:31:3 ┆           ┆   ┆           ┆          ┆          ┆           │\n",
       "│            ┆           ┆ 1.108     ┆           ┆   ┆           ┆          ┆          ┆           │\n",
       "│ 16251      ┆ 2024-06-1 ┆ 2024-06-1 ┆ 1         ┆ … ┆ 1         ┆ 24       ┆ 1        ┆ 1         │\n",
       "│            ┆ 0         ┆ 0 14:07:4 ┆           ┆   ┆           ┆          ┆          ┆           │\n",
       "│            ┆           ┆ 2.937     ┆           ┆   ┆           ┆          ┆          ┆           │\n",
       "│ 16251      ┆ 2024-06-1 ┆ 2024-06-1 ┆ 1         ┆ … ┆ 1         ┆ 24       ┆ 1        ┆ 1         │\n",
       "│            ┆ 0         ┆ 0 14:29:5 ┆           ┆   ┆           ┆          ┆          ┆           │\n",
       "│            ┆           ┆ 5.528     ┆           ┆   ┆           ┆          ┆          ┆           │\n",
       "│ …          ┆ …         ┆ …         ┆ …         ┆ … ┆ …         ┆ …        ┆ …        ┆ …         │\n",
       "│ 644293     ┆ 2024-06-1 ┆ 2024-06-1 ┆ 1         ┆ … ┆ 1         ┆ 24       ┆ 1        ┆ 1         │\n",
       "│            ┆ 1         ┆ 1 09:23:0 ┆           ┆   ┆           ┆          ┆          ┆           │\n",
       "│            ┆           ┆ 3.061     ┆           ┆   ┆           ┆          ┆          ┆           │\n",
       "│ 646630     ┆ 2024-06-0 ┆ 2024-06-0 ┆ 1         ┆ … ┆ 1         ┆ 24       ┆ 1        ┆ 1         │\n",
       "│            ┆ 9         ┆ 9 16:59:4 ┆           ┆   ┆           ┆          ┆          ┆           │\n",
       "│            ┆           ┆ 7.453     ┆           ┆   ┆           ┆          ┆          ┆           │\n",
       "│ 647335     ┆ 2024-06-1 ┆ 2024-06-1 ┆ 1         ┆ … ┆ 1         ┆ 24       ┆ 1        ┆ 1         │\n",
       "│            ┆ 0         ┆ 0 13:53:3 ┆           ┆   ┆           ┆          ┆          ┆           │\n",
       "│            ┆           ┆ 2.479     ┆           ┆   ┆           ┆          ┆          ┆           │\n",
       "│ 655524     ┆ 2024-06-0 ┆ 2024-06-0 ┆ 1         ┆ … ┆ 1         ┆ 24       ┆ 1        ┆ 1         │\n",
       "│            ┆ 4         ┆ 4 22:51:0 ┆           ┆   ┆           ┆          ┆          ┆           │\n",
       "│            ┆           ┆ 0.642     ┆           ┆   ┆           ┆          ┆          ┆           │\n",
       "│ 660285     ┆ 2024-06-0 ┆ 2024-06-0 ┆ 1         ┆ … ┆ 1         ┆ 24       ┆ 1        ┆ 1         │\n",
       "│            ┆ 3         ┆ 3 19:06:0 ┆           ┆   ┆           ┆          ┆          ┆           │\n",
       "│            ┆           ┆ 1.102     ┆           ┆   ┆           ┆          ┆          ┆           │\n",
       "└────────────┴───────────┴───────────┴───────────┴───┴───────────┴──────────┴──────────┴───────────┘"
      ]
     },
     "execution_count": 39,
     "metadata": {},
     "output_type": "execute_result"
    }
   ],
   "source": [
    "filtered_data = train.join(prods, on='partnumber', how='inner')\n",
    "filtered_data"
   ]
  },
  {
   "cell_type": "code",
   "execution_count": 111,
   "metadata": {},
   "outputs": [],
   "source": [
    "# import random\n",
    "# filtered_data.filter(pl.col(\"session_id\") == random.choice(filtered_data[\"session_id\"].unique())) # one device per session id"
   ]
  },
  {
   "cell_type": "code",
   "execution_count": 112,
   "metadata": {},
   "outputs": [
    {
     "data": {
      "text/html": [
       "<div><style>\n",
       ".dataframe > thead > tr,\n",
       ".dataframe > tbody > tr {\n",
       "  text-align: right;\n",
       "  white-space: pre-wrap;\n",
       "}\n",
       "</style>\n",
       "<small>shape: (3, 2)</small><table border=\"1\" class=\"dataframe\"><thead><tr><th>device_type</th><th>count</th></tr><tr><td>u8</td><td>u32</td></tr></thead><tbody><tr><td>3</td><td>311</td></tr><tr><td>1</td><td>3637</td></tr><tr><td>2</td><td>60</td></tr></tbody></table></div>"
      ],
      "text/plain": [
       "shape: (3, 2)\n",
       "┌─────────────┬───────┐\n",
       "│ device_type ┆ count │\n",
       "│ ---         ┆ ---   │\n",
       "│ u8          ┆ u32   │\n",
       "╞═════════════╪═══════╡\n",
       "│ 3           ┆ 311   │\n",
       "│ 1           ┆ 3637  │\n",
       "│ 2           ┆ 60    │\n",
       "└─────────────┴───────┘"
      ]
     },
     "execution_count": 112,
     "metadata": {},
     "output_type": "execute_result"
    }
   ],
   "source": [
    "# Count device usage\n",
    "device_counts = (\n",
    "    filtered_data.group_by(\"device_type\")\n",
    "    .agg(pl.col(\"session_id\").count().alias(\"count\"))\n",
    ")\n",
    "device_counts"
   ]
  },
  {
   "cell_type": "code",
   "execution_count": 121,
   "metadata": {},
   "outputs": [
    {
     "name": "stdout",
     "output_type": "stream",
     "text": [
      "Most Frequent Device for Discounted Purchases: 1\n"
     ]
    }
   ],
   "source": [
    "# Find the most frequently used device\n",
    "most_frequent_device = (\n",
    "    device_counts\n",
    "    .sort(\"count\", descending=True)\n",
    "    .select(pl.first(\"device_type\"))\n",
    "    .item()\n",
    ")\n",
    "\n",
    "print(\"Most Frequent Device for Discounted Purchases:\", most_frequent_device)"
   ]
  },
  {
   "cell_type": "code",
   "execution_count": 123,
   "metadata": {},
   "outputs": [],
   "source": [
    "submission['target']['query_4'] = {'device_type': most_frequent_device}"
   ]
  },
  {
   "cell_type": "markdown",
   "metadata": {},
   "source": [
    "## Query 5"
   ]
  },
  {
   "cell_type": "markdown",
   "metadata": {},
   "source": [
    "# Replace submission file"
   ]
  },
  {
   "cell_type": "code",
   "execution_count": 17,
   "metadata": {},
   "outputs": [],
   "source": [
    "with open(SUBMISSION_1_PATH, 'w') as f:\n",
    "    json.dump(submission, f, indent=4)"
   ]
  }
 ],
 "metadata": {
  "kernelspec": {
   "display_name": ".venv",
   "language": "python",
   "name": "python3"
  },
  "language_info": {
   "codemirror_mode": {
    "name": "ipython",
    "version": 3
   },
   "file_extension": ".py",
   "mimetype": "text/x-python",
   "name": "python",
   "nbconvert_exporter": "python",
   "pygments_lexer": "ipython3",
   "version": "3.12.4"
  }
 },
 "nbformat": 4,
 "nbformat_minor": 2
}
