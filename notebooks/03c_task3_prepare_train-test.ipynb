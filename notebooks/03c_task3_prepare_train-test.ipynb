{
 "cells": [
  {
   "cell_type": "markdown",
   "metadata": {},
   "source": [
    "# Imports and paths"
   ]
  },
  {
   "cell_type": "code",
   "execution_count": 95,
   "metadata": {},
   "outputs": [],
   "source": [
    "import os\n",
    "import sys\n",
    "\n",
    "# root path\n",
    "ROOT = os.path.abspath(os.path.join(os.getcwd(), '..'))\n",
    "\n",
    "# Add the project root to the Python path\n",
    "if ROOT not in sys.path:\n",
    "    sys.path.append(ROOT)\n",
    "\n",
    "import polars as pl\n",
    "import pandas as pd\n",
    "import numpy as np"
   ]
  },
  {
   "cell_type": "code",
   "execution_count": 96,
   "metadata": {},
   "outputs": [],
   "source": [
    "from config import TRAIN_PARQUET_PATH, TEST_PARQUET_PATH, PRODUCTS_PARQUET_PATH, USERS_DATA_PATH, PRODUCTS_PARQUET_PATH_IMPUTED, ALL_PRODS_TRAINTEST_PATH\n",
    "from src.data.loaders import PolarsLoader\n",
    "from src.utils import filter_polars"
   ]
  },
  {
   "cell_type": "markdown",
   "metadata": {},
   "source": [
    "## Train and test processing"
   ]
  },
  {
   "cell_type": "code",
   "execution_count": 97,
   "metadata": {},
   "outputs": [
    {
     "data": {
      "text/html": [
       "<div><style>\n",
       ".dataframe > thead > tr,\n",
       ".dataframe > tbody > tr {\n",
       "  text-align: right;\n",
       "  white-space: pre-wrap;\n",
       "}\n",
       "</style>\n",
       "<small>shape: (5, 9)</small><table border=\"1\" class=\"dataframe\"><thead><tr><th>session_id</th><th>date</th><th>timestamp_local</th><th>add_to_cart</th><th>user_id</th><th>country</th><th>partnumber</th><th>device_type</th><th>pagetype</th></tr><tr><td>u32</td><td>date</td><td>datetime[μs]</td><td>u8</td><td>u32</td><td>u8</td><td>u16</td><td>u8</td><td>u8</td></tr></thead><tbody><tr><td>64</td><td>2024-06-06</td><td>2024-06-06 16:43:17.389</td><td>0</td><td>null</td><td>29</td><td>14327</td><td>1</td><td>24</td></tr><tr><td>117</td><td>2024-06-08</td><td>2024-06-08 15:11:02.782</td><td>0</td><td>null</td><td>57</td><td>38422</td><td>1</td><td>24</td></tr><tr><td>117</td><td>2024-06-08</td><td>2024-06-08 15:11:44.797</td><td>0</td><td>null</td><td>57</td><td>19763</td><td>1</td><td>24</td></tr><tr><td>579</td><td>2024-06-05</td><td>2024-06-05 19:24:48.397</td><td>0</td><td>null</td><td>29</td><td>30253</td><td>1</td><td>24</td></tr><tr><td>1220</td><td>2024-06-04</td><td>2024-06-04 08:21:13.476</td><td>0</td><td>480729</td><td>25</td><td>1592</td><td>1</td><td>24</td></tr></tbody></table></div>"
      ],
      "text/plain": [
       "shape: (5, 9)\n",
       "┌────────────┬────────────┬───────────┬───────────┬───┬─────────┬───────────┬───────────┬──────────┐\n",
       "│ session_id ┆ date       ┆ timestamp ┆ add_to_ca ┆ … ┆ country ┆ partnumbe ┆ device_ty ┆ pagetype │\n",
       "│ ---        ┆ ---        ┆ _local    ┆ rt        ┆   ┆ ---     ┆ r         ┆ pe        ┆ ---      │\n",
       "│ u32        ┆ date       ┆ ---       ┆ ---       ┆   ┆ u8      ┆ ---       ┆ ---       ┆ u8       │\n",
       "│            ┆            ┆ datetime[ ┆ u8        ┆   ┆         ┆ u16       ┆ u8        ┆          │\n",
       "│            ┆            ┆ μs]       ┆           ┆   ┆         ┆           ┆           ┆          │\n",
       "╞════════════╪════════════╪═══════════╪═══════════╪═══╪═════════╪═══════════╪═══════════╪══════════╡\n",
       "│ 64         ┆ 2024-06-06 ┆ 2024-06-0 ┆ 0         ┆ … ┆ 29      ┆ 14327     ┆ 1         ┆ 24       │\n",
       "│            ┆            ┆ 6 16:43:1 ┆           ┆   ┆         ┆           ┆           ┆          │\n",
       "│            ┆            ┆ 7.389     ┆           ┆   ┆         ┆           ┆           ┆          │\n",
       "│ 117        ┆ 2024-06-08 ┆ 2024-06-0 ┆ 0         ┆ … ┆ 57      ┆ 38422     ┆ 1         ┆ 24       │\n",
       "│            ┆            ┆ 8 15:11:0 ┆           ┆   ┆         ┆           ┆           ┆          │\n",
       "│            ┆            ┆ 2.782     ┆           ┆   ┆         ┆           ┆           ┆          │\n",
       "│ 117        ┆ 2024-06-08 ┆ 2024-06-0 ┆ 0         ┆ … ┆ 57      ┆ 19763     ┆ 1         ┆ 24       │\n",
       "│            ┆            ┆ 8 15:11:4 ┆           ┆   ┆         ┆           ┆           ┆          │\n",
       "│            ┆            ┆ 4.797     ┆           ┆   ┆         ┆           ┆           ┆          │\n",
       "│ 579        ┆ 2024-06-05 ┆ 2024-06-0 ┆ 0         ┆ … ┆ 29      ┆ 30253     ┆ 1         ┆ 24       │\n",
       "│            ┆            ┆ 5 19:24:4 ┆           ┆   ┆         ┆           ┆           ┆          │\n",
       "│            ┆            ┆ 8.397     ┆           ┆   ┆         ┆           ┆           ┆          │\n",
       "│ 1220       ┆ 2024-06-04 ┆ 2024-06-0 ┆ 0         ┆ … ┆ 25      ┆ 1592      ┆ 1         ┆ 24       │\n",
       "│            ┆            ┆ 4 08:21:1 ┆           ┆   ┆         ┆           ┆           ┆          │\n",
       "│            ┆            ┆ 3.476     ┆           ┆   ┆         ┆           ┆           ┆          │\n",
       "└────────────┴────────────┴───────────┴───────────┴───┴─────────┴───────────┴───────────┴──────────┘"
      ]
     },
     "execution_count": 97,
     "metadata": {},
     "output_type": "execute_result"
    }
   ],
   "source": [
    "loader = PolarsLoader(sampling=True, file_type='parquet')\n",
    "train = loader.load_data(path=TRAIN_PARQUET_PATH)\n",
    "test = loader.load_data(path=TEST_PARQUET_PATH)\n",
    "train.head()"
   ]
  },
  {
   "cell_type": "code",
   "execution_count": 98,
   "metadata": {},
   "outputs": [
    {
     "name": "stdout",
     "output_type": "stream",
     "text": [
      "**************************************************\n",
      "TRAIN DATA:\n",
      "**************************************************\n",
      "Unique session IDs\n",
      "95364\n",
      "\n",
      "Number of interacted products\n",
      "26380\n",
      "\n",
      "Date range:\n",
      "2024-06-01\n",
      "2024-06-15\n",
      "\n",
      " **************************************************\n",
      "TEST DATA:\n",
      "**************************************************\n",
      "Unique session IDs\n",
      "7349\n",
      "\n",
      "Number of interacted products\n",
      "9253\n",
      "\n",
      "Date range:\n",
      "2024-06-15\n",
      "2024-06-16\n"
     ]
    }
   ],
   "source": [
    "print(\"*\"*50)\n",
    "print(\"TRAIN DATA:\")\n",
    "print(\"*\"*50)\n",
    "print(\"Unique session IDs\")\n",
    "print(train['session_id'].n_unique())\n",
    "\n",
    "print(\"\\nNumber of interacted products\")\n",
    "print(train['partnumber'].n_unique())\n",
    "\n",
    "print(\"\\nDate range:\")\n",
    "print(train['date'].min())\n",
    "print(train['date'].max()) #----> Extraer entonces solo: NUMERO DIA, NUMERO DIA DE LA SEMANA, NOMBRE DIA DE LA SEMANA, NUMERO HORA, MAÑANA/TARDE/NOCHE\n",
    "\n",
    "print(\"\\n\",\"*\"*50)\n",
    "print(\"TEST DATA:\")\n",
    "print(\"*\"*50)\n",
    "print(\"Unique session IDs\")\n",
    "print(test['session_id'].n_unique())\n",
    "\n",
    "print(\"\\nNumber of interacted products\")\n",
    "print(test['partnumber'].n_unique())\n",
    "\n",
    "print(\"\\nDate range:\")\n",
    "print(test['date'].min())\n",
    "print(test['date'].max())"
   ]
  },
  {
   "cell_type": "markdown",
   "metadata": {},
   "source": [
    "I saved all products in train/test data to drop the \"not present\" in products data"
   ]
  },
  {
   "cell_type": "code",
   "execution_count": 99,
   "metadata": {},
   "outputs": [],
   "source": [
    "# # Save products in train/test to reduce product dataset\n",
    "# train_prods = train.select('partnumber').unique()\n",
    "# train_prods = list(train_prods.to_series())\n",
    "\n",
    "# test_prods = test.select('partnumber').unique()\n",
    "# test_prods = list(test_prods.to_series())\n",
    "\n",
    "# print(\"Total number of products in train + test datasets: \", len(set(train_prods + test_prods)))\n",
    "\n",
    "# all_prods = list(set(train_prods + test_prods))\n",
    "\n",
    "# # Save to JSON\n",
    "# with open(ALL_PRODS_TRAINTEST_PATH, 'w') as f:\n",
    "#     json.dump(all_prods, f)"
   ]
  },
  {
   "cell_type": "markdown",
   "metadata": {},
   "source": [
    "### NA imputation"
   ]
  },
  {
   "cell_type": "code",
   "execution_count": 100,
   "metadata": {},
   "outputs": [],
   "source": [
    "def impute_train_test(df):\n",
    "    \n",
    "    return df.with_columns([pl.col(\"user_id\").fill_null(-1).cast(pl.Int32),\n",
    "                        pl.col(\"pagetype\").fill_null(pl.col(\"pagetype\").mode()),\n",
    "                        ])\n",
    "\n",
    "train = impute_train_test(train)\n",
    "test = impute_train_test(test)"
   ]
  },
  {
   "cell_type": "code",
   "execution_count": 101,
   "metadata": {},
   "outputs": [],
   "source": [
    "# # Is each session from a single user? SI\n",
    "# train.drop_nulls()\\\n",
    "#     .group_by('session_id')\\\n",
    "#         .agg(pl.col('user_id').n_unique())\\\n",
    "#             .sort('user_id', descending=True)"
   ]
  },
  {
   "cell_type": "code",
   "execution_count": 102,
   "metadata": {},
   "outputs": [
    {
     "data": {
      "text/html": [
       "<div><style>\n",
       ".dataframe > thead > tr,\n",
       ".dataframe > tbody > tr {\n",
       "  text-align: right;\n",
       "  white-space: pre-wrap;\n",
       "}\n",
       "</style>\n",
       "<small>shape: (7_418, 2)</small><table border=\"1\" class=\"dataframe\"><thead><tr><th>session_id</th><th>user_id</th></tr><tr><td>u32</td><td>u32</td></tr></thead><tbody><tr><td>3745893</td><td>6480</td></tr><tr><td>205622</td><td>2022</td></tr><tr><td>2247260</td><td>1619</td></tr><tr><td>2656537</td><td>1132</td></tr><tr><td>3058982</td><td>1115</td></tr><tr><td>&hellip;</td><td>&hellip;</td></tr><tr><td>17947</td><td>30</td></tr><tr><td>3033819</td><td>30</td></tr><tr><td>2487984</td><td>30</td></tr><tr><td>232925</td><td>30</td></tr><tr><td>3359805</td><td>30</td></tr></tbody></table></div>"
      ],
      "text/plain": [
       "shape: (7_418, 2)\n",
       "┌────────────┬─────────┐\n",
       "│ session_id ┆ user_id │\n",
       "│ ---        ┆ ---     │\n",
       "│ u32        ┆ u32     │\n",
       "╞════════════╪═════════╡\n",
       "│ 3745893    ┆ 6480    │\n",
       "│ 205622     ┆ 2022    │\n",
       "│ 2247260    ┆ 1619    │\n",
       "│ 2656537    ┆ 1132    │\n",
       "│ 3058982    ┆ 1115    │\n",
       "│ …          ┆ …       │\n",
       "│ 17947      ┆ 30      │\n",
       "│ 3033819    ┆ 30      │\n",
       "│ 2487984    ┆ 30      │\n",
       "│ 232925     ┆ 30      │\n",
       "│ 3359805    ┆ 30      │\n",
       "└────────────┴─────────┘"
      ]
     },
     "execution_count": 102,
     "metadata": {},
     "output_type": "execute_result"
    }
   ],
   "source": [
    "# Some session with several interactions\n",
    "train.drop_nulls()\\\n",
    "    .group_by('session_id')\\\n",
    "        .agg(pl.col('user_id').count())\\\n",
    "            .sort('user_id', descending=True)\\\n",
    "                .filter(pl.col('user_id') >= 30)"
   ]
  },
  {
   "cell_type": "code",
   "execution_count": 103,
   "metadata": {},
   "outputs": [],
   "source": [
    "# 2 FEATURES IMPORTANTES A CREAR\n",
    "# 1. Cuanto duro cada interaccion\n",
    "# 2. Si es la primera interaccion con el producto o que numero es\n",
    "\n",
    "def feature_engineering_no_candidate_dependent(df: pl.DataFrame) -> pl.DataFrame:\n",
    "\n",
    "    # Cleaning and sorting\n",
    "    df_ = (df.clone()\n",
    "           .drop(\"date\")\n",
    "           .sort(\"timestamp_local\")\n",
    "    )\n",
    "\n",
    "    df_ = df_.with_columns([\n",
    "        # Calculate the difference in timestamps within each session\n",
    "        (pl.col(\"timestamp_local\").diff().over(\"session_id\").cast(pl.Float32) / 1_000_000).alias(\"seconds_since_last_interaction\"),\n",
    "        # Total session duration in seconds\n",
    "        ((pl.col(\"timestamp_local\").max() - pl.col(\"timestamp_local\").min()).over(\"session_id\").cast(pl.Float32) / 1_000_000).alias(\"total_session_time\"),\n",
    "    ]).fill_null(strategy=\"zero\")\n",
    "\n",
    "    df_ = df_.with_columns([\n",
    "                pl.col(\"seconds_since_last_interaction\").shift(-1).over(\"session_id\").alias(\"interaction_length\"),\n",
    "    ]).fill_null(strategy=\"zero\")\n",
    "\n",
    "    # Date features\n",
    "    df_ = df_.with_columns([\n",
    "        # Extracting day number\n",
    "        pl.col(\"timestamp_local\").dt.day().alias(\"day_number\"),\n",
    "        \n",
    "        # Extracting weekday number\n",
    "        pl.col(\"timestamp_local\").dt.weekday().alias(\"weekday_number\"),\n",
    "        \n",
    "        # Extracting weekday name\n",
    "        pl.col(\"timestamp_local\").dt.strftime(\"%A\").alias(\"weekday_name\").cast(pl.Categorical),\n",
    "        \n",
    "        # Extracting hour\n",
    "        pl.col(\"timestamp_local\").dt.hour().alias(\"hour\")\n",
    "    ])\n",
    "\n",
    "    def get_day_frame(hour: int) -> int:\n",
    "        if 6 <= hour < 12:\n",
    "            return 'Morning'\n",
    "        elif 12 <= hour < 18:\n",
    "            return 'Afternoon'\n",
    "        elif 18 <= hour < 24:\n",
    "            return 'Night'\n",
    "        else:\n",
    "            return 'Late Night'\n",
    "        \n",
    "    df_ = df_.with_columns([\n",
    "                    pl.col(\"hour\").map_elements(get_day_frame, return_dtype=pl.String).alias(\"day_frame\").cast(pl.Categorical)\n",
    "                ])\n",
    "\n",
    "    return df_\n",
    "\n",
    "train_eng = feature_engineering_no_candidate_dependent(train)\n",
    "test_eng = feature_engineering_no_candidate_dependent(test)"
   ]
  },
  {
   "cell_type": "code",
   "execution_count": 104,
   "metadata": {},
   "outputs": [
    {
     "data": {
      "text/html": [
       "<div><style>\n",
       ".dataframe > thead > tr,\n",
       ".dataframe > tbody > tr {\n",
       "  text-align: right;\n",
       "  white-space: pre-wrap;\n",
       "}\n",
       "</style>\n",
       "<small>shape: (5, 16)</small><table border=\"1\" class=\"dataframe\"><thead><tr><th>session_id</th><th>timestamp_local</th><th>add_to_cart</th><th>user_id</th><th>country</th><th>partnumber</th><th>device_type</th><th>pagetype</th><th>seconds_since_last_interaction</th><th>total_session_time</th><th>interaction_length</th><th>day_number</th><th>weekday_number</th><th>weekday_name</th><th>hour</th><th>day_frame</th></tr><tr><td>u32</td><td>datetime[μs]</td><td>u8</td><td>i32</td><td>u8</td><td>u16</td><td>u8</td><td>u8</td><td>f32</td><td>f32</td><td>f32</td><td>i8</td><td>i8</td><td>cat</td><td>i8</td><td>cat</td></tr></thead><tbody><tr><td>3033819</td><td>2024-06-01 17:51:54.800</td><td>0</td><td>-1</td><td>57</td><td>2549</td><td>1</td><td>24</td><td>54.492001</td><td>1335.773071</td><td>4.722</td><td>1</td><td>6</td><td>&quot;Saturday&quot;</td><td>17</td><td>&quot;Afternoon&quot;</td></tr><tr><td>3033819</td><td>2024-06-01 17:51:59.522</td><td>0</td><td>-1</td><td>57</td><td>18361</td><td>1</td><td>24</td><td>4.722</td><td>1335.773071</td><td>7.419</td><td>1</td><td>6</td><td>&quot;Saturday&quot;</td><td>17</td><td>&quot;Afternoon&quot;</td></tr><tr><td>3033819</td><td>2024-06-01 17:52:06.941</td><td>0</td><td>-1</td><td>57</td><td>15115</td><td>1</td><td>24</td><td>7.419</td><td>1335.773071</td><td>18.917999</td><td>1</td><td>6</td><td>&quot;Saturday&quot;</td><td>17</td><td>&quot;Afternoon&quot;</td></tr><tr><td>3033819</td><td>2024-06-01 17:52:25.859</td><td>0</td><td>-1</td><td>57</td><td>18772</td><td>1</td><td>24</td><td>18.917999</td><td>1335.773071</td><td>26.851999</td><td>1</td><td>6</td><td>&quot;Saturday&quot;</td><td>17</td><td>&quot;Afternoon&quot;</td></tr><tr><td>3033819</td><td>2024-06-01 17:52:52.711</td><td>0</td><td>-1</td><td>57</td><td>35865</td><td>1</td><td>24</td><td>26.851999</td><td>1335.773071</td><td>0.0</td><td>1</td><td>6</td><td>&quot;Saturday&quot;</td><td>17</td><td>&quot;Afternoon&quot;</td></tr></tbody></table></div>"
      ],
      "text/plain": [
       "shape: (5, 16)\n",
       "┌────────────┬─────────────┬────────────┬─────────┬───┬────────────┬────────────┬──────┬───────────┐\n",
       "│ session_id ┆ timestamp_l ┆ add_to_car ┆ user_id ┆ … ┆ weekday_nu ┆ weekday_na ┆ hour ┆ day_frame │\n",
       "│ ---        ┆ ocal        ┆ t          ┆ ---     ┆   ┆ mber       ┆ me         ┆ ---  ┆ ---       │\n",
       "│ u32        ┆ ---         ┆ ---        ┆ i32     ┆   ┆ ---        ┆ ---        ┆ i8   ┆ cat       │\n",
       "│            ┆ datetime[μs ┆ u8         ┆         ┆   ┆ i8         ┆ cat        ┆      ┆           │\n",
       "│            ┆ ]           ┆            ┆         ┆   ┆            ┆            ┆      ┆           │\n",
       "╞════════════╪═════════════╪════════════╪═════════╪═══╪════════════╪════════════╪══════╪═══════════╡\n",
       "│ 3033819    ┆ 2024-06-01  ┆ 0          ┆ -1      ┆ … ┆ 6          ┆ Saturday   ┆ 17   ┆ Afternoon │\n",
       "│            ┆ 17:51:54.80 ┆            ┆         ┆   ┆            ┆            ┆      ┆           │\n",
       "│            ┆ 0           ┆            ┆         ┆   ┆            ┆            ┆      ┆           │\n",
       "│ 3033819    ┆ 2024-06-01  ┆ 0          ┆ -1      ┆ … ┆ 6          ┆ Saturday   ┆ 17   ┆ Afternoon │\n",
       "│            ┆ 17:51:59.52 ┆            ┆         ┆   ┆            ┆            ┆      ┆           │\n",
       "│            ┆ 2           ┆            ┆         ┆   ┆            ┆            ┆      ┆           │\n",
       "│ 3033819    ┆ 2024-06-01  ┆ 0          ┆ -1      ┆ … ┆ 6          ┆ Saturday   ┆ 17   ┆ Afternoon │\n",
       "│            ┆ 17:52:06.94 ┆            ┆         ┆   ┆            ┆            ┆      ┆           │\n",
       "│            ┆ 1           ┆            ┆         ┆   ┆            ┆            ┆      ┆           │\n",
       "│ 3033819    ┆ 2024-06-01  ┆ 0          ┆ -1      ┆ … ┆ 6          ┆ Saturday   ┆ 17   ┆ Afternoon │\n",
       "│            ┆ 17:52:25.85 ┆            ┆         ┆   ┆            ┆            ┆      ┆           │\n",
       "│            ┆ 9           ┆            ┆         ┆   ┆            ┆            ┆      ┆           │\n",
       "│ 3033819    ┆ 2024-06-01  ┆ 0          ┆ -1      ┆ … ┆ 6          ┆ Saturday   ┆ 17   ┆ Afternoon │\n",
       "│            ┆ 17:52:52.71 ┆            ┆         ┆   ┆            ┆            ┆      ┆           │\n",
       "│            ┆ 1           ┆            ┆         ┆   ┆            ┆            ┆      ┆           │\n",
       "└────────────┴─────────────┴────────────┴─────────┴───┴────────────┴────────────┴──────┴───────────┘"
      ]
     },
     "execution_count": 104,
     "metadata": {},
     "output_type": "execute_result"
    }
   ],
   "source": [
    "#1 session example\n",
    "train_eng.filter(pl.col('session_id') == 3033819).tail()"
   ]
  },
  {
   "cell_type": "markdown",
   "metadata": {},
   "source": [
    "## Selecting candidates\n",
    "This is the plan...\n",
    "\n",
    "- Global Popular Products:\n",
    "    - Select 50–100 most popular products globally.\n",
    "    - Use these as candidates for all sessions.\n",
    "\n",
    "- Country-Specific Popular Products:\n",
    "    - For each session, identify the user's country.\n",
    "    - Select the 50–100 most popular products for that country.\n",
    "\n",
    "- Similar Products:\n",
    "    For every session, regardless of user history:\n",
    "    - Select ~20 products most similar to the product(s) in the interaction.\n",
    "    - User History Products:\n",
    "\n",
    "For users with history in the Train dataset:\n",
    "Include all products they interacted with but did not add to the cart.\n",
    "\n",
    "## Adding candidates to test\n",
    "- I have to add them at the end of session (max timestamp) for the feature to \"count interaction\"\n",
    "- I have to drop duplicate addition because that \"count\" would increase"
   ]
  },
  {
   "cell_type": "markdown",
   "metadata": {},
   "source": [
    "### 1. Take Top popular products from train\n",
    "I create a dataframe with top 500 to later select how many to feed to test"
   ]
  },
  {
   "cell_type": "code",
   "execution_count": 105,
   "metadata": {},
   "outputs": [],
   "source": [
    "cart_counts = (train_eng\n",
    " .group_by('partnumber')\n",
    " .agg(pl.col('add_to_cart').count())\n",
    " .sort('add_to_cart', descending=True)\n",
    " .limit(500)\n",
    ")"
   ]
  },
  {
   "cell_type": "code",
   "execution_count": 106,
   "metadata": {},
   "outputs": [
    {
     "data": {
      "text/html": [
       "<div><style>\n",
       ".dataframe > thead > tr,\n",
       ".dataframe > tbody > tr {\n",
       "  text-align: right;\n",
       "  white-space: pre-wrap;\n",
       "}\n",
       "</style>\n",
       "<small>shape: (500, 2)</small><table border=\"1\" class=\"dataframe\"><thead><tr><th>partnumber</th><th>add_to_cart</th></tr><tr><td>u16</td><td>u32</td></tr></thead><tbody><tr><td>1181</td><td>3234</td></tr><tr><td>41749</td><td>3221</td></tr><tr><td>32700</td><td>1313</td></tr><tr><td>33777</td><td>1177</td></tr><tr><td>11031</td><td>903</td></tr><tr><td>&hellip;</td><td>&hellip;</td></tr><tr><td>1552</td><td>279</td></tr><tr><td>43112</td><td>279</td></tr><tr><td>36192</td><td>278</td></tr><tr><td>21992</td><td>278</td></tr><tr><td>39026</td><td>278</td></tr></tbody></table></div>"
      ],
      "text/plain": [
       "shape: (500, 2)\n",
       "┌────────────┬─────────────┐\n",
       "│ partnumber ┆ add_to_cart │\n",
       "│ ---        ┆ ---         │\n",
       "│ u16        ┆ u32         │\n",
       "╞════════════╪═════════════╡\n",
       "│ 1181       ┆ 3234        │\n",
       "│ 41749      ┆ 3221        │\n",
       "│ 32700      ┆ 1313        │\n",
       "│ 33777      ┆ 1177        │\n",
       "│ 11031      ┆ 903         │\n",
       "│ …          ┆ …           │\n",
       "│ 1552       ┆ 279         │\n",
       "│ 43112      ┆ 279         │\n",
       "│ 36192      ┆ 278         │\n",
       "│ 21992      ┆ 278         │\n",
       "│ 39026      ┆ 278         │\n",
       "└────────────┴─────────────┘"
      ]
     },
     "execution_count": 106,
     "metadata": {},
     "output_type": "execute_result"
    }
   ],
   "source": [
    "cart_counts"
   ]
  },
  {
   "cell_type": "code",
   "execution_count": 107,
   "metadata": {},
   "outputs": [
    {
     "name": "stdout",
     "output_type": "stream",
     "text": [
      "Total products:  500\n"
     ]
    },
    {
     "data": {
      "image/png": "[encoded data removed]",
      "text/plain": [
       "<Figure size 640x480 with 1 Axes>"
      ]
     },
     "metadata": {},
     "output_type": "display_data"
    }
   ],
   "source": [
    "import matplotlib.pyplot as plt\n",
    "cart_additions = 200\n",
    "selected_plot = cart_counts.filter(pl.col('add_to_cart')> cart_additions)\n",
    "print(\"Total products: \", cart_counts['partnumber'].n_unique())\n",
    "plt.hist(cart_counts.filter(pl.col('add_to_cart')> cart_additions)['add_to_cart'], bins=100);"
   ]
  },
  {
   "cell_type": "markdown",
   "metadata": {},
   "source": [
    "### 2. Add to test"
   ]
  },
  {
   "cell_type": "code",
   "execution_count": 108,
   "metadata": {},
   "outputs": [
    {
     "data": {
      "text/html": [
       "<div><style>\n",
       ".dataframe > thead > tr,\n",
       ".dataframe > tbody > tr {\n",
       "  text-align: right;\n",
       "  white-space: pre-wrap;\n",
       "}\n",
       "</style>\n",
       "<small>shape: (3_373, 2)</small><table border=\"1\" class=\"dataframe\"><thead><tr><th>session_id</th><th>user_id</th></tr><tr><td>u32</td><td>u32</td></tr></thead><tbody><tr><td>2999411</td><td>10</td></tr><tr><td>4422250</td><td>10</td></tr><tr><td>3712870</td><td>10</td></tr><tr><td>1248317</td><td>10</td></tr><tr><td>671670</td><td>10</td></tr><tr><td>&hellip;</td><td>&hellip;</td></tr><tr><td>1324294</td><td>5</td></tr><tr><td>509208</td><td>5</td></tr><tr><td>2703885</td><td>5</td></tr><tr><td>1796149</td><td>5</td></tr><tr><td>4540454</td><td>5</td></tr></tbody></table></div>"
      ],
      "text/plain": [
       "shape: (3_373, 2)\n",
       "┌────────────┬─────────┐\n",
       "│ session_id ┆ user_id │\n",
       "│ ---        ┆ ---     │\n",
       "│ u32        ┆ u32     │\n",
       "╞════════════╪═════════╡\n",
       "│ 2999411    ┆ 10      │\n",
       "│ 4422250    ┆ 10      │\n",
       "│ 3712870    ┆ 10      │\n",
       "│ 1248317    ┆ 10      │\n",
       "│ 671670     ┆ 10      │\n",
       "│ …          ┆ …       │\n",
       "│ 1324294    ┆ 5       │\n",
       "│ 509208     ┆ 5       │\n",
       "│ 2703885    ┆ 5       │\n",
       "│ 1796149    ┆ 5       │\n",
       "│ 4540454    ┆ 5       │\n",
       "└────────────┴─────────┘"
      ]
     },
     "execution_count": 108,
     "metadata": {},
     "output_type": "execute_result"
    }
   ],
   "source": [
    "# Some session with several interactions\n",
    "test_eng.drop_nulls()\\\n",
    "    .group_by('session_id')\\\n",
    "        .agg(pl.col('user_id').count())\\\n",
    "            .sort('user_id', descending=True)\\\n",
    "                .filter(pl.col('user_id') >= 5)"
   ]
  },
  {
   "cell_type": "code",
   "execution_count": 109,
   "metadata": {},
   "outputs": [],
   "source": [
    "TOPN_GLOBAL = 10\n",
    "top_global_prods = cart_counts['partnumber'].head(TOPN_GLOBAL).to_list()"
   ]
  },
  {
   "cell_type": "code",
   "execution_count": 110,
   "metadata": {},
   "outputs": [],
   "source": [
    "def add_candidates_to_test(test_df: pl.DataFrame, candidate_products: list) -> pl.DataFrame:\n",
    "    \"\"\"Adds candidate products as new rows for each session in test data\"\"\"\n",
    "    test_session_ids = test_df[\"session_id\"].unique()\n",
    "\n",
    "    # Create a dataframe with all the candidate products for each session\n",
    "    candidates = [\n",
    "        {\"session_id\": sid, \"partnumber\": pn}\n",
    "        for sid in test_session_ids \n",
    "        for pn in candidate_products\n",
    "    ]\n",
    "    candidates_df = pl.DataFrame(candidates).with_columns([\n",
    "        pl.col(\"session_id\").cast(pl.UInt32),\n",
    "        pl.col(\"partnumber\").cast(pl.UInt16)\n",
    "    ])\n",
    "    \n",
    "    # Add the candidate products to the test data\n",
    "    test_extended = pl.concat([test_df, candidates_df], how=\"diagonal\").unique()\n",
    "\n",
    "    # Fill missing values with generated\n",
    "    # test_extended = test_extended.group_by(\"session_id\").map_groups(\n",
    "    #             lambda group: group.sort(\"timestamp_local\", descending=True)\n",
    "    #             .fill_null(strategy=\"backward\"))\n",
    "\n",
    "    #Fill missing values with generated: Faster version\n",
    "    backfilled_cols = ['timestamp_local',\n",
    "                        'user_id',\n",
    "                        'country',\n",
    "                        'device_type',\n",
    "                        'pagetype',\n",
    "                        'total_session_time',\n",
    "                        'day_number',\n",
    "                        'weekday_number',\n",
    "                        'weekday_name',\n",
    "                        'hour',\n",
    "                        'day_frame']\n",
    "    \n",
    "    statsfilled_cols = ['seconds_since_last_interaction',\n",
    "                        'interaction_length']\n",
    "    \n",
    "    test_extended = (test_extended\n",
    "                    .sort([\"session_id\", \"timestamp_local\"], descending=[False, True])\n",
    "                    .with_columns([\n",
    "                        pl.col(col).fill_null(strategy='backward').over(\"session_id\") \n",
    "                        for col in backfilled_cols\n",
    "                    ])\n",
    "                    .with_columns([\n",
    "                        pl.col(col).fill_null(strategy='mean').over(\"session_id\") \n",
    "                        for col in statsfilled_cols\n",
    "                    ])\n",
    "                )\n",
    "\n",
    "    return test_extended"
   ]
  },
  {
   "cell_type": "code",
   "execution_count": 111,
   "metadata": {},
   "outputs": [
    {
     "name": "stderr",
     "output_type": "stream",
     "text": [
      "/tmp/ipykernel_72827/80947312.py:17: CategoricalRemappingWarning: Local categoricals have different encodings, expensive re-encoding is done to perform this merge operation. Consider using a StringCache or an Enum type if the categories are known in advance\n",
      "  test_extended = pl.concat([test_df, candidates_df], how=\"diagonal\").unique()\n"
     ]
    }
   ],
   "source": [
    "test_extended = add_candidates_to_test(test_eng, top_global_prods)"
   ]
  },
  {
   "cell_type": "markdown",
   "metadata": {},
   "source": [
    "### 3. Create extra features depending on candidates"
   ]
  },
  {
   "cell_type": "code",
   "execution_count": 112,
   "metadata": {},
   "outputs": [],
   "source": [
    "def feature_engineering_candidate_dependent(df: pl.DataFrame) -> pl.DataFrame:\n",
    "    \n",
    "    df = df.with_columns([\n",
    "        # Assign a cumulative count for each partnumber within a session\n",
    "        pl.col(\"partnumber\").cum_count().over([\"session_id\", \"partnumber\"]).alias(\"product_interaction_count\")\n",
    "    ]).fill_null(strategy=\"zero\")\n",
    "\n",
    "    return df"
   ]
  },
  {
   "cell_type": "code",
   "execution_count": 113,
   "metadata": {},
   "outputs": [],
   "source": [
    "train_eng = feature_engineering_candidate_dependent(train_eng)\n",
    "test_extended = feature_engineering_candidate_dependent(test_extended)"
   ]
  },
  {
   "cell_type": "code",
   "execution_count": 114,
   "metadata": {},
   "outputs": [
    {
     "data": {
      "text/html": [
       "<div><style>\n",
       ".dataframe > thead > tr,\n",
       ".dataframe > tbody > tr {\n",
       "  text-align: right;\n",
       "  white-space: pre-wrap;\n",
       "}\n",
       "</style>\n",
       "<small>shape: (5, 17)</small><table border=\"1\" class=\"dataframe\"><thead><tr><th>session_id</th><th>timestamp_local</th><th>add_to_cart</th><th>user_id</th><th>country</th><th>partnumber</th><th>device_type</th><th>pagetype</th><th>seconds_since_last_interaction</th><th>total_session_time</th><th>interaction_length</th><th>day_number</th><th>weekday_number</th><th>weekday_name</th><th>hour</th><th>day_frame</th><th>product_interaction_count</th></tr><tr><td>u32</td><td>datetime[μs]</td><td>u8</td><td>i32</td><td>u8</td><td>u16</td><td>u8</td><td>u8</td><td>f32</td><td>f32</td><td>f32</td><td>i8</td><td>i8</td><td>cat</td><td>i8</td><td>cat</td><td>u32</td></tr></thead><tbody><tr><td>3430915</td><td>2024-06-01 02:00:00.399</td><td>0</td><td>-1</td><td>57</td><td>11490</td><td>1</td><td>24</td><td>0.0</td><td>889.921997</td><td>40.452</td><td>1</td><td>6</td><td>&quot;Saturday&quot;</td><td>2</td><td>&quot;Late Night&quot;</td><td>1</td></tr><tr><td>3859571</td><td>2024-06-01 02:00:00.829</td><td>0</td><td>-1</td><td>34</td><td>16688</td><td>1</td><td>24</td><td>0.0</td><td>1890.589966</td><td>48.697998</td><td>1</td><td>6</td><td>&quot;Saturday&quot;</td><td>2</td><td>&quot;Late Night&quot;</td><td>1</td></tr><tr><td>2706260</td><td>2024-06-01 02:00:01.985</td><td>0</td><td>-1</td><td>34</td><td>6807</td><td>1</td><td>24</td><td>0.0</td><td>129.283997</td><td>9.211</td><td>1</td><td>6</td><td>&quot;Saturday&quot;</td><td>2</td><td>&quot;Late Night&quot;</td><td>1</td></tr><tr><td>3686634</td><td>2024-06-01 02:00:03.828</td><td>0</td><td>-1</td><td>34</td><td>14566</td><td>1</td><td>24</td><td>0.0</td><td>1686.774048</td><td>11.237</td><td>1</td><td>6</td><td>&quot;Saturday&quot;</td><td>2</td><td>&quot;Late Night&quot;</td><td>1</td></tr><tr><td>4175670</td><td>2024-06-01 02:00:09.282</td><td>0</td><td>-1</td><td>57</td><td>22950</td><td>1</td><td>24</td><td>0.0</td><td>253.373993</td><td>1.373</td><td>1</td><td>6</td><td>&quot;Saturday&quot;</td><td>2</td><td>&quot;Late Night&quot;</td><td>1</td></tr></tbody></table></div>"
      ],
      "text/plain": [
       "shape: (5, 17)\n",
       "┌────────────┬────────────┬────────────┬─────────┬───┬────────────┬──────┬────────────┬────────────┐\n",
       "│ session_id ┆ timestamp_ ┆ add_to_car ┆ user_id ┆ … ┆ weekday_na ┆ hour ┆ day_frame  ┆ product_in │\n",
       "│ ---        ┆ local      ┆ t          ┆ ---     ┆   ┆ me         ┆ ---  ┆ ---        ┆ teraction_ │\n",
       "│ u32        ┆ ---        ┆ ---        ┆ i32     ┆   ┆ ---        ┆ i8   ┆ cat        ┆ count      │\n",
       "│            ┆ datetime[μ ┆ u8         ┆         ┆   ┆ cat        ┆      ┆            ┆ ---        │\n",
       "│            ┆ s]         ┆            ┆         ┆   ┆            ┆      ┆            ┆ u32        │\n",
       "╞════════════╪════════════╪════════════╪═════════╪═══╪════════════╪══════╪════════════╪════════════╡\n",
       "│ 3430915    ┆ 2024-06-01 ┆ 0          ┆ -1      ┆ … ┆ Saturday   ┆ 2    ┆ Late Night ┆ 1          │\n",
       "│            ┆ 02:00:00.3 ┆            ┆         ┆   ┆            ┆      ┆            ┆            │\n",
       "│            ┆ 99         ┆            ┆         ┆   ┆            ┆      ┆            ┆            │\n",
       "│ 3859571    ┆ 2024-06-01 ┆ 0          ┆ -1      ┆ … ┆ Saturday   ┆ 2    ┆ Late Night ┆ 1          │\n",
       "│            ┆ 02:00:00.8 ┆            ┆         ┆   ┆            ┆      ┆            ┆            │\n",
       "│            ┆ 29         ┆            ┆         ┆   ┆            ┆      ┆            ┆            │\n",
       "│ 2706260    ┆ 2024-06-01 ┆ 0          ┆ -1      ┆ … ┆ Saturday   ┆ 2    ┆ Late Night ┆ 1          │\n",
       "│            ┆ 02:00:01.9 ┆            ┆         ┆   ┆            ┆      ┆            ┆            │\n",
       "│            ┆ 85         ┆            ┆         ┆   ┆            ┆      ┆            ┆            │\n",
       "│ 3686634    ┆ 2024-06-01 ┆ 0          ┆ -1      ┆ … ┆ Saturday   ┆ 2    ┆ Late Night ┆ 1          │\n",
       "│            ┆ 02:00:03.8 ┆            ┆         ┆   ┆            ┆      ┆            ┆            │\n",
       "│            ┆ 28         ┆            ┆         ┆   ┆            ┆      ┆            ┆            │\n",
       "│ 4175670    ┆ 2024-06-01 ┆ 0          ┆ -1      ┆ … ┆ Saturday   ┆ 2    ┆ Late Night ┆ 1          │\n",
       "│            ┆ 02:00:09.2 ┆            ┆         ┆   ┆            ┆      ┆            ┆            │\n",
       "│            ┆ 82         ┆            ┆         ┆   ┆            ┆      ┆            ┆            │\n",
       "└────────────┴────────────┴────────────┴─────────┴───┴────────────┴──────┴────────────┴────────────┘"
      ]
     },
     "execution_count": 114,
     "metadata": {},
     "output_type": "execute_result"
    }
   ],
   "source": [
    "train_eng.head()"
   ]
  },
  {
   "cell_type": "code",
   "execution_count": 115,
   "metadata": {},
   "outputs": [
    {
     "data": {
      "text/html": [
       "<div><style>\n",
       ".dataframe > thead > tr,\n",
       ".dataframe > tbody > tr {\n",
       "  text-align: right;\n",
       "  white-space: pre-wrap;\n",
       "}\n",
       "</style>\n",
       "<small>shape: (5, 16)</small><table border=\"1\" class=\"dataframe\"><thead><tr><th>session_id</th><th>timestamp_local</th><th>user_id</th><th>country</th><th>partnumber</th><th>device_type</th><th>pagetype</th><th>seconds_since_last_interaction</th><th>total_session_time</th><th>interaction_length</th><th>day_number</th><th>weekday_number</th><th>weekday_name</th><th>hour</th><th>day_frame</th><th>product_interaction_count</th></tr><tr><td>u32</td><td>datetime[μs]</td><td>i32</td><td>u8</td><td>u16</td><td>u8</td><td>u8</td><td>f32</td><td>f32</td><td>f32</td><td>i8</td><td>i8</td><td>cat</td><td>i8</td><td>cat</td><td>u32</td></tr></thead><tbody><tr><td>746</td><td>2024-06-15 18:39:15.605</td><td>-1</td><td>57</td><td>23647</td><td>1</td><td>24</td><td>21.173571</td><td>148.215012</td><td>21.173571</td><td>15</td><td>6</td><td>&quot;Saturday&quot;</td><td>18</td><td>&quot;Night&quot;</td><td>1</td></tr><tr><td>746</td><td>2024-06-15 18:39:15.605</td><td>-1</td><td>57</td><td>27789</td><td>1</td><td>24</td><td>21.173571</td><td>148.215012</td><td>21.173571</td><td>15</td><td>6</td><td>&quot;Saturday&quot;</td><td>18</td><td>&quot;Night&quot;</td><td>1</td></tr><tr><td>746</td><td>2024-06-15 18:39:15.605</td><td>-1</td><td>57</td><td>33777</td><td>1</td><td>24</td><td>21.173571</td><td>148.215012</td><td>21.173571</td><td>15</td><td>6</td><td>&quot;Saturday&quot;</td><td>18</td><td>&quot;Night&quot;</td><td>1</td></tr><tr><td>746</td><td>2024-06-15 18:39:15.605</td><td>-1</td><td>57</td><td>11031</td><td>1</td><td>24</td><td>21.173571</td><td>148.215012</td><td>21.173571</td><td>15</td><td>6</td><td>&quot;Saturday&quot;</td><td>18</td><td>&quot;Night&quot;</td><td>1</td></tr><tr><td>746</td><td>2024-06-15 18:39:15.605</td><td>-1</td><td>57</td><td>41749</td><td>1</td><td>24</td><td>21.173571</td><td>148.215012</td><td>21.173571</td><td>15</td><td>6</td><td>&quot;Saturday&quot;</td><td>18</td><td>&quot;Night&quot;</td><td>1</td></tr></tbody></table></div>"
      ],
      "text/plain": [
       "shape: (5, 16)\n",
       "┌────────────┬──────────────┬─────────┬─────────┬───┬─────────────┬──────┬───────────┬─────────────┐\n",
       "│ session_id ┆ timestamp_lo ┆ user_id ┆ country ┆ … ┆ weekday_nam ┆ hour ┆ day_frame ┆ product_int │\n",
       "│ ---        ┆ cal          ┆ ---     ┆ ---     ┆   ┆ e           ┆ ---  ┆ ---       ┆ eraction_co │\n",
       "│ u32        ┆ ---          ┆ i32     ┆ u8      ┆   ┆ ---         ┆ i8   ┆ cat       ┆ unt         │\n",
       "│            ┆ datetime[μs] ┆         ┆         ┆   ┆ cat         ┆      ┆           ┆ ---         │\n",
       "│            ┆              ┆         ┆         ┆   ┆             ┆      ┆           ┆ u32         │\n",
       "╞════════════╪══════════════╪═════════╪═════════╪═══╪═════════════╪══════╪═══════════╪═════════════╡\n",
       "│ 746        ┆ 2024-06-15   ┆ -1      ┆ 57      ┆ … ┆ Saturday    ┆ 18   ┆ Night     ┆ 1           │\n",
       "│            ┆ 18:39:15.605 ┆         ┆         ┆   ┆             ┆      ┆           ┆             │\n",
       "│ 746        ┆ 2024-06-15   ┆ -1      ┆ 57      ┆ … ┆ Saturday    ┆ 18   ┆ Night     ┆ 1           │\n",
       "│            ┆ 18:39:15.605 ┆         ┆         ┆   ┆             ┆      ┆           ┆             │\n",
       "│ 746        ┆ 2024-06-15   ┆ -1      ┆ 57      ┆ … ┆ Saturday    ┆ 18   ┆ Night     ┆ 1           │\n",
       "│            ┆ 18:39:15.605 ┆         ┆         ┆   ┆             ┆      ┆           ┆             │\n",
       "│ 746        ┆ 2024-06-15   ┆ -1      ┆ 57      ┆ … ┆ Saturday    ┆ 18   ┆ Night     ┆ 1           │\n",
       "│            ┆ 18:39:15.605 ┆         ┆         ┆   ┆             ┆      ┆           ┆             │\n",
       "│ 746        ┆ 2024-06-15   ┆ -1      ┆ 57      ┆ … ┆ Saturday    ┆ 18   ┆ Night     ┆ 1           │\n",
       "│            ┆ 18:39:15.605 ┆         ┆         ┆   ┆             ┆      ┆           ┆             │\n",
       "└────────────┴──────────────┴─────────┴─────────┴───┴─────────────┴──────┴───────────┴─────────────┘"
      ]
     },
     "execution_count": 115,
     "metadata": {},
     "output_type": "execute_result"
    }
   ],
   "source": [
    "test_extended.head()"
   ]
  }
 ],
 "metadata": {
  "kernelspec": {
   "display_name": ".venv",
   "language": "python",
   "name": "python3"
  },
  "language_info": {
   "codemirror_mode": {
    "name": "ipython",
    "version": 3
   },
   "file_extension": ".py",
   "mimetype": "text/x-python",
   "name": "python",
   "nbconvert_exporter": "python",
   "pygments_lexer": "ipython3",
   "version": "3.12.4"
  }
 },
 "nbformat": 4,
 "nbformat_minor": 2
}
