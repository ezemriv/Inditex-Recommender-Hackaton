{
 "cells": [
  {
   "cell_type": "markdown",
   "metadata": {},
   "source": [
    "# Imports and paths"
   ]
  },
  {
   "cell_type": "code",
   "execution_count": 1,
   "metadata": {},
   "outputs": [],
   "source": [
    "import os\n",
    "import sys\n",
    "\n",
    "# root path\n",
    "ROOT = os.path.abspath(os.path.join(os.getcwd(), '..'))\n",
    "\n",
    "# Add the project root to the Python path\n",
    "if ROOT not in sys.path:\n",
    "    sys.path.append(ROOT)\n",
    "\n",
    "import polars as pl\n",
    "import pandas as pd\n",
    "import numpy as np"
   ]
  },
  {
   "cell_type": "code",
   "execution_count": 2,
   "metadata": {},
   "outputs": [],
   "source": [
    "from config import TRAIN_PARQUET_PATH, TEST_PARQUET_PATH, PRODUCTS_PARQUET_PATH, USERS_DATA_PATH\n",
    "from src.data.loaders import PolarsLoader\n",
    "\n",
    "loader = PolarsLoader(sampling=False, file_type='parquet')"
   ]
  },
  {
   "cell_type": "markdown",
   "metadata": {},
   "source": [
    "## Products"
   ]
  },
  {
   "cell_type": "code",
   "execution_count": 8,
   "metadata": {},
   "outputs": [
    {
     "name": "stdout",
     "output_type": "stream",
     "text": [
      "(43692, 6)\n",
      "shape: (5, 6)\n",
      "┌──────────┬─────────────────────────────────┬────────────┬──────────┬─────────────┬────────┐\n",
      "│ discount ┆ embedding                       ┆ partnumber ┆ color_id ┆ cod_section ┆ family │\n",
      "│ ---      ┆ ---                             ┆ ---        ┆ ---      ┆ ---         ┆ ---    │\n",
      "│ u8       ┆ list[f32]                       ┆ u16        ┆ u16      ┆ u8          ┆ u16    │\n",
      "╞══════════╪═════════════════════════════════╪════════════╪══════════╪═════════════╪════════╡\n",
      "│ 0        ┆ [-0.134014, -0.120043, … -0.08… ┆ 32776      ┆ 85       ┆ 4           ┆ 73     │\n",
      "│ 0        ┆ [-0.094927, -0.107294, … -0.04… ┆ 41431      ┆ 135      ┆ 4           ┆ 73     │\n",
      "│ 0        ┆ [-0.129044, -0.077246, … 0.002… ┆ 39419      ┆ 339      ┆ 4           ┆ 73     │\n",
      "│ 1        ┆ [-0.127833, -0.133868, … -0.09… ┆ 36087      ┆ 135      ┆ 4           ┆ 73     │\n",
      "│ 1        ┆ [-0.140929, -0.125828, … -0.04… ┆ 34132      ┆ 3        ┆ 4           ┆ 73     │\n",
      "└──────────┴─────────────────────────────────┴────────────┴──────────┴─────────────┴────────┘\n",
      "shape: (1, 6)\n",
      "┌──────────┬───────────┬────────────┬──────────┬─────────────┬────────┐\n",
      "│ discount ┆ embedding ┆ partnumber ┆ color_id ┆ cod_section ┆ family │\n",
      "│ ---      ┆ ---       ┆ ---        ┆ ---      ┆ ---         ┆ ---    │\n",
      "│ u32      ┆ u32       ┆ u32        ┆ u32      ┆ u32         ┆ u32    │\n",
      "╞══════════╪═══════════╪════════════╪══════════╪═════════════╪════════╡\n",
      "│ 0        ┆ 6170      ┆ 0          ┆ 0        ┆ 90          ┆ 0      │\n",
      "└──────────┴───────────┴────────────┴──────────┴─────────────┴────────┘\n"
     ]
    }
   ],
   "source": [
    "prods = pl.read_parquet(PRODUCTS_PARQUET_PATH, low_memory=True)\n",
    "print(prods.shape)\n",
    "print(prods.head())\n",
    "print(prods.null_count())"
   ]
  },
  {
   "cell_type": "code",
   "execution_count": 9,
   "metadata": {},
   "outputs": [
    {
     "data": {
      "text/plain": [
       "43692"
      ]
     },
     "execution_count": 9,
     "metadata": {},
     "output_type": "execute_result"
    }
   ],
   "source": [
    "prods['partnumber'].n_unique()"
   ]
  },
  {
   "cell_type": "markdown",
   "metadata": {},
   "source": [
    "### Null imputation"
   ]
  },
  {
   "cell_type": "markdown",
   "metadata": {},
   "source": [
    "**Family mean (embedding)**"
   ]
  },
  {
   "cell_type": "code",
   "execution_count": 309,
   "metadata": {},
   "outputs": [],
   "source": [
    "from typing import List\n",
    "# # Helper function to calculate mean embedding for a group\n",
    "def calc_mean_embedding(embeddings: List[np.ndarray]) -> np.ndarray:\n",
    "    valid_embeddings = [e for e in embeddings if e is not None and len(e) > 0]\n",
    "    return np.mean(valid_embeddings, axis=0) if valid_embeddings else np.nan\n",
    "\n",
    "# Calculate family mean embeddings\n",
    "family_means = (\n",
    "    prods\n",
    "    .group_by('family')\n",
    "    .agg(pl.col('embedding'))\n",
    "    .with_columns(\n",
    "        mean_embedding=pl.col('embedding').map_elements(calc_mean_embedding, return_dtype=pl.List(pl.Float32))\n",
    "    )\n",
    ")"
   ]
  },
  {
   "cell_type": "code",
   "execution_count": 310,
   "metadata": {},
   "outputs": [
    {
     "data": {
      "text/html": [
       "<div><style>\n",
       ".dataframe > thead > tr,\n",
       ".dataframe > tbody > tr {\n",
       "  text-align: right;\n",
       "  white-space: pre-wrap;\n",
       "}\n",
       "</style>\n",
       "<small>shape: (1, 7)</small><table border=\"1\" class=\"dataframe\"><thead><tr><th>discount</th><th>embedding</th><th>partnumber</th><th>color_id</th><th>cod_section</th><th>family</th><th>mean_embedding</th></tr><tr><td>u32</td><td>u32</td><td>u32</td><td>u32</td><td>u32</td><td>u32</td><td>u32</td></tr></thead><tbody><tr><td>0</td><td>8</td><td>0</td><td>0</td><td>90</td><td>0</td><td>8</td></tr></tbody></table></div>"
      ],
      "text/plain": [
       "shape: (1, 7)\n",
       "┌──────────┬───────────┬────────────┬──────────┬─────────────┬────────┬────────────────┐\n",
       "│ discount ┆ embedding ┆ partnumber ┆ color_id ┆ cod_section ┆ family ┆ mean_embedding │\n",
       "│ ---      ┆ ---       ┆ ---        ┆ ---      ┆ ---         ┆ ---    ┆ ---            │\n",
       "│ u32      ┆ u32       ┆ u32        ┆ u32      ┆ u32         ┆ u32    ┆ u32            │\n",
       "╞══════════╪═══════════╪════════════╪══════════╪═════════════╪════════╪════════════════╡\n",
       "│ 0        ┆ 8         ┆ 0          ┆ 0        ┆ 90          ┆ 0      ┆ 8              │\n",
       "└──────────┴───────────┴────────────┴──────────┴─────────────┴────────┴────────────────┘"
      ]
     },
     "execution_count": 310,
     "metadata": {},
     "output_type": "execute_result"
    }
   ],
   "source": [
    "prods = prods.join(family_means.select(['family', 'mean_embedding']), on='family', how='left')\n",
    "prods = prods.with_columns([\n",
    "    pl.when(pl.col('embedding').is_null())\n",
    "        .then(pl.col('mean_embedding'))\n",
    "        .otherwise(pl.col('embedding'))\n",
    "        .alias('embedding')\n",
    "])\n",
    "prods.null_count()"
   ]
  },
  {
   "cell_type": "markdown",
   "metadata": {},
   "source": [
    "**Overall mean (embedding)**"
   ]
  },
  {
   "cell_type": "code",
   "execution_count": 311,
   "metadata": {},
   "outputs": [
    {
     "data": {
      "text/plain": [
       "array([-0.0838317 ,  0.16371717, -0.10474381, ...,  0.15199807,\n",
       "        0.00643364,  0.04516459], shape=(1280,), dtype=float32)"
      ]
     },
     "execution_count": 311,
     "metadata": {},
     "output_type": "execute_result"
    }
   ],
   "source": [
    "# Calculate family mean embeddings\n",
    "overall_mean = calc_mean_embedding(prods['embedding'])\n",
    "overall_mean"
   ]
  },
  {
   "cell_type": "code",
   "execution_count": 312,
   "metadata": {},
   "outputs": [
    {
     "data": {
      "text/html": [
       "<div><style>\n",
       ".dataframe > thead > tr,\n",
       ".dataframe > tbody > tr {\n",
       "  text-align: right;\n",
       "  white-space: pre-wrap;\n",
       "}\n",
       "</style>\n",
       "<small>shape: (1, 6)</small><table border=\"1\" class=\"dataframe\"><thead><tr><th>discount</th><th>embedding</th><th>partnumber</th><th>color_id</th><th>cod_section</th><th>family</th></tr><tr><td>u32</td><td>u32</td><td>u32</td><td>u32</td><td>u32</td><td>u32</td></tr></thead><tbody><tr><td>0</td><td>0</td><td>0</td><td>0</td><td>90</td><td>0</td></tr></tbody></table></div>"
      ],
      "text/plain": [
       "shape: (1, 6)\n",
       "┌──────────┬───────────┬────────────┬──────────┬─────────────┬────────┐\n",
       "│ discount ┆ embedding ┆ partnumber ┆ color_id ┆ cod_section ┆ family │\n",
       "│ ---      ┆ ---       ┆ ---        ┆ ---      ┆ ---         ┆ ---    │\n",
       "│ u32      ┆ u32       ┆ u32        ┆ u32      ┆ u32         ┆ u32    │\n",
       "╞══════════╪═══════════╪════════════╪══════════╪═════════════╪════════╡\n",
       "│ 0        ┆ 0         ┆ 0          ┆ 0        ┆ 90          ┆ 0      │\n",
       "└──────────┴───────────┴────────────┴──────────┴─────────────┴────────┘"
      ]
     },
     "execution_count": 312,
     "metadata": {},
     "output_type": "execute_result"
    }
   ],
   "source": [
    "prods = prods.with_columns([\n",
    "    pl.when(pl.col(\"embedding\").is_null())\n",
    "        .then(pl.lit(pl.Series([overall_mean])))  # Convert numpy array to Polars Series\n",
    "        .otherwise(pl.col('embedding'))\n",
    "        .alias('embedding')\n",
    "]).drop('mean_embedding')\n",
    "prods.null_count()"
   ]
  },
  {
   "cell_type": "code",
   "execution_count": 313,
   "metadata": {},
   "outputs": [],
   "source": [
    "# # Inspect lengths of embeddings\n",
    "# prods_imputed = prods.to_pandas()\n",
    "# embedding_lengths = prods_imputed['embedding'].apply(lambda x: len(x) if x is not None else None)\n",
    "\n",
    "# # Check for unique lengths\n",
    "# print(embedding_lengths.unique())  # Should ideally show one value, e.g., [1280]\n",
    "\n",
    "# # Find problematic rows (if any)\n",
    "# problematic_rows = prods_imputed[embedding_lengths != 1280]\n",
    "# print(problematic_rows)"
   ]
  },
  {
   "cell_type": "markdown",
   "metadata": {},
   "source": [
    "**cod_section**"
   ]
  },
  {
   "cell_type": "code",
   "execution_count": 314,
   "metadata": {},
   "outputs": [],
   "source": [
    "def fill_section_mode(products):\n",
    "    # Calculate mode by family\n",
    "    family_modes = (\n",
    "        products.group_by('family')\n",
    "        .agg(\n",
    "            mode_section=pl.col('cod_section').cast(pl.String).mode().first()\n",
    "        )\n",
    "    )\n",
    "\n",
    "    # Join back to fill nulls\n",
    "    result = products.join(\n",
    "        family_modes,\n",
    "        on='family',\n",
    "        how='left'\n",
    "    ).with_columns(\n",
    "        cod_section=pl.col('cod_section').fill_null(pl.col('mode_section').cast(pl.UInt8))\n",
    "    ).drop('mode_section')\n",
    "\n",
    "    return result"
   ]
  },
  {
   "cell_type": "code",
   "execution_count": 315,
   "metadata": {},
   "outputs": [
    {
     "data": {
      "text/html": [
       "<div><style>\n",
       ".dataframe > thead > tr,\n",
       ".dataframe > tbody > tr {\n",
       "  text-align: right;\n",
       "  white-space: pre-wrap;\n",
       "}\n",
       "</style>\n",
       "<small>shape: (1, 6)</small><table border=\"1\" class=\"dataframe\"><thead><tr><th>discount</th><th>embedding</th><th>partnumber</th><th>color_id</th><th>cod_section</th><th>family</th></tr><tr><td>u32</td><td>u32</td><td>u32</td><td>u32</td><td>u32</td><td>u32</td></tr></thead><tbody><tr><td>0</td><td>0</td><td>0</td><td>0</td><td>0</td><td>0</td></tr></tbody></table></div>"
      ],
      "text/plain": [
       "shape: (1, 6)\n",
       "┌──────────┬───────────┬────────────┬──────────┬─────────────┬────────┐\n",
       "│ discount ┆ embedding ┆ partnumber ┆ color_id ┆ cod_section ┆ family │\n",
       "│ ---      ┆ ---       ┆ ---        ┆ ---      ┆ ---         ┆ ---    │\n",
       "│ u32      ┆ u32       ┆ u32        ┆ u32      ┆ u32         ┆ u32    │\n",
       "╞══════════╪═══════════╪════════════╪══════════╪═════════════╪════════╡\n",
       "│ 0        ┆ 0         ┆ 0          ┆ 0        ┆ 0           ┆ 0      │\n",
       "└──────────┴───────────┴────────────┴──────────┴─────────────┴────────┘"
      ]
     },
     "execution_count": 315,
     "metadata": {},
     "output_type": "execute_result"
    }
   ],
   "source": [
    "prods = fill_section_mode(prods)\n",
    "prods.null_count()"
   ]
  },
  {
   "cell_type": "markdown",
   "metadata": {},
   "source": [
    "### PCA embeddings"
   ]
  },
  {
   "cell_type": "code",
   "execution_count": 317,
   "metadata": {},
   "outputs": [],
   "source": [
    "prods_imputed = prods.clone()"
   ]
  },
  {
   "cell_type": "code",
   "execution_count": 322,
   "metadata": {},
   "outputs": [
    {
     "data": {
      "image/png": "[encoded data removed]",
      "text/plain": [
       "<Figure size 800x500 with 1 Axes>"
      ]
     },
     "metadata": {},
     "output_type": "display_data"
    },
    {
     "name": "stdout",
     "output_type": "stream",
     "text": [
      "Number of components to retain 95% variance: 1\n"
     ]
    }
   ],
   "source": [
    "from sklearn.decomposition import PCA\n",
    "from sklearn.preprocessing import normalize\n",
    "import numpy as np\n",
    "import matplotlib.pyplot as plt\n",
    "\n",
    "# Assuming 'products['embedding']' contains the embeddings as lists of floats\n",
    "embeddings = np.stack(prods_imputed['embedding'].to_numpy())\n",
    "\n",
    "# Normalize embeddings to ensure consistency\n",
    "normalized_embeddings = normalize(embeddings)\n",
    "\n",
    "# Apply PCA\n",
    "pca = PCA(n_components=100)\n",
    "pca.fit(normalized_embeddings)\n",
    "\n",
    "# Explained variance ratio\n",
    "explained_variance = np.cumsum(pca.explained_variance_ratio_)\n",
    "\n",
    "# Plot cumulative explained variance\n",
    "plt.figure(figsize=(8, 5))\n",
    "plt.plot(range(1, len(explained_variance) + 1), explained_variance, marker='o', linestyle='--')\n",
    "plt.xlabel('Number of Principal Components')\n",
    "plt.ylabel('Cumulative Explained Variance')\n",
    "plt.title('Explained Variance vs Number of Components')\n",
    "plt.grid()\n",
    "plt.show()\n",
    "\n",
    "# Determine the number of components for 95% variance\n",
    "n_components = np.argmax(explained_variance >= 0.95) + 1\n",
    "print(f\"Number of components to retain 95% variance: {n_components}\")"
   ]
  },
  {
   "cell_type": "markdown",
   "metadata": {},
   "source": [
    "## Train and test processing"
   ]
  },
  {
   "cell_type": "code",
   "execution_count": 3,
   "metadata": {},
   "outputs": [
    {
     "data": {
      "text/html": [
       "<div><style>\n",
       ".dataframe > thead > tr,\n",
       ".dataframe > tbody > tr {\n",
       "  text-align: right;\n",
       "  white-space: pre-wrap;\n",
       "}\n",
       "</style>\n",
       "<small>shape: (5, 9)</small><table border=\"1\" class=\"dataframe\"><thead><tr><th>session_id</th><th>date</th><th>timestamp_local</th><th>add_to_cart</th><th>user_id</th><th>country</th><th>partnumber</th><th>device_type</th><th>pagetype</th></tr><tr><td>u32</td><td>date</td><td>datetime[μs]</td><td>u8</td><td>u32</td><td>u8</td><td>u16</td><td>u8</td><td>u8</td></tr></thead><tbody><tr><td>64</td><td>2024-06-06</td><td>2024-06-06 16:43:17.389</td><td>0</td><td>null</td><td>29</td><td>14327</td><td>1</td><td>24</td></tr><tr><td>117</td><td>2024-06-08</td><td>2024-06-08 15:11:02.782</td><td>0</td><td>null</td><td>57</td><td>38422</td><td>1</td><td>24</td></tr><tr><td>117</td><td>2024-06-08</td><td>2024-06-08 15:11:44.797</td><td>0</td><td>null</td><td>57</td><td>19763</td><td>1</td><td>24</td></tr><tr><td>579</td><td>2024-06-05</td><td>2024-06-05 19:24:48.397</td><td>0</td><td>null</td><td>29</td><td>30253</td><td>1</td><td>24</td></tr><tr><td>1220</td><td>2024-06-04</td><td>2024-06-04 08:21:13.476</td><td>0</td><td>480729</td><td>25</td><td>1592</td><td>1</td><td>24</td></tr></tbody></table></div>"
      ],
      "text/plain": [
       "shape: (5, 9)\n",
       "┌────────────┬────────────┬───────────┬───────────┬───┬─────────┬───────────┬───────────┬──────────┐\n",
       "│ session_id ┆ date       ┆ timestamp ┆ add_to_ca ┆ … ┆ country ┆ partnumbe ┆ device_ty ┆ pagetype │\n",
       "│ ---        ┆ ---        ┆ _local    ┆ rt        ┆   ┆ ---     ┆ r         ┆ pe        ┆ ---      │\n",
       "│ u32        ┆ date       ┆ ---       ┆ ---       ┆   ┆ u8      ┆ ---       ┆ ---       ┆ u8       │\n",
       "│            ┆            ┆ datetime[ ┆ u8        ┆   ┆         ┆ u16       ┆ u8        ┆          │\n",
       "│            ┆            ┆ μs]       ┆           ┆   ┆         ┆           ┆           ┆          │\n",
       "╞════════════╪════════════╪═══════════╪═══════════╪═══╪═════════╪═══════════╪═══════════╪══════════╡\n",
       "│ 64         ┆ 2024-06-06 ┆ 2024-06-0 ┆ 0         ┆ … ┆ 29      ┆ 14327     ┆ 1         ┆ 24       │\n",
       "│            ┆            ┆ 6 16:43:1 ┆           ┆   ┆         ┆           ┆           ┆          │\n",
       "│            ┆            ┆ 7.389     ┆           ┆   ┆         ┆           ┆           ┆          │\n",
       "│ 117        ┆ 2024-06-08 ┆ 2024-06-0 ┆ 0         ┆ … ┆ 57      ┆ 38422     ┆ 1         ┆ 24       │\n",
       "│            ┆            ┆ 8 15:11:0 ┆           ┆   ┆         ┆           ┆           ┆          │\n",
       "│            ┆            ┆ 2.782     ┆           ┆   ┆         ┆           ┆           ┆          │\n",
       "│ 117        ┆ 2024-06-08 ┆ 2024-06-0 ┆ 0         ┆ … ┆ 57      ┆ 19763     ┆ 1         ┆ 24       │\n",
       "│            ┆            ┆ 8 15:11:4 ┆           ┆   ┆         ┆           ┆           ┆          │\n",
       "│            ┆            ┆ 4.797     ┆           ┆   ┆         ┆           ┆           ┆          │\n",
       "│ 579        ┆ 2024-06-05 ┆ 2024-06-0 ┆ 0         ┆ … ┆ 29      ┆ 30253     ┆ 1         ┆ 24       │\n",
       "│            ┆            ┆ 5 19:24:4 ┆           ┆   ┆         ┆           ┆           ┆          │\n",
       "│            ┆            ┆ 8.397     ┆           ┆   ┆         ┆           ┆           ┆          │\n",
       "│ 1220       ┆ 2024-06-04 ┆ 2024-06-0 ┆ 0         ┆ … ┆ 25      ┆ 1592      ┆ 1         ┆ 24       │\n",
       "│            ┆            ┆ 4 08:21:1 ┆           ┆   ┆         ┆           ┆           ┆          │\n",
       "│            ┆            ┆ 3.476     ┆           ┆   ┆         ┆           ┆           ┆          │\n",
       "└────────────┴────────────┴───────────┴───────────┴───┴─────────┴───────────┴───────────┴──────────┘"
      ]
     },
     "execution_count": 3,
     "metadata": {},
     "output_type": "execute_result"
    }
   ],
   "source": [
    "train = loader.load_data(path=TRAIN_PARQUET_PATH)\n",
    "test = loader.load_data(path=TEST_PARQUET_PATH)\n",
    "train.head()"
   ]
  },
  {
   "cell_type": "code",
   "execution_count": 22,
   "metadata": {},
   "outputs": [
    {
     "name": "stdout",
     "output_type": "stream",
     "text": [
      "Unique session IDs\n",
      "4573756\n"
     ]
    }
   ],
   "source": [
    "print(\"Unique session IDs\")\n",
    "print(train['session_id'].n_unique())"
   ]
  },
  {
   "cell_type": "code",
   "execution_count": 6,
   "metadata": {},
   "outputs": [
    {
     "data": {
      "text/html": [
       "<div><style>\n",
       ".dataframe > thead > tr,\n",
       ".dataframe > tbody > tr {\n",
       "  text-align: right;\n",
       "  white-space: pre-wrap;\n",
       "}\n",
       "</style>\n",
       "<small>shape: (1, 8)</small><table border=\"1\" class=\"dataframe\"><thead><tr><th>session_id</th><th>date</th><th>timestamp_local</th><th>user_id</th><th>country</th><th>partnumber</th><th>device_type</th><th>pagetype</th></tr><tr><td>u32</td><td>u32</td><td>u32</td><td>u32</td><td>u32</td><td>u32</td><td>u32</td><td>u32</td></tr></thead><tbody><tr><td>0</td><td>0</td><td>0</td><td>23509</td><td>0</td><td>0</td><td>0</td><td>0</td></tr></tbody></table></div>"
      ],
      "text/plain": [
       "shape: (1, 8)\n",
       "┌────────────┬──────┬─────────────────┬─────────┬─────────┬────────────┬─────────────┬──────────┐\n",
       "│ session_id ┆ date ┆ timestamp_local ┆ user_id ┆ country ┆ partnumber ┆ device_type ┆ pagetype │\n",
       "│ ---        ┆ ---  ┆ ---             ┆ ---     ┆ ---     ┆ ---        ┆ ---         ┆ ---      │\n",
       "│ u32        ┆ u32  ┆ u32             ┆ u32     ┆ u32     ┆ u32        ┆ u32         ┆ u32      │\n",
       "╞════════════╪══════╪═════════════════╪═════════╪═════════╪════════════╪═════════════╪══════════╡\n",
       "│ 0          ┆ 0    ┆ 0               ┆ 23509   ┆ 0       ┆ 0          ┆ 0           ┆ 0        │\n",
       "└────────────┴──────┴─────────────────┴─────────┴─────────┴────────────┴─────────────┴──────────┘"
      ]
     },
     "execution_count": 6,
     "metadata": {},
     "output_type": "execute_result"
    }
   ],
   "source": [
    "test.null_count()"
   ]
  },
  {
   "cell_type": "code",
   "execution_count": 7,
   "metadata": {},
   "outputs": [
    {
     "name": "stdout",
     "output_type": "stream",
     "text": [
      "(46551445, 9) (29275, 8)\n"
     ]
    }
   ],
   "source": [
    "print(train.shape, test.shape)"
   ]
  },
  {
   "cell_type": "code",
   "execution_count": 16,
   "metadata": {},
   "outputs": [
    {
     "data": {
      "text/html": [
       "<div><style>\n",
       ".dataframe > thead > tr,\n",
       ".dataframe > tbody > tr {\n",
       "  text-align: right;\n",
       "  white-space: pre-wrap;\n",
       "}\n",
       "</style>\n",
       "<small>shape: (1, 9)</small><table border=\"1\" class=\"dataframe\"><thead><tr><th>session_id</th><th>date</th><th>timestamp_local</th><th>add_to_cart</th><th>user_id</th><th>country</th><th>partnumber</th><th>device_type</th><th>pagetype</th></tr><tr><td>u32</td><td>u32</td><td>u32</td><td>u32</td><td>u32</td><td>u32</td><td>u32</td><td>u32</td><td>u32</td></tr></thead><tbody><tr><td>0</td><td>0</td><td>0</td><td>0</td><td>39694715</td><td>0</td><td>0</td><td>0</td><td>1197</td></tr></tbody></table></div>"
      ],
      "text/plain": [
       "shape: (1, 9)\n",
       "┌────────────┬──────┬─────────────┬─────────────┬───┬─────────┬────────────┬────────────┬──────────┐\n",
       "│ session_id ┆ date ┆ timestamp_l ┆ add_to_cart ┆ … ┆ country ┆ partnumber ┆ device_typ ┆ pagetype │\n",
       "│ ---        ┆ ---  ┆ ocal        ┆ ---         ┆   ┆ ---     ┆ ---        ┆ e          ┆ ---      │\n",
       "│ u32        ┆ u32  ┆ ---         ┆ u32         ┆   ┆ u32     ┆ u32        ┆ ---        ┆ u32      │\n",
       "│            ┆      ┆ u32         ┆             ┆   ┆         ┆            ┆ u32        ┆          │\n",
       "╞════════════╪══════╪═════════════╪═════════════╪═══╪═════════╪════════════╪════════════╪══════════╡\n",
       "│ 0          ┆ 0    ┆ 0           ┆ 0           ┆ … ┆ 0       ┆ 0          ┆ 0          ┆ 1197     │\n",
       "└────────────┴──────┴─────────────┴─────────────┴───┴─────────┴────────────┴────────────┴──────────┘"
      ]
     },
     "execution_count": 16,
     "metadata": {},
     "output_type": "execute_result"
    }
   ],
   "source": [
    "train.null_count()"
   ]
  },
  {
   "cell_type": "code",
   "execution_count": 23,
   "metadata": {},
   "outputs": [
    {
     "data": {
      "text/html": [
       "<div><style>\n",
       ".dataframe > thead > tr,\n",
       ".dataframe > tbody > tr {\n",
       "  text-align: right;\n",
       "  white-space: pre-wrap;\n",
       "}\n",
       "</style>\n",
       "<small>shape: (17, 9)</small><table border=\"1\" class=\"dataframe\"><thead><tr><th>session_id</th><th>date</th><th>timestamp_local</th><th>add_to_cart</th><th>user_id</th><th>country</th><th>partnumber</th><th>device_type</th><th>pagetype</th></tr><tr><td>u32</td><td>date</td><td>datetime[μs]</td><td>u8</td><td>u32</td><td>u8</td><td>u16</td><td>u8</td><td>u8</td></tr></thead><tbody><tr><td>2076921</td><td>2024-06-11</td><td>2024-06-11 23:47:51.411</td><td>0</td><td>null</td><td>29</td><td>37857</td><td>3</td><td>24</td></tr><tr><td>2076921</td><td>2024-06-11</td><td>2024-06-11 23:48:18.931</td><td>0</td><td>null</td><td>29</td><td>34242</td><td>3</td><td>24</td></tr><tr><td>2076921</td><td>2024-06-11</td><td>2024-06-11 23:48:21.063</td><td>0</td><td>null</td><td>29</td><td>5785</td><td>3</td><td>24</td></tr><tr><td>2076921</td><td>2024-06-11</td><td>2024-06-11 23:48:24.248</td><td>0</td><td>null</td><td>29</td><td>34242</td><td>3</td><td>24</td></tr><tr><td>2076921</td><td>2024-06-11</td><td>2024-06-11 23:48:25.571</td><td>0</td><td>null</td><td>29</td><td>29424</td><td>3</td><td>24</td></tr><tr><td>&hellip;</td><td>&hellip;</td><td>&hellip;</td><td>&hellip;</td><td>&hellip;</td><td>&hellip;</td><td>&hellip;</td><td>&hellip;</td><td>&hellip;</td></tr><tr><td>2076921</td><td>2024-06-11</td><td>2024-06-11 23:50:52.886</td><td>0</td><td>null</td><td>29</td><td>3076</td><td>3</td><td>24</td></tr><tr><td>2076921</td><td>2024-06-11</td><td>2024-06-11 23:51:04.643</td><td>0</td><td>null</td><td>29</td><td>12641</td><td>3</td><td>24</td></tr><tr><td>2076921</td><td>2024-06-11</td><td>2024-06-11 23:51:10.625</td><td>1</td><td>null</td><td>29</td><td>3076</td><td>3</td><td>24</td></tr><tr><td>2076921</td><td>2024-06-11</td><td>2024-06-11 23:53:51.955</td><td>0</td><td>null</td><td>29</td><td>28617</td><td>3</td><td>24</td></tr><tr><td>2076921</td><td>2024-06-11</td><td>2024-06-11 23:56:29.289</td><td>0</td><td>null</td><td>29</td><td>3076</td><td>3</td><td>24</td></tr></tbody></table></div>"
      ],
      "text/plain": [
       "shape: (17, 9)\n",
       "┌────────────┬────────────┬───────────┬───────────┬───┬─────────┬───────────┬───────────┬──────────┐\n",
       "│ session_id ┆ date       ┆ timestamp ┆ add_to_ca ┆ … ┆ country ┆ partnumbe ┆ device_ty ┆ pagetype │\n",
       "│ ---        ┆ ---        ┆ _local    ┆ rt        ┆   ┆ ---     ┆ r         ┆ pe        ┆ ---      │\n",
       "│ u32        ┆ date       ┆ ---       ┆ ---       ┆   ┆ u8      ┆ ---       ┆ ---       ┆ u8       │\n",
       "│            ┆            ┆ datetime[ ┆ u8        ┆   ┆         ┆ u16       ┆ u8        ┆          │\n",
       "│            ┆            ┆ μs]       ┆           ┆   ┆         ┆           ┆           ┆          │\n",
       "╞════════════╪════════════╪═══════════╪═══════════╪═══╪═════════╪═══════════╪═══════════╪══════════╡\n",
       "│ 2076921    ┆ 2024-06-11 ┆ 2024-06-1 ┆ 0         ┆ … ┆ 29      ┆ 37857     ┆ 3         ┆ 24       │\n",
       "│            ┆            ┆ 1 23:47:5 ┆           ┆   ┆         ┆           ┆           ┆          │\n",
       "│            ┆            ┆ 1.411     ┆           ┆   ┆         ┆           ┆           ┆          │\n",
       "│ 2076921    ┆ 2024-06-11 ┆ 2024-06-1 ┆ 0         ┆ … ┆ 29      ┆ 34242     ┆ 3         ┆ 24       │\n",
       "│            ┆            ┆ 1 23:48:1 ┆           ┆   ┆         ┆           ┆           ┆          │\n",
       "│            ┆            ┆ 8.931     ┆           ┆   ┆         ┆           ┆           ┆          │\n",
       "│ 2076921    ┆ 2024-06-11 ┆ 2024-06-1 ┆ 0         ┆ … ┆ 29      ┆ 5785      ┆ 3         ┆ 24       │\n",
       "│            ┆            ┆ 1 23:48:2 ┆           ┆   ┆         ┆           ┆           ┆          │\n",
       "│            ┆            ┆ 1.063     ┆           ┆   ┆         ┆           ┆           ┆          │\n",
       "│ 2076921    ┆ 2024-06-11 ┆ 2024-06-1 ┆ 0         ┆ … ┆ 29      ┆ 34242     ┆ 3         ┆ 24       │\n",
       "│            ┆            ┆ 1 23:48:2 ┆           ┆   ┆         ┆           ┆           ┆          │\n",
       "│            ┆            ┆ 4.248     ┆           ┆   ┆         ┆           ┆           ┆          │\n",
       "│ 2076921    ┆ 2024-06-11 ┆ 2024-06-1 ┆ 0         ┆ … ┆ 29      ┆ 29424     ┆ 3         ┆ 24       │\n",
       "│            ┆            ┆ 1 23:48:2 ┆           ┆   ┆         ┆           ┆           ┆          │\n",
       "│            ┆            ┆ 5.571     ┆           ┆   ┆         ┆           ┆           ┆          │\n",
       "│ …          ┆ …          ┆ …         ┆ …         ┆ … ┆ …       ┆ …         ┆ …         ┆ …        │\n",
       "│ 2076921    ┆ 2024-06-11 ┆ 2024-06-1 ┆ 0         ┆ … ┆ 29      ┆ 3076      ┆ 3         ┆ 24       │\n",
       "│            ┆            ┆ 1 23:50:5 ┆           ┆   ┆         ┆           ┆           ┆          │\n",
       "│            ┆            ┆ 2.886     ┆           ┆   ┆         ┆           ┆           ┆          │\n",
       "│ 2076921    ┆ 2024-06-11 ┆ 2024-06-1 ┆ 0         ┆ … ┆ 29      ┆ 12641     ┆ 3         ┆ 24       │\n",
       "│            ┆            ┆ 1 23:51:0 ┆           ┆   ┆         ┆           ┆           ┆          │\n",
       "│            ┆            ┆ 4.643     ┆           ┆   ┆         ┆           ┆           ┆          │\n",
       "│ 2076921    ┆ 2024-06-11 ┆ 2024-06-1 ┆ 1         ┆ … ┆ 29      ┆ 3076      ┆ 3         ┆ 24       │\n",
       "│            ┆            ┆ 1 23:51:1 ┆           ┆   ┆         ┆           ┆           ┆          │\n",
       "│            ┆            ┆ 0.625     ┆           ┆   ┆         ┆           ┆           ┆          │\n",
       "│ 2076921    ┆ 2024-06-11 ┆ 2024-06-1 ┆ 0         ┆ … ┆ 29      ┆ 28617     ┆ 3         ┆ 24       │\n",
       "│            ┆            ┆ 1 23:53:5 ┆           ┆   ┆         ┆           ┆           ┆          │\n",
       "│            ┆            ┆ 1.955     ┆           ┆   ┆         ┆           ┆           ┆          │\n",
       "│ 2076921    ┆ 2024-06-11 ┆ 2024-06-1 ┆ 0         ┆ … ┆ 29      ┆ 3076      ┆ 3         ┆ 24       │\n",
       "│            ┆            ┆ 1 23:56:2 ┆           ┆   ┆         ┆           ┆           ┆          │\n",
       "│            ┆            ┆ 9.289     ┆           ┆   ┆         ┆           ┆           ┆          │\n",
       "└────────────┴────────────┴───────────┴───────────┴───┴─────────┴───────────┴───────────┴──────────┘"
      ]
     },
     "execution_count": 23,
     "metadata": {},
     "output_type": "execute_result"
    }
   ],
   "source": [
    "df = train.filter(pl.col('session_id') == 2076921).sort('timestamp_local')\n",
    "df"
   ]
  },
  {
   "cell_type": "code",
   "execution_count": 24,
   "metadata": {},
   "outputs": [
    {
     "data": {
      "text/html": [
       "<div><style>\n",
       ".dataframe > thead > tr,\n",
       ".dataframe > tbody > tr {\n",
       "  text-align: right;\n",
       "  white-space: pre-wrap;\n",
       "}\n",
       "</style>\n",
       "<small>shape: (9, 2)</small><table border=\"1\" class=\"dataframe\"><thead><tr><th>partnumber</th><th>count</th></tr><tr><td>u16</td><td>u32</td></tr></thead><tbody><tr><td>5667</td><td>1</td></tr><tr><td>29424</td><td>3</td></tr><tr><td>5785</td><td>1</td></tr><tr><td>12641</td><td>1</td></tr><tr><td>37857</td><td>1</td></tr><tr><td>3076</td><td>3</td></tr><tr><td>28617</td><td>1</td></tr><tr><td>4774</td><td>1</td></tr><tr><td>34242</td><td>5</td></tr></tbody></table></div>"
      ],
      "text/plain": [
       "shape: (9, 2)\n",
       "┌────────────┬───────┐\n",
       "│ partnumber ┆ count │\n",
       "│ ---        ┆ ---   │\n",
       "│ u16        ┆ u32   │\n",
       "╞════════════╪═══════╡\n",
       "│ 5667       ┆ 1     │\n",
       "│ 29424      ┆ 3     │\n",
       "│ 5785       ┆ 1     │\n",
       "│ 12641      ┆ 1     │\n",
       "│ 37857      ┆ 1     │\n",
       "│ 3076       ┆ 3     │\n",
       "│ 28617      ┆ 1     │\n",
       "│ 4774       ┆ 1     │\n",
       "│ 34242      ┆ 5     │\n",
       "└────────────┴───────┘"
      ]
     },
     "execution_count": 24,
     "metadata": {},
     "output_type": "execute_result"
    }
   ],
   "source": [
    "df['partnumber'].value_counts()"
   ]
  },
  {
   "cell_type": "code",
   "execution_count": 31,
   "metadata": {},
   "outputs": [
    {
     "data": {
      "text/html": [
       "<div><style>\n",
       ".dataframe > thead > tr,\n",
       ".dataframe > tbody > tr {\n",
       "  text-align: right;\n",
       "  white-space: pre-wrap;\n",
       "}\n",
       "</style>\n",
       "<small>shape: (1, 2)</small><table border=\"1\" class=\"dataframe\"><thead><tr><th>session_id</th><th>partnumber</th></tr><tr><td>u32</td><td>u32</td></tr></thead><tbody><tr><td>2076921</td><td>17</td></tr></tbody></table></div>"
      ],
      "text/plain": [
       "shape: (1, 2)\n",
       "┌────────────┬────────────┐\n",
       "│ session_id ┆ partnumber │\n",
       "│ ---        ┆ ---        │\n",
       "│ u32        ┆ u32        │\n",
       "╞════════════╪════════════╡\n",
       "│ 2076921    ┆ 17         │\n",
       "└────────────┴────────────┘"
      ]
     },
     "execution_count": 31,
     "metadata": {},
     "output_type": "execute_result"
    }
   ],
   "source": [
    "df.group_by('session_id').agg(pl.col('partnumber').count())"
   ]
  },
  {
   "cell_type": "markdown",
   "metadata": {},
   "source": [
    "## Users data"
   ]
  },
  {
   "cell_type": "code",
   "execution_count": 33,
   "metadata": {},
   "outputs": [
    {
     "name": "stdout",
     "output_type": "stream",
     "text": [
      "shape: (5, 5)\n",
      "┌──────────────┬─────┬─────┬───────────┬─────────┐\n",
      "│ user_country ┆ R   ┆ F   ┆ M         ┆ user_id │\n",
      "│ ---          ┆ --- ┆ --- ┆ ---       ┆ ---     │\n",
      "│ u8           ┆ u16 ┆ u16 ┆ f32       ┆ u32     │\n",
      "╞══════════════╪═════╪═════╪═══════════╪═════════╡\n",
      "│ 25           ┆ 30  ┆ 0   ┆ 0.0       ┆ 430102  │\n",
      "│ 25           ┆ 177 ┆ 1   ┆ 75.900002 ┆ 134198  │\n",
      "│ 25           ┆ 32  ┆ 61  ┆ 37.694057 ┆ 134207  │\n",
      "│ 25           ┆ 74  ┆ 86  ┆ 11.64094  ┆ 180365  │\n",
      "│ 25           ┆ 79  ┆ 5   ┆ 30.283333 ┆ 430101  │\n",
      "└──────────────┴─────┴─────┴───────────┴─────────┘\n",
      "shape: (1, 5)\n",
      "┌──────────────┬─────┬─────┬─────┬─────────┐\n",
      "│ user_country ┆ R   ┆ F   ┆ M   ┆ user_id │\n",
      "│ ---          ┆ --- ┆ --- ┆ --- ┆ ---     │\n",
      "│ u32          ┆ u32 ┆ u32 ┆ u32 ┆ u32     │\n",
      "╞══════════════╪═════╪═════╪═════╪═════════╡\n",
      "│ 0            ┆ 0   ┆ 0   ┆ 0   ┆ 0       │\n",
      "└──────────────┴─────┴─────┴─────┴─────────┘\n"
     ]
    }
   ],
   "source": [
    "users = pl.read_parquet(USERS_DATA_PATH, low_memory=True).rename({'country': 'user_country'})\n",
    "print(users.head())\n",
    "print(users.null_count())"
   ]
  }
 ],
 "metadata": {
  "kernelspec": {
   "display_name": ".venv",
   "language": "python",
   "name": "python3"
  },
  "language_info": {
   "codemirror_mode": {
    "name": "ipython",
    "version": 3
   },
   "file_extension": ".py",
   "mimetype": "text/x-python",
   "name": "python",
   "nbconvert_exporter": "python",
   "pygments_lexer": "ipython3",
   "version": "3.12.4"
  }
 },
 "nbformat": 4,
 "nbformat_minor": 2
}
