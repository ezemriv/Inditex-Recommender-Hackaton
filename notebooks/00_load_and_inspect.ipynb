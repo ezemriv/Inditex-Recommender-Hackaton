{
 "cells": [
  {
   "cell_type": "markdown",
   "metadata": {},
   "source": [
    "# Imports and paths"
   ]
  },
  {
   "cell_type": "code",
   "execution_count": 1,
   "metadata": {},
   "outputs": [],
   "source": [
    "import os\n",
    "import sys\n",
    "\n",
    "# root path\n",
    "ROOT = os.path.abspath(os.path.join(os.getcwd(), '..'))\n",
    "\n",
    "# Add the project root to the Python path\n",
    "if ROOT not in sys.path:\n",
    "    sys.path.append(ROOT)\n",
    "\n",
    "import polars as pl\n",
    "import pandas as pd"
   ]
  },
  {
   "cell_type": "markdown",
   "metadata": {},
   "source": [
    "## Paths"
   ]
  },
  {
   "cell_type": "code",
   "execution_count": 2,
   "metadata": {},
   "outputs": [],
   "source": [
    "DATA_PATH = os.path.join(ROOT, 'data')\n",
    "USERS_PATH = os\n",
    "TRAIN_PATH = os.path.join(DATA_PATH, 'raw', 'train.csv')"
   ]
  },
  {
   "cell_type": "markdown",
   "metadata": {},
   "source": [
    "# User Data (API Call)"
   ]
  },
  {
   "cell_type": "code",
   "execution_count": 3,
   "metadata": {},
   "outputs": [],
   "source": [
    "from src.data.api_calls import fetch_all_user_ids, fetch_user_data\n",
    "\n",
    "all_ids = fetch_all_user_ids()"
   ]
  },
  {
   "cell_type": "code",
   "execution_count": 4,
   "metadata": {},
   "outputs": [
    {
     "data": {
      "text/plain": [
       "{'user_id': 128439,\n",
       " 'values': {'country': [25], 'R': [2], 'F': [31], 'M': [63.87970588235295]}}"
      ]
     },
     "execution_count": 4,
     "metadata": {},
     "output_type": "execute_result"
    }
   ],
   "source": [
    "import random\n",
    "random_id = random.choice(all_ids)\n",
    "fetch_user_data(random_id)"
   ]
  },
  {
   "cell_type": "markdown",
   "metadata": {},
   "source": [
    "## Load all batches, merge and save"
   ]
  },
  {
   "cell_type": "code",
   "execution_count": null,
   "metadata": {},
   "outputs": [],
   "source": [
    "down_users = []\n",
    "\n",
    "# Iterate through all files in the directory\n",
    "for file_name in os.listdir(USERS_RAW_PATH):\n",
    "    file_path = os.path.join(USERS_RAW_PATH, file_name)\n",
    "    \n",
    "    # Ensure the file is a parquet file before processing\n",
    "    if file_name.endswith('.parquet'):\n",
    "        data = loader.load_data(path=file_path)\n",
    "        users_ids = data['user_id']\n",
    "        down_users.extend(users_ids)  # Combine all user_ids into a single list\n",
    "        print(f\"Processed {file_name}: {len(users_ids)} user_ids\")\n",
    "\n",
    "print(\"Final amount of users: \", len(down_users))\n"
   ]
  },
  {
   "cell_type": "code",
   "execution_count": null,
   "metadata": {},
   "outputs": [],
   "source": []
  },
  {
   "cell_type": "markdown",
   "metadata": {},
   "source": [
    "# Train/Test Data"
   ]
  },
  {
   "cell_type": "code",
   "execution_count": 3,
   "metadata": {},
   "outputs": [],
   "source": [
    "from src.data.loaders import PolarsLoader\n",
    "\n",
    "loader = PolarsLoader(sampling=True)\n",
    "train = loader.load_data(path=TRAIN_PATH)"
   ]
  },
  {
   "cell_type": "code",
   "execution_count": 4,
   "metadata": {},
   "outputs": [
    {
     "data": {
      "text/html": [
       "<div><style>\n",
       ".dataframe > thead > tr,\n",
       ".dataframe > tbody > tr {\n",
       "  text-align: right;\n",
       "  white-space: pre-wrap;\n",
       "}\n",
       "</style>\n",
       "<small>shape: (10, 9)</small><table border=\"1\" class=\"dataframe\"><thead><tr><th>session_id</th><th>date</th><th>timestamp_local</th><th>add_to_cart</th><th>user_id</th><th>country</th><th>partnumber</th><th>device_type</th><th>pagetype</th></tr><tr><td>i64</td><td>date</td><td>datetime[μs]</td><td>i64</td><td>f64</td><td>i64</td><td>i64</td><td>i64</td><td>f64</td></tr></thead><tbody><tr><td>2576047</td><td>2024-06-05</td><td>2024-06-05 14:42:25.318</td><td>0</td><td>null</td><td>57</td><td>26095</td><td>1</td><td>24.0</td></tr><tr><td>335639</td><td>2024-06-06</td><td>2024-06-06 14:45:36.713</td><td>0</td><td>null</td><td>29</td><td>8760</td><td>1</td><td>24.0</td></tr><tr><td>3281902</td><td>2024-06-01</td><td>2024-06-02 01:27:08.986</td><td>0</td><td>null</td><td>25</td><td>40509</td><td>1</td><td>24.0</td></tr><tr><td>3758369</td><td>2024-06-03</td><td>2024-06-03 17:10:52.852</td><td>0</td><td>null</td><td>29</td><td>15189</td><td>1</td><td>24.0</td></tr><tr><td>3869881</td><td>2024-06-05</td><td>2024-06-05 10:58:18.871</td><td>0</td><td>null</td><td>29</td><td>11138</td><td>1</td><td>24.0</td></tr><tr><td>453381</td><td>2024-06-08</td><td>2024-06-08 03:26:12.317</td><td>0</td><td>null</td><td>57</td><td>8319</td><td>1</td><td>24.0</td></tr><tr><td>4392647</td><td>2024-06-03</td><td>2024-06-03 17:59:36.214</td><td>0</td><td>null</td><td>29</td><td>7445</td><td>1</td><td>24.0</td></tr><tr><td>1073363</td><td>2024-06-10</td><td>2024-06-10 03:46:28.037</td><td>0</td><td>null</td><td>34</td><td>10557</td><td>1</td><td>24.0</td></tr><tr><td>3604118</td><td>2024-06-06</td><td>2024-06-06 15:12:48.802</td><td>0</td><td>null</td><td>57</td><td>7675</td><td>1</td><td>24.0</td></tr><tr><td>3109025</td><td>2024-06-06</td><td>2024-06-06 12:04:46.046</td><td>0</td><td>397872.0</td><td>25</td><td>26723</td><td>1</td><td>24.0</td></tr></tbody></table></div>"
      ],
      "text/plain": [
       "shape: (10, 9)\n",
       "┌────────────┬────────────┬───────────┬───────────┬───┬─────────┬───────────┬───────────┬──────────┐\n",
       "│ session_id ┆ date       ┆ timestamp ┆ add_to_ca ┆ … ┆ country ┆ partnumbe ┆ device_ty ┆ pagetype │\n",
       "│ ---        ┆ ---        ┆ _local    ┆ rt        ┆   ┆ ---     ┆ r         ┆ pe        ┆ ---      │\n",
       "│ i64        ┆ date       ┆ ---       ┆ ---       ┆   ┆ i64     ┆ ---       ┆ ---       ┆ f64      │\n",
       "│            ┆            ┆ datetime[ ┆ i64       ┆   ┆         ┆ i64       ┆ i64       ┆          │\n",
       "│            ┆            ┆ μs]       ┆           ┆   ┆         ┆           ┆           ┆          │\n",
       "╞════════════╪════════════╪═══════════╪═══════════╪═══╪═════════╪═══════════╪═══════════╪══════════╡\n",
       "│ 2576047    ┆ 2024-06-05 ┆ 2024-06-0 ┆ 0         ┆ … ┆ 57      ┆ 26095     ┆ 1         ┆ 24.0     │\n",
       "│            ┆            ┆ 5 14:42:2 ┆           ┆   ┆         ┆           ┆           ┆          │\n",
       "│            ┆            ┆ 5.318     ┆           ┆   ┆         ┆           ┆           ┆          │\n",
       "│ 335639     ┆ 2024-06-06 ┆ 2024-06-0 ┆ 0         ┆ … ┆ 29      ┆ 8760      ┆ 1         ┆ 24.0     │\n",
       "│            ┆            ┆ 6 14:45:3 ┆           ┆   ┆         ┆           ┆           ┆          │\n",
       "│            ┆            ┆ 6.713     ┆           ┆   ┆         ┆           ┆           ┆          │\n",
       "│ 3281902    ┆ 2024-06-01 ┆ 2024-06-0 ┆ 0         ┆ … ┆ 25      ┆ 40509     ┆ 1         ┆ 24.0     │\n",
       "│            ┆            ┆ 2 01:27:0 ┆           ┆   ┆         ┆           ┆           ┆          │\n",
       "│            ┆            ┆ 8.986     ┆           ┆   ┆         ┆           ┆           ┆          │\n",
       "│ 3758369    ┆ 2024-06-03 ┆ 2024-06-0 ┆ 0         ┆ … ┆ 29      ┆ 15189     ┆ 1         ┆ 24.0     │\n",
       "│            ┆            ┆ 3 17:10:5 ┆           ┆   ┆         ┆           ┆           ┆          │\n",
       "│            ┆            ┆ 2.852     ┆           ┆   ┆         ┆           ┆           ┆          │\n",
       "│ 3869881    ┆ 2024-06-05 ┆ 2024-06-0 ┆ 0         ┆ … ┆ 29      ┆ 11138     ┆ 1         ┆ 24.0     │\n",
       "│            ┆            ┆ 5 10:58:1 ┆           ┆   ┆         ┆           ┆           ┆          │\n",
       "│            ┆            ┆ 8.871     ┆           ┆   ┆         ┆           ┆           ┆          │\n",
       "│ 453381     ┆ 2024-06-08 ┆ 2024-06-0 ┆ 0         ┆ … ┆ 57      ┆ 8319      ┆ 1         ┆ 24.0     │\n",
       "│            ┆            ┆ 8 03:26:1 ┆           ┆   ┆         ┆           ┆           ┆          │\n",
       "│            ┆            ┆ 2.317     ┆           ┆   ┆         ┆           ┆           ┆          │\n",
       "│ 4392647    ┆ 2024-06-03 ┆ 2024-06-0 ┆ 0         ┆ … ┆ 29      ┆ 7445      ┆ 1         ┆ 24.0     │\n",
       "│            ┆            ┆ 3 17:59:3 ┆           ┆   ┆         ┆           ┆           ┆          │\n",
       "│            ┆            ┆ 6.214     ┆           ┆   ┆         ┆           ┆           ┆          │\n",
       "│ 1073363    ┆ 2024-06-10 ┆ 2024-06-1 ┆ 0         ┆ … ┆ 34      ┆ 10557     ┆ 1         ┆ 24.0     │\n",
       "│            ┆            ┆ 0 03:46:2 ┆           ┆   ┆         ┆           ┆           ┆          │\n",
       "│            ┆            ┆ 8.037     ┆           ┆   ┆         ┆           ┆           ┆          │\n",
       "│ 3604118    ┆ 2024-06-06 ┆ 2024-06-0 ┆ 0         ┆ … ┆ 57      ┆ 7675      ┆ 1         ┆ 24.0     │\n",
       "│            ┆            ┆ 6 15:12:4 ┆           ┆   ┆         ┆           ┆           ┆          │\n",
       "│            ┆            ┆ 8.802     ┆           ┆   ┆         ┆           ┆           ┆          │\n",
       "│ 3109025    ┆ 2024-06-06 ┆ 2024-06-0 ┆ 0         ┆ … ┆ 25      ┆ 26723     ┆ 1         ┆ 24.0     │\n",
       "│            ┆            ┆ 6 12:04:4 ┆           ┆   ┆         ┆           ┆           ┆          │\n",
       "│            ┆            ┆ 6.046     ┆           ┆   ┆         ┆           ┆           ┆          │\n",
       "└────────────┴────────────┴───────────┴───────────┴───┴─────────┴───────────┴───────────┴──────────┘"
      ]
     },
     "execution_count": 6,
     "metadata": {},
     "output_type": "execute_result"
    }
   ],
   "source": [
    "train.sample(10)"
   ]
  }
 ],
 "metadata": {
  "kernelspec": {
   "display_name": ".venv",
   "language": "python",
   "name": "python3"
  },
  "language_info": {
   "codemirror_mode": {
    "name": "ipython",
    "version": 3
   },
   "file_extension": ".py",
   "mimetype": "text/x-python",
   "name": "python",
   "nbconvert_exporter": "python",
   "pygments_lexer": "ipython3",
   "version": "3.12.4"
  }
 },
 "nbformat": 4,
 "nbformat_minor": 2
}
