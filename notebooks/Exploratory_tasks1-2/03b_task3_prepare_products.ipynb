{
 "cells": [
  {
   "cell_type": "markdown",
   "metadata": {},
   "source": [
    "# Imports and paths"
   ]
  },
  {
   "cell_type": "code",
   "execution_count": 4,
   "metadata": {},
   "outputs": [],
   "source": [
    "import os\n",
    "import sys\n",
    "\n",
    "# root path\n",
    "ROOT = os.path.abspath(os.path.join(os.getcwd(), '..'))\n",
    "\n",
    "# Add the project root to the Python path\n",
    "if ROOT not in sys.path:\n",
    "    sys.path.append(ROOT)\n",
    "\n",
    "import polars as pl\n",
    "import pandas as pd\n",
    "import numpy as np\n",
    "import json"
   ]
  },
  {
   "cell_type": "code",
   "execution_count": 5,
   "metadata": {},
   "outputs": [],
   "source": [
    "from config import PRODUCTS_PARQUET_PATH, PRODUCTS_PARQUET_PATH_IMPUTED, ALL_PRODS_TRAINTEST_PATH\n",
    "from src.data.loaders import PolarsLoader"
   ]
  },
  {
   "cell_type": "markdown",
   "metadata": {},
   "source": [
    "## Products"
   ]
  },
  {
   "cell_type": "code",
   "execution_count": 4,
   "metadata": {},
   "outputs": [
    {
     "name": "stdout",
     "output_type": "stream",
     "text": [
      "(43692, 6)\n",
      "shape: (5, 6)\n",
      "┌──────────┬─────────────────────────────────┬────────────┬──────────┬─────────────┬────────┐\n",
      "│ discount ┆ embedding                       ┆ partnumber ┆ color_id ┆ cod_section ┆ family │\n",
      "│ ---      ┆ ---                             ┆ ---        ┆ ---      ┆ ---         ┆ ---    │\n",
      "│ u8       ┆ list[f32]                       ┆ u16        ┆ u16      ┆ u8          ┆ u16    │\n",
      "╞══════════╪═════════════════════════════════╪════════════╪══════════╪═════════════╪════════╡\n",
      "│ 0        ┆ [-0.134014, -0.120043, … -0.08… ┆ 32776      ┆ 85       ┆ 4           ┆ 73     │\n",
      "│ 0        ┆ [-0.094927, -0.107294, … -0.04… ┆ 41431      ┆ 135      ┆ 4           ┆ 73     │\n",
      "│ 0        ┆ [-0.129044, -0.077246, … 0.002… ┆ 39419      ┆ 339      ┆ 4           ┆ 73     │\n",
      "│ 1        ┆ [-0.127833, -0.133868, … -0.09… ┆ 36087      ┆ 135      ┆ 4           ┆ 73     │\n",
      "│ 1        ┆ [-0.140929, -0.125828, … -0.04… ┆ 34132      ┆ 3        ┆ 4           ┆ 73     │\n",
      "└──────────┴─────────────────────────────────┴────────────┴──────────┴─────────────┴────────┘\n",
      "shape: (1, 6)\n",
      "┌──────────┬───────────┬────────────┬──────────┬─────────────┬────────┐\n",
      "│ discount ┆ embedding ┆ partnumber ┆ color_id ┆ cod_section ┆ family │\n",
      "│ ---      ┆ ---       ┆ ---        ┆ ---      ┆ ---         ┆ ---    │\n",
      "│ u32      ┆ u32       ┆ u32        ┆ u32      ┆ u32         ┆ u32    │\n",
      "╞══════════╪═══════════╪════════════╪══════════╪═════════════╪════════╡\n",
      "│ 0        ┆ 6170      ┆ 0          ┆ 0        ┆ 90          ┆ 0      │\n",
      "└──────────┴───────────┴────────────┴──────────┴─────────────┴────────┘\n"
     ]
    }
   ],
   "source": [
    "prods = pl.read_parquet(PRODUCTS_PARQUET_PATH, low_memory=True)\n",
    "print(prods.shape)\n",
    "print(prods.head())\n",
    "print(prods.null_count())"
   ]
  },
  {
   "cell_type": "code",
   "execution_count": 5,
   "metadata": {},
   "outputs": [
    {
     "data": {
      "text/plain": [
       "43692"
      ]
     },
     "execution_count": 5,
     "metadata": {},
     "output_type": "execute_result"
    }
   ],
   "source": [
    "prods['partnumber'].n_unique()"
   ]
  },
  {
   "cell_type": "markdown",
   "metadata": {},
   "source": [
    "### Drop products not present in the training/test set"
   ]
  },
  {
   "cell_type": "code",
   "execution_count": 6,
   "metadata": {},
   "outputs": [
    {
     "data": {
      "text/plain": [
       "42265"
      ]
     },
     "execution_count": 6,
     "metadata": {},
     "output_type": "execute_result"
    }
   ],
   "source": [
    "# Load from JSON\n",
    "with open(ALL_PRODS_TRAINTEST_PATH, 'r') as f:\n",
    "    all_prods = json.load(f)\n",
    "\n",
    "prods = prods.filter(pl.col('partnumber').is_in(all_prods))\n",
    "prods['partnumber'].n_unique()"
   ]
  },
  {
   "cell_type": "markdown",
   "metadata": {},
   "source": [
    "### Null imputation"
   ]
  },
  {
   "cell_type": "markdown",
   "metadata": {},
   "source": [
    "**Family mean (embedding)**"
   ]
  },
  {
   "cell_type": "code",
   "execution_count": 7,
   "metadata": {},
   "outputs": [],
   "source": [
    "from typing import List\n",
    "# # Helper function to calculate mean embedding for a group\n",
    "def calc_mean_embedding(embeddings: List[np.ndarray]) -> np.ndarray:\n",
    "    valid_embeddings = [e for e in embeddings if e is not None and len(e) > 0]\n",
    "    return np.mean(valid_embeddings, axis=0) if valid_embeddings else np.nan\n",
    "\n",
    "# Calculate family mean embeddings\n",
    "family_means = (\n",
    "    prods\n",
    "    .group_by('family')\n",
    "    .agg(pl.col('embedding'))\n",
    "    .with_columns(\n",
    "        mean_embedding=pl.col('embedding').map_elements(calc_mean_embedding, return_dtype=pl.List(pl.Float32))\n",
    "    )\n",
    ")"
   ]
  },
  {
   "cell_type": "code",
   "execution_count": 8,
   "metadata": {},
   "outputs": [
    {
     "data": {
      "text/html": [
       "<div><style>\n",
       ".dataframe > thead > tr,\n",
       ".dataframe > tbody > tr {\n",
       "  text-align: right;\n",
       "  white-space: pre-wrap;\n",
       "}\n",
       "</style>\n",
       "<small>shape: (1, 7)</small><table border=\"1\" class=\"dataframe\"><thead><tr><th>discount</th><th>embedding</th><th>partnumber</th><th>color_id</th><th>cod_section</th><th>family</th><th>mean_embedding</th></tr><tr><td>u32</td><td>u32</td><td>u32</td><td>u32</td><td>u32</td><td>u32</td><td>u32</td></tr></thead><tbody><tr><td>0</td><td>8</td><td>0</td><td>0</td><td>87</td><td>0</td><td>8</td></tr></tbody></table></div>"
      ],
      "text/plain": [
       "shape: (1, 7)\n",
       "┌──────────┬───────────┬────────────┬──────────┬─────────────┬────────┬────────────────┐\n",
       "│ discount ┆ embedding ┆ partnumber ┆ color_id ┆ cod_section ┆ family ┆ mean_embedding │\n",
       "│ ---      ┆ ---       ┆ ---        ┆ ---      ┆ ---         ┆ ---    ┆ ---            │\n",
       "│ u32      ┆ u32       ┆ u32        ┆ u32      ┆ u32         ┆ u32    ┆ u32            │\n",
       "╞══════════╪═══════════╪════════════╪══════════╪═════════════╪════════╪════════════════╡\n",
       "│ 0        ┆ 8         ┆ 0          ┆ 0        ┆ 87          ┆ 0      ┆ 8              │\n",
       "└──────────┴───────────┴────────────┴──────────┴─────────────┴────────┴────────────────┘"
      ]
     },
     "execution_count": 8,
     "metadata": {},
     "output_type": "execute_result"
    }
   ],
   "source": [
    "prods = prods.join(family_means.select(['family', 'mean_embedding']), on='family', how='left')\n",
    "prods = prods.with_columns([\n",
    "    pl.when(pl.col('embedding').is_null())\n",
    "        .then(pl.col('mean_embedding'))\n",
    "        .otherwise(pl.col('embedding'))\n",
    "        .alias('embedding')\n",
    "])\n",
    "prods.null_count()"
   ]
  },
  {
   "cell_type": "markdown",
   "metadata": {},
   "source": [
    "**Overall mean (embedding)**"
   ]
  },
  {
   "cell_type": "code",
   "execution_count": 9,
   "metadata": {},
   "outputs": [
    {
     "data": {
      "text/plain": [
       "array([-0.08372563,  0.16689125, -0.10456386, ...,  0.15249544,\n",
       "        0.00691349,  0.04625465], shape=(1280,), dtype=float32)"
      ]
     },
     "execution_count": 9,
     "metadata": {},
     "output_type": "execute_result"
    }
   ],
   "source": [
    "# Calculate family mean embeddings\n",
    "overall_mean = calc_mean_embedding(prods['embedding'])\n",
    "overall_mean"
   ]
  },
  {
   "cell_type": "code",
   "execution_count": 10,
   "metadata": {},
   "outputs": [
    {
     "data": {
      "text/html": [
       "<div><style>\n",
       ".dataframe > thead > tr,\n",
       ".dataframe > tbody > tr {\n",
       "  text-align: right;\n",
       "  white-space: pre-wrap;\n",
       "}\n",
       "</style>\n",
       "<small>shape: (1, 6)</small><table border=\"1\" class=\"dataframe\"><thead><tr><th>discount</th><th>embedding</th><th>partnumber</th><th>color_id</th><th>cod_section</th><th>family</th></tr><tr><td>u32</td><td>u32</td><td>u32</td><td>u32</td><td>u32</td><td>u32</td></tr></thead><tbody><tr><td>0</td><td>0</td><td>0</td><td>0</td><td>87</td><td>0</td></tr></tbody></table></div>"
      ],
      "text/plain": [
       "shape: (1, 6)\n",
       "┌──────────┬───────────┬────────────┬──────────┬─────────────┬────────┐\n",
       "│ discount ┆ embedding ┆ partnumber ┆ color_id ┆ cod_section ┆ family │\n",
       "│ ---      ┆ ---       ┆ ---        ┆ ---      ┆ ---         ┆ ---    │\n",
       "│ u32      ┆ u32       ┆ u32        ┆ u32      ┆ u32         ┆ u32    │\n",
       "╞══════════╪═══════════╪════════════╪══════════╪═════════════╪════════╡\n",
       "│ 0        ┆ 0         ┆ 0          ┆ 0        ┆ 87          ┆ 0      │\n",
       "└──────────┴───────────┴────────────┴──────────┴─────────────┴────────┘"
      ]
     },
     "execution_count": 10,
     "metadata": {},
     "output_type": "execute_result"
    }
   ],
   "source": [
    "prods = prods.with_columns([\n",
    "    pl.when(pl.col(\"embedding\").is_null())\n",
    "        .then(pl.lit(pl.Series([overall_mean])))  # Convert numpy array to Polars Series\n",
    "        .otherwise(pl.col('embedding'))\n",
    "        .alias('embedding')\n",
    "]).drop('mean_embedding')\n",
    "prods.null_count()"
   ]
  },
  {
   "cell_type": "code",
   "execution_count": 11,
   "metadata": {},
   "outputs": [],
   "source": [
    "# # Inspect lengths of embeddings\n",
    "# prods_imputed = prods.to_pandas()\n",
    "# embedding_lengths = prods_imputed['embedding'].apply(lambda x: len(x) if x is not None else None)\n",
    "\n",
    "# # Check for unique lengths\n",
    "# print(embedding_lengths.unique())  # Should ideally show one value, e.g., [1280]\n",
    "\n",
    "# # Find problematic rows (if any)\n",
    "# problematic_rows = prods_imputed[embedding_lengths != 1280]\n",
    "# print(problematic_rows)"
   ]
  },
  {
   "cell_type": "markdown",
   "metadata": {},
   "source": [
    "**cod_section**"
   ]
  },
  {
   "cell_type": "code",
   "execution_count": 12,
   "metadata": {},
   "outputs": [],
   "source": [
    "def fill_section_mode(products):\n",
    "    # Calculate mode by family\n",
    "    family_modes = (\n",
    "        products.group_by('family')\n",
    "        .agg(\n",
    "            mode_section=pl.col('cod_section').cast(pl.String).mode().first()\n",
    "        )\n",
    "    )\n",
    "\n",
    "    # Join back to fill nulls\n",
    "    result = products.join(\n",
    "        family_modes,\n",
    "        on='family',\n",
    "        how='left'\n",
    "    ).with_columns(\n",
    "        cod_section=pl.col('cod_section').fill_null(pl.col('mode_section').cast(pl.UInt8))\n",
    "    ).drop('mode_section')\n",
    "\n",
    "    return result"
   ]
  },
  {
   "cell_type": "code",
   "execution_count": 13,
   "metadata": {},
   "outputs": [
    {
     "data": {
      "text/html": [
       "<div><style>\n",
       ".dataframe > thead > tr,\n",
       ".dataframe > tbody > tr {\n",
       "  text-align: right;\n",
       "  white-space: pre-wrap;\n",
       "}\n",
       "</style>\n",
       "<small>shape: (1, 6)</small><table border=\"1\" class=\"dataframe\"><thead><tr><th>discount</th><th>embedding</th><th>partnumber</th><th>color_id</th><th>cod_section</th><th>family</th></tr><tr><td>u32</td><td>u32</td><td>u32</td><td>u32</td><td>u32</td><td>u32</td></tr></thead><tbody><tr><td>0</td><td>0</td><td>0</td><td>0</td><td>0</td><td>0</td></tr></tbody></table></div>"
      ],
      "text/plain": [
       "shape: (1, 6)\n",
       "┌──────────┬───────────┬────────────┬──────────┬─────────────┬────────┐\n",
       "│ discount ┆ embedding ┆ partnumber ┆ color_id ┆ cod_section ┆ family │\n",
       "│ ---      ┆ ---       ┆ ---        ┆ ---      ┆ ---         ┆ ---    │\n",
       "│ u32      ┆ u32       ┆ u32        ┆ u32      ┆ u32         ┆ u32    │\n",
       "╞══════════╪═══════════╪════════════╪══════════╪═════════════╪════════╡\n",
       "│ 0        ┆ 0         ┆ 0          ┆ 0        ┆ 0           ┆ 0      │\n",
       "└──────────┴───────────┴────────────┴──────────┴─────────────┴────────┘"
      ]
     },
     "execution_count": 13,
     "metadata": {},
     "output_type": "execute_result"
    }
   ],
   "source": [
    "prods = fill_section_mode(prods)\n",
    "prods.null_count()"
   ]
  },
  {
   "cell_type": "code",
   "execution_count": 14,
   "metadata": {},
   "outputs": [],
   "source": [
    "# prods.write_parquet(PRODUCTS_PARQUET_PATH_IMPUTED)"
   ]
  },
  {
   "cell_type": "markdown",
   "metadata": {},
   "source": [
    "### PCA embeddings"
   ]
  },
  {
   "cell_type": "code",
   "execution_count": 15,
   "metadata": {},
   "outputs": [],
   "source": [
    "# prods_imputed = prods.clone()"
   ]
  },
  {
   "cell_type": "code",
   "execution_count": 6,
   "metadata": {},
   "outputs": [
    {
     "data": {
      "text/html": [
       "<div><style>\n",
       ".dataframe > thead > tr,\n",
       ".dataframe > tbody > tr {\n",
       "  text-align: right;\n",
       "  white-space: pre-wrap;\n",
       "}\n",
       "</style>\n",
       "<small>shape: (5, 6)</small><table border=\"1\" class=\"dataframe\"><thead><tr><th>discount</th><th>embedding</th><th>partnumber</th><th>color_id</th><th>cod_section</th><th>family</th></tr><tr><td>u8</td><td>list[f32]</td><td>u16</td><td>u16</td><td>u8</td><td>u16</td></tr></thead><tbody><tr><td>0</td><td>[-0.134014, -0.120043, … -0.080103]</td><td>32776</td><td>85</td><td>4</td><td>73</td></tr><tr><td>0</td><td>[-0.094927, -0.107294, … -0.044575]</td><td>41431</td><td>135</td><td>4</td><td>73</td></tr><tr><td>0</td><td>[-0.129044, -0.077246, … 0.002047]</td><td>39419</td><td>339</td><td>4</td><td>73</td></tr><tr><td>1</td><td>[-0.127833, -0.133868, … -0.091194]</td><td>36087</td><td>135</td><td>4</td><td>73</td></tr><tr><td>1</td><td>[-0.140929, -0.125828, … -0.043056]</td><td>34132</td><td>3</td><td>4</td><td>73</td></tr></tbody></table></div>"
      ],
      "text/plain": [
       "shape: (5, 6)\n",
       "┌──────────┬─────────────────────────────────┬────────────┬──────────┬─────────────┬────────┐\n",
       "│ discount ┆ embedding                       ┆ partnumber ┆ color_id ┆ cod_section ┆ family │\n",
       "│ ---      ┆ ---                             ┆ ---        ┆ ---      ┆ ---         ┆ ---    │\n",
       "│ u8       ┆ list[f32]                       ┆ u16        ┆ u16      ┆ u8          ┆ u16    │\n",
       "╞══════════╪═════════════════════════════════╪════════════╪══════════╪═════════════╪════════╡\n",
       "│ 0        ┆ [-0.134014, -0.120043, … -0.08… ┆ 32776      ┆ 85       ┆ 4           ┆ 73     │\n",
       "│ 0        ┆ [-0.094927, -0.107294, … -0.04… ┆ 41431      ┆ 135      ┆ 4           ┆ 73     │\n",
       "│ 0        ┆ [-0.129044, -0.077246, … 0.002… ┆ 39419      ┆ 339      ┆ 4           ┆ 73     │\n",
       "│ 1        ┆ [-0.127833, -0.133868, … -0.09… ┆ 36087      ┆ 135      ┆ 4           ┆ 73     │\n",
       "│ 1        ┆ [-0.140929, -0.125828, … -0.04… ┆ 34132      ┆ 3        ┆ 4           ┆ 73     │\n",
       "└──────────┴─────────────────────────────────┴────────────┴──────────┴─────────────┴────────┘"
      ]
     },
     "execution_count": 6,
     "metadata": {},
     "output_type": "execute_result"
    }
   ],
   "source": [
    "prods_imputed = pl.read_parquet(PRODUCTS_PARQUET_PATH_IMPUTED)\n",
    "prods_imputed.head()"
   ]
  },
  {
   "cell_type": "code",
   "execution_count": 18,
   "metadata": {},
   "outputs": [
    {
     "data": {
      "image/png": "[encoded data removed]",
      "text/plain": [
       "<Figure size 800x500 with 1 Axes>"
      ]
     },
     "metadata": {},
     "output_type": "display_data"
    },
    {
     "name": "stdout",
     "output_type": "stream",
     "text": [
      "Number of components to retain 95% variance: 566\n"
     ]
    }
   ],
   "source": [
    "from sklearn.decomposition import PCA\n",
    "from sklearn.preprocessing import normalize\n",
    "import numpy as np\n",
    "import matplotlib.pyplot as plt\n",
    "\n",
    "# Assuming 'products['embedding']' contains the embeddings as lists of floats\n",
    "embeddings = np.stack(prods_imputed['embedding'].to_numpy())\n",
    "\n",
    "# Normalize embeddings to ensure consistency\n",
    "normalized_embeddings = normalize(embeddings)\n",
    "\n",
    "# Apply PCA\n",
    "pca = PCA()\n",
    "pca.fit(normalized_embeddings)\n",
    "\n",
    "# Explained variance ratio\n",
    "explained_variance = np.cumsum(pca.explained_variance_ratio_)\n",
    "\n",
    "# Plot cumulative explained variance\n",
    "plt.figure(figsize=(8, 5))\n",
    "plt.plot(range(1, len(explained_variance) + 1), explained_variance, marker='o', linestyle='--')\n",
    "plt.xlabel('Number of Principal Components')\n",
    "plt.ylabel('Cumulative Explained Variance')\n",
    "plt.title('Explained Variance vs Number of Components')\n",
    "plt.grid()\n",
    "plt.show()\n",
    "\n",
    "# Determine the number of components for 95% variance\n",
    "n_components = np.argmax(explained_variance >= 0.95) + 1\n",
    "print(f\"Number of components to retain 95% variance: {n_components}\")"
   ]
  },
  {
   "cell_type": "code",
   "execution_count": 24,
   "metadata": {},
   "outputs": [
    {
     "name": "stdout",
     "output_type": "stream",
     "text": [
      "Para 70.0% de varianza necesitas 56 componentes\n",
      "Para 80.0% de varianza necesitas 119 componentes\n",
      "Para 85.0% de varianza necesitas 184 componentes\n",
      "Para 90.0% de varianza necesitas 308 componentes\n",
      "Para 95.0% de varianza necesitas 566 componentes\n"
     ]
    }
   ],
   "source": [
    "# Analizar diferentes thresholds\n",
    "for threshold in [0.7, 0.8, 0.85, 0.9, 0.95]:\n",
    "    pca = PCA(n_components=threshold)\n",
    "    pca.fit(normalized_embeddings)\n",
    "    print(f\"Para {threshold*100}% de varianza necesitas {pca.n_components_} componentes\")"
   ]
  },
  {
   "cell_type": "markdown",
   "metadata": {},
   "source": [
    "## Feature engineering"
   ]
  },
  {
   "cell_type": "code",
   "execution_count": 7,
   "metadata": {},
   "outputs": [
    {
     "data": {
      "text/html": [
       "<div><style>\n",
       ".dataframe > thead > tr,\n",
       ".dataframe > tbody > tr {\n",
       "  text-align: right;\n",
       "  white-space: pre-wrap;\n",
       "}\n",
       "</style>\n",
       "<small>shape: (5, 10)</small><table border=\"1\" class=\"dataframe\"><thead><tr><th>discount</th><th>embedding</th><th>partnumber</th><th>color_id</th><th>cod_section</th><th>family</th><th>color_family_frequency</th><th>family_discount_rate</th><th>section_discount_rate</th><th>family_unique_colors</th></tr><tr><td>u8</td><td>array[f32, 1280]</td><td>u16</td><td>u16</td><td>u8</td><td>u16</td><td>u32</td><td>f32</td><td>f32</td><td>u32</td></tr></thead><tbody><tr><td>0</td><td>[-0.013066, -0.011704, … -0.00781]</td><td>32776</td><td>85</td><td>4</td><td>73</td><td>4612</td><td>0.041197</td><td>0.025261</td><td>271</td></tr><tr><td>0</td><td>[-0.009753, -0.011023, … -0.00458]</td><td>41431</td><td>135</td><td>4</td><td>73</td><td>4612</td><td>0.041197</td><td>0.025261</td><td>271</td></tr><tr><td>0</td><td>[-0.012109, -0.007248, … 0.000192]</td><td>39419</td><td>339</td><td>4</td><td>73</td><td>4612</td><td>0.041197</td><td>0.025261</td><td>271</td></tr><tr><td>1</td><td>[-0.01299, -0.013603, … -0.009267]</td><td>36087</td><td>135</td><td>4</td><td>73</td><td>4612</td><td>0.041197</td><td>0.025261</td><td>271</td></tr><tr><td>1</td><td>[-0.013687, -0.012221, … -0.004182]</td><td>34132</td><td>3</td><td>4</td><td>73</td><td>4612</td><td>0.041197</td><td>0.025261</td><td>271</td></tr></tbody></table></div>"
      ],
      "text/plain": [
       "shape: (5, 10)\n",
       "┌──────────┬────────────┬───────────┬──────────┬───┬───────────┬───────────┬───────────┬───────────┐\n",
       "│ discount ┆ embedding  ┆ partnumbe ┆ color_id ┆ … ┆ color_fam ┆ family_di ┆ section_d ┆ family_un │\n",
       "│ ---      ┆ ---        ┆ r         ┆ ---      ┆   ┆ ily_frequ ┆ scount_ra ┆ iscount_r ┆ ique_colo │\n",
       "│ u8       ┆ array[f32, ┆ ---       ┆ u16      ┆   ┆ ency      ┆ te        ┆ ate       ┆ rs        │\n",
       "│          ┆ 1280]      ┆ u16       ┆          ┆   ┆ ---       ┆ ---       ┆ ---       ┆ ---       │\n",
       "│          ┆            ┆           ┆          ┆   ┆ u32       ┆ f32       ┆ f32       ┆ u32       │\n",
       "╞══════════╪════════════╪═══════════╪══════════╪═══╪═══════════╪═══════════╪═══════════╪═══════════╡\n",
       "│ 0        ┆ [-0.013066 ┆ 32776     ┆ 85       ┆ … ┆ 4612      ┆ 0.041197  ┆ 0.025261  ┆ 271       │\n",
       "│          ┆ ,          ┆           ┆          ┆   ┆           ┆           ┆           ┆           │\n",
       "│          ┆ -0.011704, ┆           ┆          ┆   ┆           ┆           ┆           ┆           │\n",
       "│          ┆ … -0.00…   ┆           ┆          ┆   ┆           ┆           ┆           ┆           │\n",
       "│ 0        ┆ [-0.009753 ┆ 41431     ┆ 135      ┆ … ┆ 4612      ┆ 0.041197  ┆ 0.025261  ┆ 271       │\n",
       "│          ┆ ,          ┆           ┆          ┆   ┆           ┆           ┆           ┆           │\n",
       "│          ┆ -0.011023, ┆           ┆          ┆   ┆           ┆           ┆           ┆           │\n",
       "│          ┆ … -0.00…   ┆           ┆          ┆   ┆           ┆           ┆           ┆           │\n",
       "│ 0        ┆ [-0.012109 ┆ 39419     ┆ 339      ┆ … ┆ 4612      ┆ 0.041197  ┆ 0.025261  ┆ 271       │\n",
       "│          ┆ ,          ┆           ┆          ┆   ┆           ┆           ┆           ┆           │\n",
       "│          ┆ -0.007248, ┆           ┆          ┆   ┆           ┆           ┆           ┆           │\n",
       "│          ┆ … 0.000…   ┆           ┆          ┆   ┆           ┆           ┆           ┆           │\n",
       "│ 1        ┆ [-0.01299, ┆ 36087     ┆ 135      ┆ … ┆ 4612      ┆ 0.041197  ┆ 0.025261  ┆ 271       │\n",
       "│          ┆ -0.013603, ┆           ┆          ┆   ┆           ┆           ┆           ┆           │\n",
       "│          ┆ … -0.009…  ┆           ┆          ┆   ┆           ┆           ┆           ┆           │\n",
       "│ 1        ┆ [-0.013687 ┆ 34132     ┆ 3        ┆ … ┆ 4612      ┆ 0.041197  ┆ 0.025261  ┆ 271       │\n",
       "│          ┆ ,          ┆           ┆          ┆   ┆           ┆           ┆           ┆           │\n",
       "│          ┆ -0.012221, ┆           ┆          ┆   ┆           ┆           ┆           ┆           │\n",
       "│          ┆ … -0.00…   ┆           ┆          ┆   ┆           ┆           ┆           ┆           │\n",
       "└──────────┴────────────┴───────────┴──────────┴───┴───────────┴───────────┴───────────┴───────────┘"
      ]
     },
     "execution_count": 7,
     "metadata": {},
     "output_type": "execute_result"
    }
   ],
   "source": [
    "from sklearn.preprocessing import normalize\n",
    "\n",
    "def normalize_embedding(products_df: pl.DataFrame) -> pl.DataFrame:\n",
    "    \n",
    "    # Normalized embedding\n",
    "    embeddings = np.stack(products_df['embedding'].to_numpy())\n",
    "    normalized = normalize(embeddings)\n",
    "    products_df = products_df.with_columns([pl.Series('embedding', normalized)])\n",
    "    \n",
    "    return products_df\n",
    "\n",
    "def create_initial_extra_features(df: pl.DataFrame) -> pl.DataFrame:\n",
    "\n",
    "    df = normalize_embedding(df)\n",
    "    \n",
    "    df = df.with_columns([\n",
    "        # Categorical frequencies\n",
    "        pl.col('color_id').count().over('family').alias('color_family_frequency'),\n",
    "        # Proporciones\n",
    "        (pl.col('discount').mean().over('family')).alias('family_discount_rate').cast(pl.Float32),\n",
    "        (pl.col('discount').mean().over('cod_section')).alias('section_discount_rate').cast(pl.Float32),\n",
    "        # Número de colores únicos en la familia\n",
    "        pl.col('color_id').n_unique().over('family').alias('family_unique_colors')\n",
    "    ])\n",
    "    \n",
    "    return df\n",
    "\n",
    "prods_eng = create_initial_extra_features(prods_imputed)\n",
    "prods_eng.head()"
   ]
  },
  {
   "cell_type": "markdown",
   "metadata": {},
   "source": [
    "## Top10 similar products (run on Kaggle)"
   ]
  },
  {
   "cell_type": "code",
   "execution_count": 6,
   "metadata": {},
   "outputs": [
    {
     "data": {
      "text/html": [
       "<div><style>\n",
       ".dataframe > thead > tr,\n",
       ".dataframe > tbody > tr {\n",
       "  text-align: right;\n",
       "  white-space: pre-wrap;\n",
       "}\n",
       "</style>\n",
       "<small>shape: (5, 3)</small><table border=\"1\" class=\"dataframe\"><thead><tr><th>product</th><th>similar_product</th><th>similarity</th></tr><tr><td>i64</td><td>i64</td><td>f64</td></tr></thead><tbody><tr><td>32776</td><td>14863</td><td>0.959358</td></tr><tr><td>32776</td><td>39419</td><td>0.955601</td></tr><tr><td>32776</td><td>35047</td><td>0.955337</td></tr><tr><td>32776</td><td>9284</td><td>0.947821</td></tr><tr><td>32776</td><td>9002</td><td>0.943472</td></tr></tbody></table></div>"
      ],
      "text/plain": [
       "shape: (5, 3)\n",
       "┌─────────┬─────────────────┬────────────┐\n",
       "│ product ┆ similar_product ┆ similarity │\n",
       "│ ---     ┆ ---             ┆ ---        │\n",
       "│ i64     ┆ i64             ┆ f64        │\n",
       "╞═════════╪═════════════════╪════════════╡\n",
       "│ 32776   ┆ 14863           ┆ 0.959358   │\n",
       "│ 32776   ┆ 39419           ┆ 0.955601   │\n",
       "│ 32776   ┆ 35047           ┆ 0.955337   │\n",
       "│ 32776   ┆ 9284            ┆ 0.947821   │\n",
       "│ 32776   ┆ 9002            ┆ 0.943472   │\n",
       "└─────────┴─────────────────┴────────────┘"
      ]
     },
     "execution_count": 6,
     "metadata": {},
     "output_type": "execute_result"
    }
   ],
   "source": [
    "from config import PROD_TOP_SIMILAR_PATH\n",
    "top10 = pl.read_parquet(PROD_TOP_SIMILAR_PATH)\n",
    "top10.head()"
   ]
  },
  {
   "cell_type": "code",
   "execution_count": 8,
   "metadata": {},
   "outputs": [
    {
     "name": "stdout",
     "output_type": "stream",
     "text": [
      "Total products:  42265\n"
     ]
    }
   ],
   "source": [
    "print(\"Total products: \", top10['product'].n_unique())"
   ]
  }
 ],
 "metadata": {
  "kernelspec": {
   "display_name": ".venv",
   "language": "python",
   "name": "python3"
  },
  "language_info": {
   "codemirror_mode": {
    "name": "ipython",
    "version": 3
   },
   "file_extension": ".py",
   "mimetype": "text/x-python",
   "name": "python",
   "nbconvert_exporter": "python",
   "pygments_lexer": "ipython3",
   "version": "3.12.4"
  }
 },
 "nbformat": 4,
 "nbformat_minor": 2
}
