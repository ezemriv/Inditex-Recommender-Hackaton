{
 "cells": [
  {
   "cell_type": "code",
   "execution_count": 12,
   "metadata": {},
   "outputs": [],
   "source": [
    "example_sub = {\n",
    "    \"target\": {\n",
    "        \"746\": [\n",
    "            2347,\n",
    "            42,\n",
    "            648,\n",
    "            3423,\n",
    "            23478\n",
    "        ],\n",
    "        \"1364\": [\n",
    "            2348,\n",
    "            94562,\n",
    "            12,\n",
    "            327,\n",
    "            2347\n",
    "        ],\n",
    "        \"1377\": [\n",
    "            237,\n",
    "            12389,\n",
    "            426,\n",
    "            5328,\n",
    "            2347\n",
    "        ]\n",
    "    }\n",
    "}"
   ]
  },
  {
   "cell_type": "code",
   "execution_count": 13,
   "metadata": {},
   "outputs": [
    {
     "data": {
      "text/plain": [
       "{'746': [2347, 42, 648, 3423, 23478],\n",
       " '1364': [2348, 94562, 12, 327, 2347],\n",
       " '1377': [237, 12389, 426, 5328, 2347]}"
      ]
     },
     "execution_count": 13,
     "metadata": {},
     "output_type": "execute_result"
    }
   ],
   "source": [
    "example_sub['target']"
   ]
  },
  {
   "cell_type": "code",
   "execution_count": 14,
   "metadata": {},
   "outputs": [
    {
     "name": "stdout",
     "output_type": "stream",
     "text": [
      "{'target': {'746': [5222, 37733, 3061, 15276, 34704], '1364': [5222, 3061, 264, 9145, 15276], '1377': [5222, 37733, 13353, 16469, 563]}}\n"
     ]
    }
   ],
   "source": [
    "import json\n",
    "sub3 = \"/home/ezemriv/other_projects/hackathon-inditex-data-recommender/predictions/predictions_3.json\"\n",
    "\n",
    "with open(sub3) as f:\n",
    "    sub3 = json.load(f)\n",
    "\n",
    "for key in [\"746\", \"1364\", \"1377\"]:\n",
    "    example_sub['target'][key] = sub3['target'][key]\n",
    "\n",
    "print(example_sub)"
   ]
  },
  {
   "cell_type": "code",
   "execution_count": 15,
   "metadata": {},
   "outputs": [],
   "source": [
    "with open('/home/ezemriv/other_projects/hackathon-inditex-data-recommender/predictions/predictions_3.json', 'w') as f:\n",
    "    json.dump(example_sub, f, indent=4)"
   ]
  }
 ],
 "metadata": {
  "kernelspec": {
   "display_name": ".venv",
   "language": "python",
   "name": "python3"
  },
  "language_info": {
   "codemirror_mode": {
    "name": "ipython",
    "version": 3
   },
   "file_extension": ".py",
   "mimetype": "text/x-python",
   "name": "python",
   "nbconvert_exporter": "python",
   "pygments_lexer": "ipython3",
   "version": "3.12.4"
  }
 },
 "nbformat": 4,
 "nbformat_minor": 2
}
