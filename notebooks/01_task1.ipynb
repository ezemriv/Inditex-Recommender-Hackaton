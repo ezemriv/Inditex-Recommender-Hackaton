{
 "cells": [
  {
   "cell_type": "markdown",
   "metadata": {},
   "source": [
    "# Task 1"
   ]
  },
  {
   "cell_type": "code",
   "execution_count": 6,
   "metadata": {},
   "outputs": [],
   "source": [
    "import os\n",
    "import sys\n",
    "\n",
    "# root path\n",
    "ROOT = os.path.abspath(os.path.join(os.getcwd(), '..'))\n",
    "\n",
    "# Add the project root to the Python path\n",
    "if ROOT not in sys.path:\n",
    "    sys.path.append(ROOT)\n",
    "\n",
    "import polars as pl\n",
    "import pandas as pd"
   ]
  },
  {
   "cell_type": "markdown",
   "metadata": {},
   "source": [
    "## Paths"
   ]
  },
  {
   "cell_type": "code",
   "execution_count": 10,
   "metadata": {},
   "outputs": [],
   "source": [
    "DATA_PATH = os.path.join(ROOT, 'data')\n",
    "RAW_DATA_PATH = os.path.join(DATA_PATH, 'raw')\n",
    "\n",
    "USERS_RAW_PATH = os.path.join(RAW_DATA_PATH, 'user_batches')\n",
    "USERS_CLEAN_PATH = os.path.join(DATA_PATH, 'processed', 'users.parquet')\n",
    "\n",
    "TRAIN_PATH = os.path.join(DATA_PATH, 'raw', 'train.csv')\n",
    "\n",
    "PRODUCTS_PATH = os.path.join(DATA_PATH, 'raw', 'products.pkl')\n",
    "\n",
    "SUBMISSION_1_PATH = os.path.join(ROOT, 'predictions', 'example_predictions_1.json')"
   ]
  },
  {
   "cell_type": "code",
   "execution_count": 12,
   "metadata": {},
   "outputs": [],
   "source": [
    "# Load sample submission json\n",
    "import json\n",
    "submission = json.load(open(SUBMISSION_1_PATH))"
   ]
  },
  {
   "cell_type": "code",
   "execution_count": 32,
   "metadata": {},
   "outputs": [
    {
     "data": {
      "text/plain": [
       "{'target': {'query_1': {'partnumber': 17265},\n",
       "  'query_2': {'user_id': 34572},\n",
       "  'query_3': {'average_previous_visits': 5.52},\n",
       "  'query_4': {'device_type': 23},\n",
       "  'query_5': {'user_id': 123734},\n",
       "  'query_6': {'unique_families': 2357},\n",
       "  'query_7': {'1': 3, '2': 5, '3': 3, '4': 9, '5': 5, '6': 1}}}"
      ]
     },
     "execution_count": 32,
     "metadata": {},
     "output_type": "execute_result"
    }
   ],
   "source": [
    "submission"
   ]
  },
  {
   "cell_type": "markdown",
   "metadata": {},
   "source": [
    "## Query 1\n",
    "\n",
    "Which product (partnumber) with color_id equal to 3 belongs to the lowest family code with a discount?"
   ]
  },
  {
   "cell_type": "code",
   "execution_count": 31,
   "metadata": {},
   "outputs": [],
   "source": [
    "prods = pl.from_pandas(pd.read_pickle(PRODUCTS_PATH))\n",
    "\n",
    "q1 = prods.sql(\"\"\"\n",
    "          SELECT partnumber\n",
    "          FROM self\n",
    "          WHERE color_id = 3\n",
    "          AND discount = 1\n",
    "          AND family = MIN(family)\n",
    "          \"\"\").item()\n",
    "\n",
    "submission['target']['query_1'] = {'partnumber': q1}"
   ]
  },
  {
   "cell_type": "markdown",
   "metadata": {},
   "source": [
    "## Query 2\n",
    "\n",
    "In the country where most users have made purchases totaling less than 500 (M), which is the user with:\n",
    "\n",
    "- Lowest purchase frequency (F)\n",
    "- Most recent purchase (R)\n",
    "- Lowest user_id (tie-breaker)?"
   ]
  },
  {
   "cell_type": "code",
   "execution_count": 54,
   "metadata": {},
   "outputs": [],
   "source": [
    "from src.data.loaders import PolarsLoader\n",
    "\n",
    "loader = PolarsLoader(sampling=False, file_type='parquet')\n",
    "users = loader.load_data(USERS_CLEAN_PATH)"
   ]
  },
  {
   "cell_type": "code",
   "execution_count": 71,
   "metadata": {},
   "outputs": [
    {
     "data": {
      "text/plain": [
       "25"
      ]
     },
     "execution_count": 71,
     "metadata": {},
     "output_type": "execute_result"
    }
   ],
   "source": [
    "country = (users\n",
    "           .filter(pl.col('M') < 500)\n",
    "           .group_by('country')\n",
    "           .len()\n",
    "           .sort(by='len', descending=True)\n",
    "           .head(1)\n",
    "           )['country'].item()\n",
    "country"
   ]
  },
  {
   "cell_type": "code",
   "execution_count": 72,
   "metadata": {},
   "outputs": [
    {
     "data": {
      "text/html": [
       "<div><style>\n",
       ".dataframe > thead > tr,\n",
       ".dataframe > tbody > tr {\n",
       "  text-align: right;\n",
       "  white-space: pre-wrap;\n",
       "}\n",
       "</style>\n",
       "<small>shape: (554_259, 5)</small><table border=\"1\" class=\"dataframe\"><thead><tr><th>country</th><th>R</th><th>F</th><th>M</th><th>user_id</th></tr><tr><td>i64</td><td>i64</td><td>i64</td><td>f64</td><td>i64</td></tr></thead><tbody><tr><td>25</td><td>30</td><td>0</td><td>0.0</td><td>430102</td></tr><tr><td>25</td><td>177</td><td>1</td><td>75.9</td><td>134198</td></tr><tr><td>25</td><td>32</td><td>61</td><td>37.694058</td><td>134207</td></tr><tr><td>25</td><td>74</td><td>86</td><td>11.64094</td><td>180365</td></tr><tr><td>25</td><td>79</td><td>5</td><td>30.283333</td><td>430101</td></tr><tr><td>&hellip;</td><td>&hellip;</td><td>&hellip;</td><td>&hellip;</td><td>&hellip;</td></tr><tr><td>25</td><td>155</td><td>9</td><td>17.423636</td><td>389294</td></tr><tr><td>25</td><td>62</td><td>16</td><td>45.104706</td><td>389292</td></tr><tr><td>25</td><td>8</td><td>74</td><td>36.052632</td><td>389298</td></tr><tr><td>25</td><td>15</td><td>26</td><td>20.201622</td><td>389296</td></tr><tr><td>25</td><td>15</td><td>13</td><td>93.662308</td><td>389297</td></tr></tbody></table></div>"
      ],
      "text/plain": [
       "shape: (554_259, 5)\n",
       "┌─────────┬─────┬─────┬───────────┬─────────┐\n",
       "│ country ┆ R   ┆ F   ┆ M         ┆ user_id │\n",
       "│ ---     ┆ --- ┆ --- ┆ ---       ┆ ---     │\n",
       "│ i64     ┆ i64 ┆ i64 ┆ f64       ┆ i64     │\n",
       "╞═════════╪═════╪═════╪═══════════╪═════════╡\n",
       "│ 25      ┆ 30  ┆ 0   ┆ 0.0       ┆ 430102  │\n",
       "│ 25      ┆ 177 ┆ 1   ┆ 75.9      ┆ 134198  │\n",
       "│ 25      ┆ 32  ┆ 61  ┆ 37.694058 ┆ 134207  │\n",
       "│ 25      ┆ 74  ┆ 86  ┆ 11.64094  ┆ 180365  │\n",
       "│ 25      ┆ 79  ┆ 5   ┆ 30.283333 ┆ 430101  │\n",
       "│ …       ┆ …   ┆ …   ┆ …         ┆ …       │\n",
       "│ 25      ┆ 155 ┆ 9   ┆ 17.423636 ┆ 389294  │\n",
       "│ 25      ┆ 62  ┆ 16  ┆ 45.104706 ┆ 389292  │\n",
       "│ 25      ┆ 8   ┆ 74  ┆ 36.052632 ┆ 389298  │\n",
       "│ 25      ┆ 15  ┆ 26  ┆ 20.201622 ┆ 389296  │\n",
       "│ 25      ┆ 15  ┆ 13  ┆ 93.662308 ┆ 389297  │\n",
       "└─────────┴─────┴─────┴───────────┴─────────┘"
      ]
     },
     "execution_count": 72,
     "metadata": {},
     "output_type": "execute_result"
    }
   ],
   "source": [
    "users.filter(pl.col('country') == country)"
   ]
  }
 ],
 "metadata": {
  "kernelspec": {
   "display_name": ".venv",
   "language": "python",
   "name": "python3"
  },
  "language_info": {
   "codemirror_mode": {
    "name": "ipython",
    "version": 3
   },
   "file_extension": ".py",
   "mimetype": "text/x-python",
   "name": "python",
   "nbconvert_exporter": "python",
   "pygments_lexer": "ipython3",
   "version": "3.12.4"
  }
 },
 "nbformat": 4,
 "nbformat_minor": 2
}
